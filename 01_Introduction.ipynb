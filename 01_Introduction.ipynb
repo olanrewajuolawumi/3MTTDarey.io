{
  "cells": [
    {
      "cell_type": "markdown",
      "metadata": {
        "id": "view-in-github",
        "colab_type": "text"
      },
      "source": [
        "<a href=\"https://colab.research.google.com/github/olanrewajuolawumi/3MTTDarey.io/blob/main/01_Introduction.ipynb\" target=\"_parent\"><img src=\"https://colab.research.google.com/assets/colab-badge.svg\" alt=\"Open In Colab\"/></a>"
      ]
    },
    {
      "cell_type": "markdown",
      "id": "58db55b8",
      "metadata": {
        "id": "58db55b8"
      },
      "source": [
        "## 👏 Welcome\n",
        "\n",
        "Dear student, we are pleased to have you join us on this transformational journey to being a data scientist. As your Sensei we will guide you through the fundamentals of Python programming. Whether you are completely new to coding or looking to sharpen your skills, this course is designed to provide you with the building blocks you need to become a Data Scientist.\n",
        "\n",
        "This is is the program is divided into 16 weeks (4 months) comprehensive learning process and 32 weeks (8 months) for real-world capstone projects. It is made up of 6 modules namely:\n",
        "\n",
        "1. Introduction to Data, Data science and Python Programming Basics\n",
        "2. Python for Data Science\n",
        "3. Mathematics for Data Science\n",
        "4. Exploratory Data Analysis (EDA)\n",
        "5. Inferential Statistics\n",
        "6. Machine Learning\n",
        "\n",
        "\n",
        "## 🎯 What is our goal?\n",
        "\n",
        "**Our goal is to make learning fun, practical, and directly applicable to solving real-world problems and driving innovative solutions.**"
      ]
    },
    {
      "cell_type": "markdown",
      "id": "e6d32346",
      "metadata": {
        "id": "e6d32346"
      },
      "source": [
        "## 🖥️ Module 1\n",
        "The best place to start is from the very beginning and that is the purpose of this module.\n",
        "\n",
        "### Learning outcomes\n",
        "Upon completing this module, you would have:\n",
        "\n",
        "- Gained foundational knowledge of the data science process, including data collection, cleaning, analysis, and modeling, and explore career opportunities in data science\n",
        "- Understood Python programming elements like variables, data types, operators, control structures, and functions, to build a strong programming base.\n",
        "- Developed problem-solving skills through hands-on activities\n",
        "- Explored object-oriented programming, modules, exception handling, regular expressions, and basic database interactions to prepare for more complex programming tasks."
      ]
    },
    {
      "cell_type": "markdown",
      "id": "02e43430",
      "metadata": {
        "id": "02e43430"
      },
      "source": [
        "## Introduction to Data & Data Science\n",
        "\n",
        "### 🌟 What is Data?\n",
        "\n",
        "Let's assume its a Saturday morning and there is a supermarket e.g Market Square, JustRite, etc near you. Every time you or someone buys a item(s), the supermarket collects information like the product (cornflakes), brand (Nasco), quantity (5 packs), time of the day (10:00 am), cost (#2,500), payment method (transfer), etc. All these small pieces of information are data! At its core, data is simply raw facts, figures, or information collected from observations or measurements. Data can be numbers, words, images, clicks on a website, or even the steps you track on your fitness app!\n",
        "\n",
        "Imagine the data that is generated from just one point of the contact (the supermarket) for one action (buying) that you performed, now multiply it when you perform several actions (walking, social media usage, watching videos and movies, Bill payments) from different points of contacts (Netflix, Nike Run Club, Facebook, Opay), that's a lot of data points.With over 2.5 quintillion bytes of data created every day, we’re in the era of Big Data – a time when businesses and individuals produce tons of data at lightning speed.\n",
        "\n",
        "### 📈 Why is Data Important?\n",
        "\n",
        "Think about all the ways you use data daily: navigating with maps, getting song recommendations, or personalizing your social media feed. Data helps us make informed decisions, uncover trends and patterns, and solve complex problems. In business, using data can mean the difference between making a product that customers love or launching one that flops. For instance, Netflix uses data on viewing habits to suggest shows that keep you binge-watching 🎬📊!\n",
        "\n",
        "### 🧠 Why Should You Care About Data Science?\n",
        "\n",
        "With data flooding in from everywhere, companies need experts to make sense of it all – that’s where Data Science comes in. Data science is the field that combines math, statistics, coding, and domain expertise to extract insights and build predictive models. Data scientists can analyze customer behavior, detect fraud, recommend products, predict stock prices, and so much more. It’s a role that helps shape strategies, innovate products, and, ultimately, drive a company’s success.\n",
        "\n",
        "Data Science has been ranked as one of the most promising fields of the 21st century. According to the U.S. Bureau of Labor Statistics, demand for data scientists is expected to grow by 36% between 2021 and 2031, much faster than the average for all occupations.\n",
        "\n",
        "### 🛠️ The Data Science Process: Your Roadmap\n",
        "\n",
        "Let’s break down the steps that data scientists typically follow. Each part of this process is relies on the preceding one to convert raw data into valuable insights.\n",
        "\n",
        "`1. Data Collection 📥`\n",
        "\n",
        "Data comes from various sources: surveys, sensors, transactions, social media, and more. For example, Uber collects location data to optimize routes. Without this initial data collection, you have nothing to analyze! How else do you think Spotify Wrapped is created\n",
        "\n",
        "`2. Data Cleaning 🧼`\n",
        "\n",
        "Once we have data, it often needs some serious TLC. Data cleaning is the process of removing duplicates, filling in missing values, and correcting errors. Imagine trying to analyze data with spelling errors or missing information – it would be like trying to solve a puzzle with missing pieces! A good example of such case is a survey form with options like “N/A” or “Other”. This step ensures that responses make sense for analysis.\n",
        "\n",
        "`3. Exploratory Data Analysis (EDA) 🔍`\n",
        "\n",
        "Here, data scientists dig into the data to understand its structure and trends. Through visualizations like graphs and charts, we get a sense of patterns, anomalies, or insights. For example, during the COVID-19 pandemic, analysts observed infection trends through visual graphs, which helped governments make crucial health decisions.\n",
        "\n",
        "`4. Modeling 🤖`\n",
        "\n",
        "This is where the real magic happens! Using statistical methods and machine learning algorithms, data scientists create models that can predict outcomes or classify information. For instance, Amazon uses models to recommend products you’re likely to buy based on your browsing history.\n",
        "\n",
        "`5. Evaluation ✅`\n",
        "\n",
        "No model is complete without testing! The evaluation step assesses how accurate or effective a model is. Imagine creating a weather prediction model – accuracy is crucial to ensure people can rely on it!\n",
        "\n",
        "`6. Deployment & Monitoring 🚀`\n",
        "\n",
        "Finally, we put the model to work. But it doesn’t end there – ongoing monitoring is necessary to ensure the model performs well in the real world. For instance, a fraud detection model in banking must be continuously updated to stay ahead of new scam techniques.\n",
        "\n",
        "_As you can see, data science is a fascinating, dynamic field that combines different skills to turn raw data into meaningful insights and solutions. Data science is like detective work 🕵️ – you gather clues (data), clean up the evidence (data cleaning), look for patterns (analysis), and create a profile (model) to solve the case (make decisions)!_\n",
        "\n",
        "By the end of this course, you’ll have hands-on experience with these steps and the knowledge to tackle real-world data challenges.\n",
        "\n",
        "### 🤔 However, wouldn't AI Take the Jobs of Data Scientists?\n",
        "\n",
        "The short answer is no. Let's look at why data scientists will still remain relevant.\n",
        "\n",
        "**1. Human Insight & Problem Definition**\n",
        "\n",
        "AI is powerful but lacks the nuanced understanding that humans bring to defining complex problems. Data scientists not only handle the data but also understand business objectives and identify relevant questions to solve. For example, only a data scientist could help an e-commerce company decide which customer segments to target and what kind of model would be most effective for personalized recommendations.\n",
        "\n",
        "**2. Data Cleaning & Preparation**\n",
        "\n",
        "Anyone who’s spent time in data science knows that data cleaning takes up a huge chunk of the work. AI can assist with certain repetitive tasks, but data preparation requires a level of context and domain expertise. Data scientists understand that certain anomalies could be essential patterns rather than errors.\n",
        "\n",
        "**3. Model Selection and Interpretation**\n",
        "\n",
        "AI can automate the process of choosing and testing models, but interpreting model results is a different story. A data scientist can look at a model’s output and adjust parameters, fine-tune features, or pivot to another approach if the results don’t align with business needs. Interpreting and explaining these results to non-technical teams also requires communication skills that go beyond what AI can offer.\n",
        "\n",
        "**4. Ethics & Bias in Data**\n",
        "\n",
        "AI models learn from data but can also adopt the biases present in it. Data scientists act as “ethical guards,” ensuring that models are fair, transparent, and align with company values. For example, a data scientist can identify and correct a model that inadvertently discriminates against certain demographics, something an AI might overlook entirely."
      ]
    },
    {
      "cell_type": "markdown",
      "id": "3b2ab21d",
      "metadata": {
        "id": "3b2ab21d"
      },
      "source": [
        "### 👨‍💻Career Opportunities in the Data field\n",
        "\n",
        "Data science is a dynamic and expanding field with various roles that align with different skills, interests, and expertise levels.\n",
        "\n",
        "P.S. Data roles are not limited to those mentioned in the table below.\n",
        "\n",
        "| **Role**  | **Description**| **Skills**|\n",
        "|-----------|-----------------|----------|\n",
        "| **Data Analyst** | Clean, process, and analyze data to help organizations make informed decisions| Data manipulation, SQL, Excel, data visualization tools (Tableau/Power BI).|\n",
        "| **Data Scientist** | Use advanced analytics and machine learning models to derive insights from data and create predictive models.| Strong programming (Python/R), statistical analysis, machine learning, data wrangling, and EDA.|\n",
        "| **Machine Learning Engineer** | Specializes in implementing machine learning models in production, focusing on scalable, efficient solutions.| Deep understanding of machine learning algorithms, coding proficiency, software engineering principles, and familiarity with cloud platforms.|\n",
        "| **Data Engineer** | Data engineers focus on creating the infrastructure for data generation, storage, and accessibility. | SQL, data pipeline creation, ETL (Extract, Transform, Load) processes, familiarity with big data technologies (Hadoop, Spark).|\n",
        "| **Business Intelligence (BI) Developer** | BI developers design and implement tools and dashboards that allow business users to understand data.| Expertise in data visualization, SQL, BI tools (Tableau, Power BI), and an understanding of business processes.|\n",
        "| **Data Science Consultant** | Consults on data science solutions to help businesses solve complex problems, often as an external expert.| Strong technical skills in data analysis and machine learning, excellent communication, and business acumen.|\n",
        "| **Data Architect** | Designs and manages data architecture, including data storage, organization, and maintenance, ensuring data integrity and security.| Expertise in database design, data modeling, data warehousing, SQL, and cloud infrastructure (AWS, Azure).|\n",
        "| **Data Product Manager** | Oversees the development and lifecycle of data products, aligning them with business goals and ensuring they add value to stakeholders.| Product management skills, understanding of data science and analytics, stakeholder management, and communication skills.|                                    \n",
        "| **AI Researcher** | Focuses on advancing the field of artificial intelligence through research, often creating new algorithms or improving existing ones.| Strong knowledge of machine learning and AI, research skills, proficiency in programming (Python, R), and familiarity with frameworks like TensorFlow.|\n",
        "| **MLOps Engineer**| Manages and automates machine learning workflows to ensure reliable and scalable deployment and operation of ML models in production.| Skills in software development, CI/CD pipelines, Docker, Kubernetes, cloud services, and model monitoring tools.|                                                          |\n",
        "| **Analytics Engineer** | Combines software engineering and data skills to build robust analytics pipelines and ensure data availability for analysis.| Proficiency in SQL, data modeling, ETL development, and analytics tools (dbt, Snowflake).|\n",
        "| **Specialized Data Roles** | These roles focus on specific subfields of data science, like natural language processing (NLP) or computer vision. | Advanced knowledge in specific subfields, such as NLP libraries (spaCy, NLTK) or computer vision frameworks (OpenCV).|\n"
      ]
    },
    {
      "cell_type": "markdown",
      "source": [
        "This is my first notebook"
      ],
      "metadata": {
        "id": "-4XrpMghdz29"
      },
      "id": "-4XrpMghdz29"
    },
    {
      "cell_type": "code",
      "source": [
        "print(\"My name is Hannah\")"
      ],
      "metadata": {
        "colab": {
          "base_uri": "https://localhost:8080/"
        },
        "id": "FeFjQOzSd4Fi",
        "outputId": "f46f37aa-57e6-46f2-ab0d-bed8434e8a4c"
      },
      "id": "FeFjQOzSd4Fi",
      "execution_count": 1,
      "outputs": [
        {
          "output_type": "stream",
          "name": "stdout",
          "text": [
            "My name is Hannah\n"
          ]
        }
      ]
    },
    {
      "cell_type": "code",
      "source": [],
      "metadata": {
        "id": "O-clzBYed2JE"
      },
      "id": "O-clzBYed2JE",
      "execution_count": null,
      "outputs": []
    }
  ],
  "metadata": {
    "kernelspec": {
      "display_name": "Python 3 (ipykernel)",
      "language": "python",
      "name": "python3"
    },
    "language_info": {
      "codemirror_mode": {
        "name": "ipython",
        "version": 3
      },
      "file_extension": ".py",
      "mimetype": "text/x-python",
      "name": "python",
      "nbconvert_exporter": "python",
      "pygments_lexer": "ipython3",
      "version": "3.12.7"
    },
    "colab": {
      "provenance": [],
      "include_colab_link": true
    }
  },
  "nbformat": 4,
  "nbformat_minor": 5
}