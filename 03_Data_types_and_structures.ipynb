{
  "cells": [
    {
      "cell_type": "markdown",
      "metadata": {
        "id": "view-in-github",
        "colab_type": "text"
      },
      "source": [
        "<a href=\"https://colab.research.google.com/github/olanrewajuolawumi/3MTTDarey.io/blob/main/03_Data_types_and_structures.ipynb\" target=\"_parent\"><img src=\"https://colab.research.google.com/assets/colab-badge.svg\" alt=\"Open In Colab\"/></a>"
      ]
    },
    {
      "cell_type": "markdown",
      "id": "26124090",
      "metadata": {
        "id": "26124090"
      },
      "source": [
        "# B. Data types and structures\n",
        "\n",
        "\n",
        "In the previous section, we mentioned variables can be used to store strings,integers etc.... but what exactly are they?\n",
        "\n",
        "![Python_data_structures.png](https://drive.google.com/uc?export=view&id=1TsisNUb9AjKHCbkN6dbdLsKHNc69g2mr)\n",
        "\n",
        "\n",
        "In the image above, you would see \"python data structures\" is divided into two:\n",
        "\n",
        "- Primitive: these are the most basic building blocks of data in python. They represent single values of a specific data type (remember we said that variables can be used to store integers, booleans, strings and float). In other words primitve python data structures are also known as `Data types`.\n",
        "\n",
        "- Non-Primitive\n",
        "Non-primitive data structures, also known as `composite data types`, are more complex and can store multiple values. They are built using primitive data types and provide ways to organize and manage data efficiently. It is further divided into two:\n",
        "\n",
        "    - Built-in\n",
        "    - User defined\n",
        "    \n",
        "**For the scope of this course, we'll focus on built in data structures.**"
      ]
    },
    {
      "cell_type": "markdown",
      "id": "59513e5f",
      "metadata": {
        "id": "59513e5f"
      },
      "source": [
        "### Primitive data structures\n",
        "\n",
        "#### 1. Strings (text data)\n",
        "\n",
        "A string in Python is a sequence of characters enclosed within quotes. It can represent anything from a single letter to an entire sentence."
      ]
    },
    {
      "cell_type": "code",
      "execution_count": null,
      "id": "29c5c750",
      "metadata": {
        "id": "29c5c750",
        "outputId": "a2b30606-e6f6-40f2-a2c5-f02fb5b8c37a",
        "colab": {
          "base_uri": "https://localhost:8080/"
        }
      },
      "outputs": [
        {
          "output_type": "stream",
          "name": "stdout",
          "text": [
            "Ore\n",
            "My name is Hannah Igboke\n"
          ]
        }
      ],
      "source": [
        "#Ore's name as a string\n",
        "name = 'Ore'\n",
        "\n",
        "print(name)\n",
        "\n",
        "# Job title as a string\n",
        "job_title = \"My name is Hannah Igboke\"\n",
        "print(job_title)"
      ]
    },
    {
      "cell_type": "code",
      "execution_count": null,
      "id": "46605222",
      "metadata": {
        "id": "46605222",
        "outputId": "69c23352-d4b9-430e-86c0-7aa935c8dd80",
        "colab": {
          "base_uri": "https://localhost:8080/"
        }
      },
      "outputs": [
        {
          "output_type": "stream",
          "name": "stdout",
          "text": [
            "n\n",
            "We are learning python ! there\n",
            "we are learning python ! \n",
            "WE ARE LEARNING PYTHON ! \n",
            "We are learning python !\n"
          ]
        }
      ],
      "source": [
        "s = \"We are learning python ! \"\n",
        "\n",
        "#print(len(s))\n",
        "#print(s[2])\n",
        "#print(s[1])\n",
        "\n",
        "print(s[-4])\n",
        "print(s+ 'there')\n",
        "print(s.lower())\n",
        "print(s.upper())\n",
        "print(s.strip())"
      ]
    },
    {
      "cell_type": "code",
      "execution_count": null,
      "id": "dda6dfad",
      "metadata": {
        "id": "dda6dfad",
        "outputId": "c54260da-7eed-400d-c121-f75f82a553b4",
        "colab": {
          "base_uri": "https://localhost:8080/"
        }
      },
      "outputs": [
        {
          "output_type": "stream",
          "name": "stdout",
          "text": [
            "7\n"
          ]
        }
      ],
      "source": [
        "print(s.find('learning'))\n",
        "\n",
        "#returns the index at which the word \"learning\" starts"
      ]
    },
    {
      "cell_type": "code",
      "execution_count": null,
      "id": "78ab9e4d",
      "metadata": {
        "id": "78ab9e4d",
        "outputId": "ccb7d13e-caa1-4f65-ca30-1f87085e90c5",
        "colab": {
          "base_uri": "https://localhost:8080/",
          "height": 35
        }
      },
      "outputs": [
        {
          "output_type": "execute_result",
          "data": {
            "text/plain": [
              "'We are studying python ! '"
            ],
            "application/vnd.google.colaboratory.intrinsic+json": {
              "type": "string"
            }
          },
          "metadata": {},
          "execution_count": 11
        }
      ],
      "source": [
        "s = s.replace('learning', 'studying')\n",
        "s"
      ]
    },
    {
      "cell_type": "code",
      "execution_count": null,
      "id": "501a3bdc",
      "metadata": {
        "id": "501a3bdc",
        "outputId": "7a0fba76-33ec-42fa-a263-71b4bb861d9b",
        "colab": {
          "base_uri": "https://localhost:8080/"
        }
      },
      "outputs": [
        {
          "output_type": "execute_result",
          "data": {
            "text/plain": [
              "['We', 'are', 'studying', 'python', '!', '']"
            ]
          },
          "metadata": {},
          "execution_count": 12
        }
      ],
      "source": [
        "s_splitted = s.split(\" \")\n",
        "\n",
        "s_splitted"
      ]
    },
    {
      "cell_type": "code",
      "execution_count": null,
      "id": "6eb57348",
      "metadata": {
        "id": "6eb57348",
        "outputId": "0aec49ff-8eec-47bc-ca47-9f8375480ae8",
        "colab": {
          "base_uri": "https://localhost:8080/"
        }
      },
      "outputs": [
        {
          "output_type": "stream",
          "name": "stdout",
          "text": [
            "<class 'list'>\n"
          ]
        }
      ],
      "source": [
        "print(type(s_splitted))"
      ]
    },
    {
      "cell_type": "code",
      "execution_count": null,
      "id": "4dadbf81",
      "metadata": {
        "id": "4dadbf81",
        "outputId": "88c3b388-f3dd-4875-b7b0-b0eea13eae55",
        "colab": {
          "base_uri": "https://localhost:8080/",
          "height": 35
        }
      },
      "outputs": [
        {
          "output_type": "execute_result",
          "data": {
            "text/plain": [
              "'We are studying python ! '"
            ],
            "application/vnd.google.colaboratory.intrinsic+json": {
              "type": "string"
            }
          },
          "metadata": {},
          "execution_count": 14
        }
      ],
      "source": [
        "#joining a list of elements into a single string\n",
        "#this joins the elements of thes_splitted variable into a sentence or single string with each word seperated from the other by spaces\n",
        "\n",
        "s_joined = ' '.join(s_splitted)\n",
        "\n",
        "s_joined"
      ]
    },
    {
      "cell_type": "code",
      "execution_count": null,
      "id": "907e108c",
      "metadata": {
        "id": "907e108c",
        "outputId": "e78ce0f1-c4b8-4d5b-b9af-2a1a81692c0e"
      },
      "outputs": [
        {
          "name": "stdout",
          "output_type": "stream",
          "text": [
            "T\n",
            "ThatA\n",
            "TaAgy\n",
            "TAy\n",
            "yugIAtahT\n"
          ]
        }
      ],
      "source": [
        "y = 'ThatAIguy'\n",
        "\n",
        "print(y[-9])\n",
        "print(y[:5])\n",
        "print(y[::2])  #loops over the string and selects the second letter at each interval\n",
        "print(y[::4])\n",
        "print(y[::-1])"
      ]
    },
    {
      "cell_type": "markdown",
      "id": "bff487af",
      "metadata": {
        "id": "bff487af"
      },
      "source": [
        "#### 2. Integers (Whole Numbers)\n",
        "An integer represents whole numbers, both positive and negative, without a decimal point (e.g., 10, -5, 0)"
      ]
    },
    {
      "cell_type": "code",
      "execution_count": null,
      "id": "896ece7d",
      "metadata": {
        "id": "896ece7d",
        "colab": {
          "base_uri": "https://localhost:8080/"
        },
        "outputId": "c38c55dc-ee96-45eb-d8d9-d6e6e9766074"
      },
      "outputs": [
        {
          "output_type": "stream",
          "name": "stdout",
          "text": [
            "29\n",
            "-24\n"
          ]
        }
      ],
      "source": [
        "#What is Ore's age\n",
        "age = 29\n",
        "print(age)\n",
        "\n",
        "# Years of experience as an integer\n",
        "years_of_experience = 5\n",
        "print(years_of_experience - age)"
      ]
    },
    {
      "cell_type": "markdown",
      "id": "c137d5eb",
      "metadata": {
        "id": "c137d5eb"
      },
      "source": [
        "We just performed an operation in the print statement using the minus mathematical operator. More on operators later."
      ]
    },
    {
      "cell_type": "markdown",
      "id": "4de8a9db",
      "metadata": {
        "id": "4de8a9db"
      },
      "source": [
        "#### 3. Floats (Decimal Numbers)\n",
        "\n",
        "A float is a number that contains a decimal point. Floats are often used to represent precise measurements."
      ]
    },
    {
      "cell_type": "code",
      "execution_count": null,
      "id": "15cfdf7e",
      "metadata": {
        "id": "15cfdf7e",
        "outputId": "a117743a-b2e2-44f1-e9f8-8fdcc137584b"
      },
      "outputs": [
        {
          "name": "stdout",
          "output_type": "stream",
          "text": [
            "75.4\n"
          ]
        }
      ],
      "source": [
        "# Ore's weight as a float\n",
        "weight = 75.4\n",
        "print(weight)"
      ]
    },
    {
      "cell_type": "markdown",
      "id": "82b0afef",
      "metadata": {
        "id": "82b0afef"
      },
      "source": [
        "#### 4. Booleans (True/False Values)\n",
        "A boolean represents one of two values: True or False. This data type is used for logical operations."
      ]
    },
    {
      "cell_type": "code",
      "execution_count": null,
      "id": "9aca17aa",
      "metadata": {
        "id": "9aca17aa",
        "outputId": "d6766a75-e0d4-4227-dcc3-ea44df8239fe"
      },
      "outputs": [
        {
          "name": "stdout",
          "output_type": "stream",
          "text": [
            "True\n"
          ]
        }
      ],
      "source": [
        "# Does Ore frequent the gym:)?\n",
        "is_gym_goer = True\n",
        "print(is_gym_goer)"
      ]
    },
    {
      "cell_type": "markdown",
      "id": "d041f1f0",
      "metadata": {
        "id": "d041f1f0"
      },
      "source": [
        "### Built in non-primitive data structures\n",
        "\n",
        "Before we move into the types of non-primitive data structures, first note that for each of the following data structures, that they are specific methods and attributes that work with them that allows us to retrieve information or manipulate them.\n",
        "\n",
        "**What are attributes and methods?**\n",
        "Imagine a data structure as a box.\n",
        "\n",
        "![Box.jpg](https://drive.google.com/uc?export=view&id=10uO85agwmTQsMhPGK3NSmXIFZKRcYpQ6)\n",
        "\n",
        "\n",
        "`Attributes` are like the labels on the box. They describe what's inside. For example, the box above might have labels like \"color,\" \"size,\" and \"material.\" In Python, a list might have attributes like \"length\" (how many items are in it) or \"type\" (whether it's a list of numbers, strings, or something else).\n",
        "\n",
        "`Methods` are like the tools you can use on the box. They let you do things with the contents. You could have a method to \"open the box,\" \"sort the contents by color,\" or \"count the contents.\" In Python, a list might have methods like \"append\" (to add a new item), \"remove\" (to take an item out), or \"sort\" (to arrange the items in order).\n",
        "\n",
        "One of the easiest ways to differentiate between an attribute and a method is in how they are used in a code.\n",
        "\n",
        "Attributes come in the form `function(variable_name)` -- e.g: `type(fruits)`\n",
        "\n",
        "The type attribute is focused on trying to find out what kind of data structure the fruits box is.\n",
        "\n",
        "While....\n",
        "\n",
        "Methods come in the form `variable_name.function()` -- e.g: `fruits.append('apple')`\n",
        "\n",
        "This adds a new content, apple to the fruits list.\n",
        "\n",
        "\n",
        "Now we know this, we can now study the data structures for more context."
      ]
    },
    {
      "cell_type": "markdown",
      "id": "9e8453e7",
      "metadata": {
        "id": "9e8453e7"
      },
      "source": [
        "#### 1. Lists (Ordered Collections)\n",
        "\n",
        "A list is an ordered collection of items that can be modified. Lists are useful when you need to store different data types. Lists are enclosed in square brackets []."
      ]
    },
    {
      "cell_type": "code",
      "execution_count": null,
      "id": "b6fccb02",
      "metadata": {
        "id": "b6fccb02",
        "outputId": "14d728d5-b91f-4116-a8bb-ee75fe9054a3",
        "colab": {
          "base_uri": "https://localhost:8080/"
        }
      },
      "outputs": [
        {
          "output_type": "stream",
          "name": "stdout",
          "text": [
            "<class 'list'>\n"
          ]
        }
      ],
      "source": [
        "#creating an empty list\n",
        "jobs = []\n",
        "print(type(jobs))"
      ]
    },
    {
      "cell_type": "code",
      "execution_count": null,
      "id": "b23f9b26",
      "metadata": {
        "id": "b23f9b26",
        "outputId": "7c65b0b1-7c44-4d5d-c1bb-01f647675de0",
        "colab": {
          "base_uri": "https://localhost:8080/"
        }
      },
      "outputs": [
        {
          "output_type": "stream",
          "name": "stdout",
          "text": [
            "<class 'list'>\n",
            "4\n"
          ]
        }
      ],
      "source": [
        "sea_animals = ['shark', 'dolphin', 'octopus', 'titus']\n",
        "print(type(sea_animals)) #what kind of data structure?\n",
        "print(len(sea_animals)) #what is the length of the data structure?"
      ]
    },
    {
      "cell_type": "code",
      "execution_count": null,
      "id": "da9a2354",
      "metadata": {
        "id": "da9a2354",
        "outputId": "ca955c75-86ea-4983-b71f-4db73e785e81",
        "colab": {
          "base_uri": "https://localhost:8080/"
        }
      },
      "outputs": [
        {
          "output_type": "stream",
          "name": "stdout",
          "text": [
            "['shark', 'dolphin', 'octopus', 'titus', True, 'NASA', 20.098, [34, 56, 'Kite']]\n"
          ]
        }
      ],
      "source": [
        "#remember we said that data structures could contain multiple types of primitive data structures\n",
        "sea_animals.append(True) #adding a boolean\n",
        "sea_animals.append('NASA') #a string\n",
        "sea_animals.append(20.098) #a float number\n",
        "sea_animals.append([34, 56, 'Kite']) # adding a list data structure within a list\n",
        "\n",
        "print(sea_animals)"
      ]
    },
    {
      "cell_type": "markdown",
      "id": "40540f08",
      "metadata": {
        "id": "40540f08"
      },
      "source": [
        "Let's do something interesting!!\n",
        "\n",
        "Imagine a grid of numbers:\n",
        "\n",
        "|Numbers| | |\n",
        "|---|---|---|\n",
        "| 1 | 2 | 3 |\n",
        "| 4 | 5 | 6 |\n",
        "| 7 | 8 | 9 |\n",
        "\n",
        "If you want to point to the number 9, you'd say, \"Go to the 3rd row, 3rd column.\"\n",
        "\n",
        "In programming terms, we'd express this as:\n",
        "Row: 2 (since we start counting from 0)\n",
        "\n",
        "Column: 2\n",
        "\n",
        "So, to access the number 9 in a program, we'd use something like `grid[2][2]`.\n",
        "\n",
        "This is called `Indexing`.\n",
        "\n",
        "Indexing is a fundamental operation in programming that allows you to access specific elements within a data structure."
      ]
    },
    {
      "cell_type": "code",
      "execution_count": null,
      "id": "b8646283",
      "metadata": {
        "id": "b8646283",
        "outputId": "6654842a-8cad-4f7b-a05d-1de032b6d38f"
      },
      "outputs": [
        {
          "name": "stdout",
          "output_type": "stream",
          "text": [
            "NASA\n"
          ]
        }
      ],
      "source": [
        "#applying indexing to our list\n",
        "\n",
        "#in our case, we are working with a one dimensional list\n",
        "print(sea_animals[5])\n",
        "\n",
        "#this would return the 6th element in the sea_animals list"
      ]
    },
    {
      "cell_type": "code",
      "execution_count": null,
      "id": "093bc67d",
      "metadata": {
        "id": "093bc67d",
        "outputId": "60d45fb3-ecc3-4d14-b100-8458cdeed88a",
        "colab": {
          "base_uri": "https://localhost:8080/"
        }
      },
      "outputs": [
        {
          "output_type": "stream",
          "name": "stdout",
          "text": [
            "Kite\n"
          ]
        }
      ],
      "source": [
        "print(sea_animals[7][2])"
      ]
    },
    {
      "cell_type": "markdown",
      "id": "01676109",
      "metadata": {
        "id": "01676109"
      },
      "source": [
        "The 8th element of the sea_animals list is another list. The code above therefore points to the second value in the internal list in the 7th position of the main list itself."
      ]
    },
    {
      "cell_type": "code",
      "execution_count": null,
      "id": "47e7608a",
      "metadata": {
        "id": "47e7608a",
        "outputId": "182d31be-5730-43c0-e8eb-027320a053e3"
      },
      "outputs": [
        {
          "name": "stdout",
          "output_type": "stream",
          "text": [
            "56\n"
          ]
        }
      ],
      "source": [
        "print(sea_animals[7][1])"
      ]
    },
    {
      "cell_type": "code",
      "execution_count": null,
      "id": "b07a8215",
      "metadata": {
        "id": "b07a8215",
        "outputId": "ad5114f7-dec0-4ba4-afe6-e440622daa8f"
      },
      "outputs": [
        {
          "name": "stdout",
          "output_type": "stream",
          "text": [
            "['shark', 'dolphin', 'octopus', 'I will work at NASA someday.', True, 'NASA', 20.098, [34, 'United states of America', 'Kite']]\n"
          ]
        }
      ],
      "source": [
        "#lists are mutable that means that they can be mofified after they have been created\n",
        "\n",
        "#modifies the 4th element\n",
        "sea_animals[3] = 'I will work at NASA someday.'\n",
        "\n",
        "#modifies the second value of the list at the 8th position\n",
        "sea_animals[7][1] = 'United states of America'\n",
        "print(sea_animals)"
      ]
    },
    {
      "cell_type": "code",
      "execution_count": null,
      "id": "61bcb377",
      "metadata": {
        "id": "61bcb377",
        "outputId": "d22b04e6-d85c-43da-a19f-8c3458646e6a"
      },
      "outputs": [
        {
          "name": "stdout",
          "output_type": "stream",
          "text": [
            "list before sorting:  [1, 5, 90, 87, 56, 43, 23, 21, 12, 34, 1, 2]\n",
            "list after sorting:  [1, 1, 2, 5, 12, 21, 23, 34, 43, 56, 87, 90]\n"
          ]
        }
      ],
      "source": [
        "#sorting a list - the list to be sorted should be homogenuous, i.e of the same data types\n",
        "\n",
        "fold = [1,5,90, 87, 56, 43, 23, 21, 12, 34, 1, 2]\n",
        "\n",
        "print('list before sorting: ', fold)\n",
        "\n",
        "fold.sort()\n",
        "\n",
        "print('list after sorting: ', fold)"
      ]
    },
    {
      "cell_type": "code",
      "execution_count": null,
      "id": "dfe366e1",
      "metadata": {
        "id": "dfe366e1",
        "outputId": "7bc33d67-1552-4521-dd65-60e0f8c0b594"
      },
      "outputs": [
        {
          "name": "stdout",
          "output_type": "stream",
          "text": [
            "['shark', 'dolphin', 'octopus', 'I will work at NASA someday.', True, 'NASA', 20.098, [34, 'United states of America', 'Kite'], 1, 1, 2, 5, 12, 21, 23, 34, 43, 56, 87, 90]\n"
          ]
        }
      ],
      "source": [
        "#extending the sea_animals list with the fold list\n",
        "sea_animals.extend(fold)\n",
        "\n",
        "print(sea_animals)"
      ]
    },
    {
      "cell_type": "code",
      "execution_count": null,
      "id": "3d46cf44",
      "metadata": {
        "id": "3d46cf44",
        "outputId": "05b840aa-a3de-440d-ba8a-eded0aaef4de"
      },
      "outputs": [
        {
          "name": "stdout",
          "output_type": "stream",
          "text": [
            "[90, 87, 56, 43, 34, 23, 21, 12, 5, 2, 1, 1]\n"
          ]
        }
      ],
      "source": [
        "#reversing the list\n",
        "fold.reverse()\n",
        "print(fold)"
      ]
    },
    {
      "cell_type": "code",
      "execution_count": null,
      "id": "e175e618",
      "metadata": {
        "id": "e175e618",
        "outputId": "0e6f2a76-5252-4f87-cf42-f5f33e959b79"
      },
      "outputs": [
        {
          "name": "stdout",
          "output_type": "stream",
          "text": [
            "['shark', 'dolphin', 'octopus', 'I will work at NASA someday.', True, 'NASA', 20.098, [34, 'United states of America', 'Kite'], 1, 1, 2, 5, 12, 21, 23, 34, 43, 56, 87, 90, 90, 87, 56, 43, 34, 23, 21, 12, 5, 2, 1, 1]\n"
          ]
        }
      ],
      "source": [
        "#concatenating lists using the '+' operator\n",
        "print(sea_animals+fold)"
      ]
    },
    {
      "cell_type": "markdown",
      "id": "e6d0e75b",
      "metadata": {
        "id": "e6d0e75b"
      },
      "source": [
        "#### 2. Tuple (Immutable Collections)\n",
        "\n",
        "An ordered collection of items, enclosed in parentheses (). Similar to lists, but they are immutable, meaning their elements cannot be changed after creation."
      ]
    },
    {
      "cell_type": "code",
      "execution_count": null,
      "id": "6f7bbfba",
      "metadata": {
        "id": "6f7bbfba",
        "outputId": "897441a5-3803-4bae-e1f6-8c050b4127f5"
      },
      "outputs": [
        {
          "name": "stdout",
          "output_type": "stream",
          "text": [
            "<class 'tuple'>\n"
          ]
        }
      ],
      "source": [
        "#creating an empty tuple\n",
        "table = ()\n",
        "print(type(table))"
      ]
    },
    {
      "cell_type": "code",
      "execution_count": null,
      "id": "56cac511",
      "metadata": {
        "id": "56cac511",
        "outputId": "81060c9e-cfbc-4926-9611-1e2d025e348d"
      },
      "outputs": [
        {
          "name": "stdout",
          "output_type": "stream",
          "text": [
            "<class 'tuple'>\n",
            "9\n",
            "('Bill Clinton', 1980)\n"
          ]
        }
      ],
      "source": [
        "#a tuple containing different data types and data structures\n",
        "table = (1, 'NASA', 'Bill Clinton', 1980, 1, 'FalseTrue', ('Another tuple'), 'NASA',  [1,2,3,4,5])\n",
        "\n",
        "#applying attributes\n",
        "print(type(table))\n",
        "print(len(table))\n",
        "\n",
        "#using indexing\n",
        "print(table[2:4]) #selects the 3rd and 4th values in the tuple"
      ]
    },
    {
      "cell_type": "code",
      "execution_count": null,
      "id": "edf65898",
      "metadata": {
        "id": "edf65898",
        "outputId": "bf9b4358-80f0-4310-e15f-88c861f9541b"
      },
      "outputs": [
        {
          "ename": "TypeError",
          "evalue": "'tuple' object does not support item assignment",
          "output_type": "error",
          "traceback": [
            "\u001b[1;31m---------------------------------------------------------------------------\u001b[0m",
            "\u001b[1;31mTypeError\u001b[0m                                 Traceback (most recent call last)",
            "\u001b[1;32m~\\AppData\\Local\\Temp\\ipykernel_9352\\3425368320.py\u001b[0m in \u001b[0;36m<module>\u001b[1;34m\u001b[0m\n\u001b[0;32m      1\u001b[0m \u001b[1;31m#tuples are immutable\u001b[0m\u001b[1;33m\u001b[0m\u001b[1;33m\u001b[0m\u001b[0m\n\u001b[0;32m      2\u001b[0m \u001b[1;33m\u001b[0m\u001b[0m\n\u001b[1;32m----> 3\u001b[1;33m \u001b[0mtable\u001b[0m\u001b[1;33m[\u001b[0m\u001b[1;36m2\u001b[0m\u001b[1;33m]\u001b[0m \u001b[1;33m=\u001b[0m \u001b[1;34m'Positive'\u001b[0m\u001b[1;33m\u001b[0m\u001b[1;33m\u001b[0m\u001b[0m\n\u001b[0m",
            "\u001b[1;31mTypeError\u001b[0m: 'tuple' object does not support item assignment"
          ]
        }
      ],
      "source": [
        "#tuples are immutable\n",
        "\n",
        "table[2] = 'Positive'"
      ]
    },
    {
      "cell_type": "markdown",
      "id": "c5acb1dd",
      "metadata": {
        "id": "c5acb1dd"
      },
      "source": [
        "This returns a TypeError showing that the values are immutable and cannot be changed once they have been created."
      ]
    },
    {
      "cell_type": "code",
      "execution_count": null,
      "id": "75452c76",
      "metadata": {
        "id": "75452c76",
        "outputId": "a7800991-76e4-42c0-96f4-2a267d9076d2"
      },
      "outputs": [
        {
          "name": "stdout",
          "output_type": "stream",
          "text": [
            "2\n"
          ]
        }
      ],
      "source": [
        "#methods\n",
        "\n",
        "#this counts the number of occurrence of the value in question\n",
        "print(table.count('NASA'))"
      ]
    },
    {
      "cell_type": "markdown",
      "id": "023cd8c6",
      "metadata": {
        "id": "023cd8c6"
      },
      "source": [
        "#### 3. Sets\n",
        "\n",
        "An unordered collection of unique items, enclosed in curly braces {} or created using the set() function. Sets do not allow duplicates."
      ]
    },
    {
      "cell_type": "code",
      "execution_count": null,
      "id": "ee682801",
      "metadata": {
        "id": "ee682801",
        "outputId": "f926b921-65a6-4ea6-83cc-9dc61e7bd86a"
      },
      "outputs": [
        {
          "name": "stdout",
          "output_type": "stream",
          "text": [
            "<class 'set'>\n"
          ]
        }
      ],
      "source": [
        "#one way to intialize sets\n",
        "this_set = set()\n",
        "print(type(this_set))"
      ]
    },
    {
      "cell_type": "code",
      "execution_count": null,
      "id": "a4164e10",
      "metadata": {
        "id": "a4164e10",
        "outputId": "d66ed2fe-5311-47f3-d08f-b3845d387792"
      },
      "outputs": [
        {
          "name": "stdout",
          "output_type": "stream",
          "text": [
            "{1, 2, 4, 5, 'NASA'}\n"
          ]
        }
      ],
      "source": [
        "this_set = set([1,1,2,4,5,'NASA'])\n",
        "\n",
        "print(this_set)\n",
        "#sets do not allow duplicate values"
      ]
    },
    {
      "cell_type": "code",
      "execution_count": null,
      "id": "c15cabbd",
      "metadata": {
        "id": "c15cabbd",
        "outputId": "42f69793-4f11-4d13-88c8-2aa638c6ba17"
      },
      "outputs": [
        {
          "name": "stdout",
          "output_type": "stream",
          "text": [
            "<class 'dict'>\n"
          ]
        }
      ],
      "source": [
        "s = {}\n",
        "print(type(s))"
      ]
    },
    {
      "cell_type": "code",
      "execution_count": null,
      "id": "beb43efe",
      "metadata": {
        "id": "beb43efe",
        "outputId": "5e4bcd9d-cd6c-4ee6-87eb-693278bfa343"
      },
      "outputs": [
        {
          "name": "stdout",
          "output_type": "stream",
          "text": [
            "<class 'set'>\n"
          ]
        }
      ],
      "source": [
        "#second way to intialize sets\n",
        "s = {1,2,3,4}\n",
        "print(type(s))"
      ]
    },
    {
      "cell_type": "code",
      "execution_count": null,
      "id": "f49eae92",
      "metadata": {
        "id": "f49eae92",
        "outputId": "9b472912-1004-4347-cb7b-14d7c7854f4f"
      },
      "outputs": [
        {
          "ename": "TypeError",
          "evalue": "'set' object does not support item assignment",
          "output_type": "error",
          "traceback": [
            "\u001b[1;31m---------------------------------------------------------------------------\u001b[0m",
            "\u001b[1;31mTypeError\u001b[0m                                 Traceback (most recent call last)",
            "\u001b[1;32m~\\AppData\\Local\\Temp\\ipykernel_9352\\2334259192.py\u001b[0m in \u001b[0;36m<module>\u001b[1;34m\u001b[0m\n\u001b[0;32m      1\u001b[0m \u001b[1;31m#sets cannot be indexed\u001b[0m\u001b[1;33m\u001b[0m\u001b[1;33m\u001b[0m\u001b[0m\n\u001b[1;32m----> 2\u001b[1;33m \u001b[0ms\u001b[0m\u001b[1;33m[\u001b[0m\u001b[1;36m2\u001b[0m\u001b[1;33m]\u001b[0m \u001b[1;33m=\u001b[0m \u001b[1;36m5\u001b[0m\u001b[1;33m\u001b[0m\u001b[1;33m\u001b[0m\u001b[0m\n\u001b[0m",
            "\u001b[1;31mTypeError\u001b[0m: 'set' object does not support item assignment"
          ]
        }
      ],
      "source": [
        "#sets cannot be indexed\n",
        "s[2] = 5"
      ]
    },
    {
      "cell_type": "code",
      "execution_count": null,
      "id": "7e92b4a9",
      "metadata": {
        "id": "7e92b4a9",
        "outputId": "1a517182-89b7-4c1b-f612-3ea7bf84b9ba"
      },
      "outputs": [
        {
          "name": "stdout",
          "output_type": "stream",
          "text": [
            "{1, 2, 3, 4, 5, 6, 7}\n",
            "{1, 2, 3, 4, 5, 6, 7}\n",
            "{4}\n",
            "{4}\n",
            "{1, 2, 3}\n",
            "{1, 2, 3}\n",
            "{5, 6, 7}\n",
            "{1, 2, 3, 5, 6, 7}\n"
          ]
        }
      ],
      "source": [
        "set1 = {1,2,3,4}\n",
        "set2 = {5,6,7,4}\n",
        "\n",
        "#operations that can be carried out on sets\n",
        "\n",
        "#concatenation or union\n",
        "print(set1|set2)\n",
        "print(set1.union(set2))\n",
        "\n",
        "#intersection\n",
        "print(set1&set2)\n",
        "print(set1.intersection(set2))\n",
        "\n",
        "#difference\n",
        "print(set1-set2)\n",
        "print(set1.difference(set2))\n",
        "print(set2-set1)\n",
        "\n",
        "#symmetric difference -- a set of elements that are either in set1 or set2 but not in both\n",
        "print(set1^set2)"
      ]
    },
    {
      "cell_type": "code",
      "execution_count": null,
      "id": "ed4cf9e2",
      "metadata": {
        "id": "ed4cf9e2",
        "outputId": "bb39df69-4a73-40a3-a014-95051d985957"
      },
      "outputs": [
        {
          "name": "stdout",
          "output_type": "stream",
          "text": [
            "{0, 3, 5, 7, 8, 'NASA'}\n",
            "{0, 3, 7, 8, 'NASA'}\n"
          ]
        }
      ],
      "source": [
        "#are sets mutable?\n",
        "#yes, but not in the same way as lists\n",
        "\n",
        "my_set = {3,5,7,8,0}\n",
        "\n",
        "my_set.add('NASA')\n",
        "print(my_set)\n",
        "\n",
        "my_set.remove(5)\n",
        "print(my_set)"
      ]
    },
    {
      "cell_type": "markdown",
      "id": "57c974c2",
      "metadata": {
        "id": "57c974c2"
      },
      "source": [
        "#### 4. Dictionary\n",
        "\n",
        "An unordered collection of key-value pairs, enclosed in curly braces {}. Each key is unique and associated with a corresponding value.\n",
        "\n",
        "The key refers to the value before the colon and the key represents the value after the colon."
      ]
    },
    {
      "cell_type": "code",
      "execution_count": null,
      "id": "5853fff7",
      "metadata": {
        "id": "5853fff7",
        "outputId": "3e9edf5c-6902-4cc5-d9e8-c0c8c7b52a76"
      },
      "outputs": [
        {
          "name": "stdout",
          "output_type": "stream",
          "text": [
            "{'name': 'Bella', 'food': 'beans', 'instition': 'Amazon', 'snack': 'peanut'}\n"
          ]
        }
      ],
      "source": [
        "dine = {}\n",
        "\n",
        "dine = {'name': 'Bella', 'food': 'beans', 'instition': 'Amazon', 'snack': 'peanut'}\n",
        "\n",
        "print(dine)"
      ]
    },
    {
      "cell_type": "code",
      "execution_count": null,
      "id": "81d07536",
      "metadata": {
        "id": "81d07536",
        "outputId": "0d1d7697-58c9-451b-a0ee-69028f09eba9"
      },
      "outputs": [
        {
          "name": "stdout",
          "output_type": "stream",
          "text": [
            "Bella\n"
          ]
        }
      ],
      "source": [
        "print(dine['name'])"
      ]
    },
    {
      "cell_type": "code",
      "execution_count": null,
      "id": "d8f830ac",
      "metadata": {
        "id": "d8f830ac",
        "outputId": "cd03736d-0e7d-4a71-a293-b20993106bce"
      },
      "outputs": [
        {
          "data": {
            "text/plain": [
              "{'name': 'Bella',\n",
              " 'food': 'rice and beans with plantain and vegetable sauce🤗',\n",
              " 'instition': 'Amazon',\n",
              " 'snack': 'peanut',\n",
              " 'school1': 'FUTO',\n",
              " 'school2': 'Stanford University',\n",
              " 'book': 'Harry Potter',\n",
              " 'book2': 'GOT'}"
            ]
          },
          "execution_count": 50,
          "metadata": {},
          "output_type": "execute_result"
        }
      ],
      "source": [
        "#updating dictioanries - keys are immutable while values are mutable\n",
        "\n",
        "dine['food'] = 'rice and beans with plantain and vegetable sauce🤗'\n",
        "dine['school1'] = 'FUTO'\n",
        "dine['school2'] = 'Stanford University'\n",
        "dine['book'] = 'Harry Potter'\n",
        "dine['book2'] = 'GOT'\n",
        "dine"
      ]
    },
    {
      "cell_type": "code",
      "execution_count": null,
      "id": "78f14fbf",
      "metadata": {
        "id": "78f14fbf",
        "outputId": "e7c9d9e9-1845-4c4a-86cf-e3f6d24f89da"
      },
      "outputs": [
        {
          "data": {
            "text/plain": [
              "{'name': 'Bella',\n",
              " 'food': 'rice and beans with plantain and vegetable sauce🤗',\n",
              " 'instition': 'Amazon',\n",
              " 'snack': 'peanut',\n",
              " 'school1': 'FUTO',\n",
              " 'school2': 'Stanford University',\n",
              " 'book': 'Harry Potter'}"
            ]
          },
          "execution_count": 51,
          "metadata": {},
          "output_type": "execute_result"
        }
      ],
      "source": [
        "#deleting a key-value pair\n",
        "del dine['book2']\n",
        "dine"
      ]
    },
    {
      "cell_type": "code",
      "execution_count": null,
      "id": "97f1e684",
      "metadata": {
        "id": "97f1e684",
        "outputId": "52103b6b-240f-4f7b-a810-23d65b4d061d"
      },
      "outputs": [
        {
          "name": "stdout",
          "output_type": "stream",
          "text": [
            "The keys include: dict_keys(['name', 'food', 'instition', 'snack', 'school1', 'school2', 'book']) \n",
            "\n",
            "The values include: dict_items([('name', 'Bella'), ('food', 'rice and beans with plantain and vegetable sauce🤗'), ('instition', 'Amazon'), ('snack', 'peanut'), ('school1', 'FUTO'), ('school2', 'Stanford University'), ('book', 'Harry Potter')])\n"
          ]
        }
      ],
      "source": [
        "#prints all the keys and values in the dictionary\n",
        "print(\"The keys include:\", dine.keys(),'\\n')\n",
        "print(\"The values include:\",dine.items())\n",
        "\n",
        "#where '\\n' = line break"
      ]
    },
    {
      "cell_type": "markdown",
      "id": "4b09b556",
      "metadata": {
        "id": "4b09b556"
      },
      "source": [
        "# Summary\n",
        "\n",
        "Lists:\n",
        "\n",
        "- Mutable\n",
        "- Dynamic as they can increase or be decreased in size\n",
        "- Ordered collection of items which means it can be indexed and sliced\n",
        "\n",
        "Tuples:\n",
        "- Similar to lists\n",
        "- Immutable\n",
        "- Allows slicing and indexing\n",
        "\n",
        "Dictionary:\n",
        "- Keys are immutable and unique, values are mutable\n",
        "- Unordered collection of items which means they cannot be indexed\n",
        "\n",
        "Sets:\n",
        "- No duplicates are allowed\n",
        "- Unordered collection of items which means they do not allow indexing or slicing\n",
        "- They are mutable\n",
        "\n"
      ]
    },
    {
      "cell_type": "markdown",
      "id": "9bb8aa7e",
      "metadata": {
        "id": "9bb8aa7e"
      },
      "source": [
        "# Task\n",
        "\n",
        "A a program to manage tasks, or a to-do list"
      ]
    },
    {
      "cell_type": "code",
      "execution_count": null,
      "id": "39795331",
      "metadata": {
        "id": "39795331",
        "outputId": "d7e9913d-9817-4a5f-e6af-d29c9fb61bf9"
      },
      "outputs": [
        {
          "name": "stdout",
          "output_type": "stream",
          "text": [
            "Tasks           Time(mins)      Status         \n",
            "Morning routine 120             Done           \n",
            "Chess practice  20              Done           \n",
            "Read book       60              Done           \n",
            "RAG task        120             Not done       \n",
            "JIN SM          30              Done           \n",
            "Day 2 DS        90              In progress    \n"
          ]
        }
      ],
      "source": [
        "task_status = {'Done', 'In progress', 'Not done'}\n",
        "\n",
        "my_to_do = {'Tasks': ['Morning routine', 'Chess practice', 'Read book', 'RAG task', 'JIN SM', 'Day 2 DS'],\n",
        "            'Time(mins)': [120, 20, 60, 120, 30, 90],\n",
        "            'Status': ['Done', 'Done', 'Done', 'Not done', 'Done', 'In progress']\n",
        "           }\n",
        "\n",
        "print(\"{:<15} {:<15} {:<15}\".format('Tasks', 'Time(mins)', 'Status'))\n",
        "\n",
        "for task, time, status in zip(my_to_do['Tasks'], my_to_do['Time(mins)'], my_to_do['Status']):\n",
        "    print(\"{:<15} {:<15} {:15}\".format(task, time, status))"
      ]
    },
    {
      "cell_type": "code",
      "execution_count": null,
      "id": "c0fd181f",
      "metadata": {
        "id": "c0fd181f",
        "outputId": "eb9d2ff3-18fb-4abb-bb73-a0b286cedd19"
      },
      "outputs": [
        {
          "name": "stdout",
          "output_type": "stream",
          "text": [
            "Morning routine 120             Done           \n",
            "Chess practice  20              Done           \n",
            "Read book       60              Done           \n",
            "RAG task        120             Not done       \n",
            "JIN SM          30              Done           \n",
            "Day 2 DS        90              In progress    \n",
            "Sleep           60              Done           \n"
          ]
        }
      ],
      "source": [
        "## Features for the program\n",
        "\n",
        "#1 Add tasks to the to-do list.\n",
        "\n",
        "new_task = 'Sleep'\n",
        "time = 60\n",
        "status = 'Done'\n",
        "\n",
        "my_to_do['Tasks'].append(new_task)\n",
        "my_to_do['Time(mins)'].append(time)\n",
        "my_to_do['Status'].append(status)\n",
        "\n",
        "for task, time, status in zip(my_to_do['Tasks'], my_to_do['Time(mins)'], my_to_do['Status']):\n",
        "    print(\"{:<15} {:<15} {:15}\".format(task, time, status))"
      ]
    },
    {
      "cell_type": "code",
      "execution_count": null,
      "id": "29037915",
      "metadata": {
        "id": "29037915",
        "outputId": "a3ea847a-fa9a-49b9-f919-1353da1ccf8a"
      },
      "outputs": [
        {
          "name": "stdout",
          "output_type": "stream",
          "text": [
            "Morning routine 120             Done           \n",
            "Chess practice  20              Done           \n",
            "Read book       60              Done           \n",
            "RAG task        120             Not done       \n",
            "JIN SM          30              Done           \n",
            "Day 2 DS        90              In progress    \n"
          ]
        }
      ],
      "source": [
        "#2 removing tasks from the to_do list\n",
        "\n",
        "del my_to_do['Tasks'][6]\n",
        "\n",
        "my_to_do\n",
        "\n",
        "for task, time, status in zip(my_to_do['Tasks'], my_to_do['Time(mins)'], my_to_do['Status']):\n",
        "    print(\"{:<15} {:<15} {:15}\".format(task, time, status))"
      ]
    },
    {
      "cell_type": "code",
      "execution_count": null,
      "id": "7bc1cdd2",
      "metadata": {
        "id": "7bc1cdd2",
        "outputId": "28e8f848-ee46-4dc7-9fec-7fd5a2ec3f37"
      },
      "outputs": [
        {
          "name": "stdout",
          "output_type": "stream",
          "text": [
            "Morning routine 120             Done           \n",
            "Chess practice  20              Done           \n",
            "Read book       60              Done           \n",
            "RAG task        120             Not done       \n",
            "JIN SM          30              Done           \n",
            "Day 2 DS        90              Done           \n"
          ]
        }
      ],
      "source": [
        "#3 updating tasks\n",
        "\n",
        "my_to_do['Status'][5] = 'Done'\n",
        "\n",
        "for task, time, status in zip(my_to_do['Tasks'], my_to_do['Time(mins)'], my_to_do['Status']):\n",
        "    print(\"{:<15} {:<15} {:<15}\".format(task, time, status))"
      ]
    },
    {
      "cell_type": "code",
      "execution_count": null,
      "id": "7b47ebee",
      "metadata": {
        "id": "7b47ebee"
      },
      "outputs": [],
      "source": []
    }
  ],
  "metadata": {
    "kernelspec": {
      "display_name": "Python 3 (ipykernel)",
      "language": "python",
      "name": "python3"
    },
    "language_info": {
      "codemirror_mode": {
        "name": "ipython",
        "version": 3
      },
      "file_extension": ".py",
      "mimetype": "text/x-python",
      "name": "python",
      "nbconvert_exporter": "python",
      "pygments_lexer": "ipython3",
      "version": "3.9.13"
    },
    "colab": {
      "provenance": [],
      "include_colab_link": true
    }
  },
  "nbformat": 4,
  "nbformat_minor": 5
}