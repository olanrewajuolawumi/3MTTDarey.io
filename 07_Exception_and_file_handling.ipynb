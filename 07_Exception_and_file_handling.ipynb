{
  "cells": [
    {
      "cell_type": "markdown",
      "metadata": {
        "id": "view-in-github",
        "colab_type": "text"
      },
      "source": [
        "<a href=\"https://colab.research.google.com/github/olanrewajuolawumi/3MTTDarey.io/blob/main/07_Exception_and_file_handling.ipynb\" target=\"_parent\"><img src=\"https://colab.research.google.com/assets/colab-badge.svg\" alt=\"Open In Colab\"/></a>"
      ]
    },
    {
      "cell_type": "markdown",
      "id": "ad2ba993",
      "metadata": {
        "id": "ad2ba993"
      },
      "source": [
        "# G. Exception Handling\n",
        "\n",
        "As a Python programmer, you'll often encounter errors while running your programs. These errors can disrupt the flow of your code, leading to unexpected behavior or crashes. However, Python provides a way to handle these errors gracefully using exception handling.\n",
        "\n",
        "Exceptions are events (errors) that occur during the execution of a program that disrupt the normal flow of the program's instructions. Instead of letting your program crash, you can use exception handling to deal with these issues in a controlled way.\n",
        "\n",
        "**Why Handle Exceptions?:**\n",
        "\n",
        "- _Avoid Crashes_: Exception handling ensures that your program doesn't terminate abruptly.\n",
        "- _Control Program Flow_: It allows you to handle errors and continue executing other parts of your code.\n",
        "- _User-Friendly_: You can show more informative error messages to the user, improving the overall experience.\n",
        "\n",
        "## Types of Errors in Python\n",
        "\n",
        "Before diving into exception handling, it's important to understand the two main types of errors:\n",
        "\n",
        "- Syntax errors\n",
        "- Runtime errors"
      ]
    },
    {
      "cell_type": "markdown",
      "id": "78b18e46",
      "metadata": {
        "id": "78b18e46"
      },
      "source": [
        "## Syntax error OR indentation error\n",
        "\n",
        "In Syntax error, the error is detected before the program even starts. It occurs when the code structure or syntax is incorrect. For example, missing a colon (:) after an if statement. Syntax errors must be fixed before the code can run.\n",
        "\n",
        "Indentation error refers to unexpected indents found in the code that are not where they are supposed to be."
      ]
    },
    {
      "cell_type": "code",
      "execution_count": null,
      "id": "ce473eee",
      "metadata": {
        "id": "ce473eee",
        "outputId": "ec3a0966-ac1b-438c-de69-771e613acd6f"
      },
      "outputs": [
        {
          "ename": "SyntaxError",
          "evalue": "Missing parentheses in call to 'print'. Did you mean print('Hello')? (3575779984.py, line 1)",
          "output_type": "error",
          "traceback": [
            "\u001b[1;36m  File \u001b[1;32m\"C:\\Users\\USER\\AppData\\Local\\Temp\\ipykernel_8288\\3575779984.py\"\u001b[1;36m, line \u001b[1;32m1\u001b[0m\n\u001b[1;33m    print 'Hello'\u001b[0m\n\u001b[1;37m          ^\u001b[0m\n\u001b[1;31mSyntaxError\u001b[0m\u001b[1;31m:\u001b[0m Missing parentheses in call to 'print'. Did you mean print('Hello')?\n"
          ]
        }
      ],
      "source": [
        "print 'Hello'"
      ]
    },
    {
      "cell_type": "code",
      "execution_count": null,
      "id": "62636995",
      "metadata": {
        "id": "62636995",
        "outputId": "824910c1-b3f3-47b7-a02e-f37978f33589"
      },
      "outputs": [
        {
          "ename": "IndentationError",
          "evalue": "unexpected indent (482772010.py, line 2)",
          "output_type": "error",
          "traceback": [
            "\u001b[1;36m  File \u001b[1;32m\"C:\\Users\\USER\\AppData\\Local\\Temp\\ipykernel_8288\\482772010.py\"\u001b[1;36m, line \u001b[1;32m2\u001b[0m\n\u001b[1;33m    print 'World'\u001b[0m\n\u001b[1;37m    ^\u001b[0m\n\u001b[1;31mIndentationError\u001b[0m\u001b[1;31m:\u001b[0m unexpected indent\n"
          ]
        }
      ],
      "source": [
        "print('Hello')\n",
        "    print 'World'"
      ]
    },
    {
      "cell_type": "code",
      "execution_count": null,
      "id": "362666fe",
      "metadata": {
        "id": "362666fe",
        "outputId": "ef079b99-4b20-4703-c501-9be881725dab"
      },
      "outputs": [
        {
          "ename": "SyntaxError",
          "evalue": "invalid syntax (585521326.py, line 1)",
          "output_type": "error",
          "traceback": [
            "\u001b[1;36m  File \u001b[1;32m\"C:\\Users\\USER\\AppData\\Local\\Temp\\ipykernel_2996\\585521326.py\"\u001b[1;36m, line \u001b[1;32m1\u001b[0m\n\u001b[1;33m    if 5 > 3\u001b[0m\n\u001b[1;37m            ^\u001b[0m\n\u001b[1;31mSyntaxError\u001b[0m\u001b[1;31m:\u001b[0m invalid syntax\n"
          ]
        }
      ],
      "source": [
        "if 5 > 3\n",
        "    print(\"This will cause a syntax error\")"
      ]
    },
    {
      "cell_type": "markdown",
      "id": "d61763fe",
      "metadata": {
        "id": "d61763fe"
      },
      "source": [
        "Python expected to find a : but couldn't find any."
      ]
    },
    {
      "cell_type": "markdown",
      "id": "ae681fe0",
      "metadata": {
        "id": "ae681fe0"
      },
      "source": [
        "## Runtime error (AKA exceptions)\n",
        "\n",
        "These occur during the execution of a program. Even if your program has correct syntax, exceptions can arise due to issues like dividing by zero or trying to access a non-existent file.\n",
        "\n",
        "It is the type of error that occurs while your program is running. E.g:\n",
        "\n",
        "- ZeroDivisionError\n",
        "- NameError\n",
        "- IndexError\n",
        "- KeyError\n",
        "- AttributeError\n",
        "- TypeError\n",
        "- FileNotFoundError, etc."
      ]
    },
    {
      "cell_type": "code",
      "execution_count": null,
      "id": "7267c0e5",
      "metadata": {
        "id": "7267c0e5",
        "outputId": "4806e8a6-c930-4cfc-fb65-cd4be7eda3ea"
      },
      "outputs": [
        {
          "name": "stdout",
          "output_type": "stream",
          "text": [
            "1\n"
          ]
        },
        {
          "ename": "ZeroDivisionError",
          "evalue": "division by zero",
          "output_type": "error",
          "traceback": [
            "\u001b[1;31m---------------------------------------------------------------------------\u001b[0m",
            "\u001b[1;31mZeroDivisionError\u001b[0m                         Traceback (most recent call last)",
            "\u001b[1;32m~\\AppData\\Local\\Temp\\ipykernel_8288\\1587665216.py\u001b[0m in \u001b[0;36m<module>\u001b[1;34m\u001b[0m\n\u001b[0;32m      1\u001b[0m \u001b[0mprint\u001b[0m\u001b[1;33m(\u001b[0m\u001b[1;36m1\u001b[0m\u001b[1;33m)\u001b[0m\u001b[1;33m\u001b[0m\u001b[1;33m\u001b[0m\u001b[0m\n\u001b[1;32m----> 2\u001b[1;33m \u001b[0mprint\u001b[0m\u001b[1;33m(\u001b[0m\u001b[1;36m1\u001b[0m\u001b[1;33m/\u001b[0m\u001b[1;36m0\u001b[0m\u001b[1;33m)\u001b[0m\u001b[1;33m\u001b[0m\u001b[1;33m\u001b[0m\u001b[0m\n\u001b[0m",
            "\u001b[1;31mZeroDivisionError\u001b[0m: division by zero"
          ]
        }
      ],
      "source": [
        "print(1)\n",
        "print(1/0)"
      ]
    },
    {
      "cell_type": "code",
      "execution_count": null,
      "id": "f2752998",
      "metadata": {
        "id": "f2752998",
        "outputId": "b1a66ae3-fe5d-4fb6-94fd-5fab3042111e"
      },
      "outputs": [
        {
          "name": "stdout",
          "output_type": "stream",
          "text": [
            "Enter an integer... 4\n",
            "4\n"
          ]
        },
        {
          "ename": "TypeError",
          "evalue": "can only concatenate str (not \"int\") to str",
          "output_type": "error",
          "traceback": [
            "\u001b[1;31m---------------------------------------------------------------------------\u001b[0m",
            "\u001b[1;31mTypeError\u001b[0m                                 Traceback (most recent call last)",
            "\u001b[1;32m~\\AppData\\Local\\Temp\\ipykernel_8288\\4265484499.py\u001b[0m in \u001b[0;36m<module>\u001b[1;34m\u001b[0m\n\u001b[0;32m      2\u001b[0m \u001b[0mprint\u001b[0m\u001b[1;33m(\u001b[0m\u001b[0mx\u001b[0m\u001b[1;33m)\u001b[0m\u001b[1;33m\u001b[0m\u001b[1;33m\u001b[0m\u001b[0m\n\u001b[0;32m      3\u001b[0m \u001b[1;33m\u001b[0m\u001b[0m\n\u001b[1;32m----> 4\u001b[1;33m \u001b[0mprint\u001b[0m\u001b[1;33m(\u001b[0m\u001b[1;34m'a'\u001b[0m\u001b[1;33m+\u001b[0m\u001b[0mx\u001b[0m\u001b[1;33m)\u001b[0m\u001b[1;33m\u001b[0m\u001b[1;33m\u001b[0m\u001b[0m\n\u001b[0m",
            "\u001b[1;31mTypeError\u001b[0m: can only concatenate str (not \"int\") to str"
          ]
        }
      ],
      "source": [
        "x = int(input('Enter an integer... '))\n",
        "print(x)\n",
        "\n",
        "print('a'+x)"
      ]
    },
    {
      "cell_type": "markdown",
      "id": "99a9cfbf",
      "metadata": {
        "id": "99a9cfbf"
      },
      "source": [
        "## Exception Handling in Python: try.....except\n",
        "\n",
        "![Exception_Handling.png](https://drive.google.com/uc?export=view&id=1ufWafmntogrVfi-POKfODo7JKUCZECRO)\n",
        "\n",
        "- `try block`\n",
        "This block contains the code you suspect might raise an exception. Python attempts to execute the statements within this block\n",
        "\n",
        "\n",
        "- `except block`\n",
        "This comes into play if an exception occurs while executng the try block. The exception itself is an object that carries information about the error. You can define one or more except blocks to handle different types of exceptions\n"
      ]
    },
    {
      "cell_type": "code",
      "execution_count": null,
      "id": "88c106de",
      "metadata": {
        "id": "88c106de",
        "outputId": "6f0ae1a0-2c98-4e74-c6c5-c2e03206578e"
      },
      "outputs": [
        {
          "name": "stdout",
          "output_type": "stream",
          "text": [
            "An error occurred!\n"
          ]
        }
      ],
      "source": [
        "try:\n",
        "    # Code that might cause an exception\n",
        "    # For example:\n",
        "    result = 10 / 0  # This will raise a ZeroDivisionError\n",
        "except:\n",
        "    # Code that runs if an exception occurs\n",
        "    print(\"An error occurred!\")"
      ]
    },
    {
      "cell_type": "markdown",
      "id": "99c1ad1b",
      "metadata": {
        "id": "99c1ad1b"
      },
      "source": [
        "- try:\n",
        "This keyword tells Python to try running the code inside the try block. Python will keep an eye out for any errors that might happen when running this code.\n",
        "\n",
        "- result = 10 / 0\n",
        "This line attempts to divide 10 by 0, which is not allowed in mathematics. When Python tries to do this, it will raise a ZeroDivisionError because dividing by zero is impossible. This is an example of an error that would cause a problem in the code.\n",
        "\n",
        "- except:\n",
        "When Python encounters an error (in this case, dividing by zero), it stops the normal execution of the program and jumps to the except block. The except block is where you handle the error and prevent the program from crashing.\n",
        "\n",
        "- print(\"An error occurred!\")\n",
        "If any error occurs in the try block, Python will execute this line. It simply prints a message \"An error occurred!\" instead of letting the program crash.\n",
        "\n",
        "**SUMMARY:**\n",
        "- Python tries to execute the code in the try block.\n",
        "- If an error happens (like dividing by zero), Python jumps to the except block to handle the error.\n",
        "- Instead of crashing, Python prints \"An error occurred!\".\n",
        "\n",
        "This helps you handle errors gracefully without stopping the entire program."
      ]
    },
    {
      "cell_type": "code",
      "execution_count": null,
      "id": "f9021fa9",
      "metadata": {
        "id": "f9021fa9",
        "outputId": "26db149f-e50e-466f-c2cc-f8c4a24659eb"
      },
      "outputs": [
        {
          "name": "stdout",
          "output_type": "stream",
          "text": [
            "Enter username Jane\n"
          ]
        },
        {
          "ename": "ValueError",
          "evalue": "invalid literal for int() with base 10: 'Jane'",
          "output_type": "error",
          "traceback": [
            "\u001b[1;31m---------------------------------------------------------------------------\u001b[0m",
            "\u001b[1;31mValueError\u001b[0m                                Traceback (most recent call last)",
            "\u001b[1;32m~\\AppData\\Local\\Temp\\ipykernel_8288\\144330832.py\u001b[0m in \u001b[0;36m<module>\u001b[1;34m\u001b[0m\n\u001b[0;32m      1\u001b[0m \u001b[0mtext\u001b[0m \u001b[1;33m=\u001b[0m \u001b[0minput\u001b[0m\u001b[1;33m(\u001b[0m\u001b[1;34m'Enter username '\u001b[0m\u001b[1;33m)\u001b[0m\u001b[1;33m\u001b[0m\u001b[1;33m\u001b[0m\u001b[0m\n\u001b[0;32m      2\u001b[0m \u001b[1;33m\u001b[0m\u001b[0m\n\u001b[1;32m----> 3\u001b[1;33m \u001b[0mnumber\u001b[0m \u001b[1;33m=\u001b[0m \u001b[0mint\u001b[0m\u001b[1;33m(\u001b[0m\u001b[0mtext\u001b[0m\u001b[1;33m)\u001b[0m\u001b[1;33m\u001b[0m\u001b[1;33m\u001b[0m\u001b[0m\n\u001b[0m\u001b[0;32m      4\u001b[0m \u001b[0mprint\u001b[0m\u001b[1;33m(\u001b[0m\u001b[0mnumber\u001b[0m\u001b[1;33m)\u001b[0m\u001b[1;33m\u001b[0m\u001b[1;33m\u001b[0m\u001b[0m\n",
            "\u001b[1;31mValueError\u001b[0m: invalid literal for int() with base 10: 'Jane'"
          ]
        }
      ],
      "source": [
        "text = input('Enter username ')\n",
        "\n",
        "number = int(text)\n",
        "print(number)"
      ]
    },
    {
      "cell_type": "code",
      "execution_count": null,
      "id": "9c3cd92b",
      "metadata": {
        "id": "9c3cd92b",
        "outputId": "5705c7c7-2f41-4a64-caa6-3441c67aea3d"
      },
      "outputs": [
        {
          "name": "stdout",
          "output_type": "stream",
          "text": [
            "Enter username Jane\n",
            "Invalid username\n"
          ]
        }
      ],
      "source": [
        "#Using try except\n",
        "\n",
        "text = input('Enter username ')\n",
        "\n",
        "try:\n",
        "    number = int(text)\n",
        "    print(number)\n",
        "except:\n",
        "    print('Invalid username')"
      ]
    },
    {
      "cell_type": "markdown",
      "id": "693f493d",
      "metadata": {
        "id": "693f493d"
      },
      "source": [
        "What happens is that the code returns a more explanatory error if the code within the try statement encountered some issues. So rather than it crashing the program like we saw above, it simply returns this statement and the user can now get a hint of what they did wrongly. And if there are other lines of code that can run independent of the line that has thrown an error, python moves to them instead."
      ]
    },
    {
      "cell_type": "code",
      "execution_count": null,
      "id": "eda31f83",
      "metadata": {
        "id": "eda31f83",
        "outputId": "c8e841b3-1127-43e2-bcdf-c7c1677ea1f7"
      },
      "outputs": [
        {
          "name": "stdout",
          "output_type": "stream",
          "text": [
            "Enter number 76\n",
            "Error: Division by zero!\n"
          ]
        }
      ],
      "source": [
        "#Another example\n",
        "\n",
        "try:\n",
        "    number = int(input('Enter number '))\n",
        "    result = number/0\n",
        "except ZeroDivisionError:\n",
        "    print('Error: Division by zero!')"
      ]
    },
    {
      "cell_type": "markdown",
      "id": "21929829",
      "metadata": {
        "id": "21929829"
      },
      "source": [
        "### try with multiple except"
      ]
    },
    {
      "cell_type": "code",
      "execution_count": null,
      "id": "f785a986",
      "metadata": {
        "id": "f785a986",
        "outputId": "29246897-2eed-416b-cd8e-86ef9238da74"
      },
      "outputs": [
        {
          "name": "stdout",
          "output_type": "stream",
          "text": [
            "Enter first number: 67\n",
            "Enter second number: m\n",
            "Please enter integer values only\n"
          ]
        }
      ],
      "source": [
        "#if try with multiple except blocks is available then the default except\n",
        "#block should be the last, otherwise we will get a SyntaxError\n",
        "\n",
        "try:\n",
        "    x = int(input('Enter first number: '))\n",
        "    y = int(input('Enter second number: '))\n",
        "    print(x/y)\n",
        "\n",
        "except ValueError:\n",
        "    print('Please enter integer values only')\n",
        "except ZeroDivisionError:\n",
        "    print(\"You can't divide by zero\")\n",
        "except:\n",
        "    print(\"I don't know, but something is wrong\")"
      ]
    },
    {
      "cell_type": "markdown",
      "id": "0304571d",
      "metadata": {
        "id": "0304571d"
      },
      "source": [
        "### single except can handle multiple exceptions"
      ]
    },
    {
      "cell_type": "code",
      "execution_count": null,
      "id": "63165e3e",
      "metadata": {
        "id": "63165e3e",
        "outputId": "3542263e-98b0-424c-8d33-345d38e3d575"
      },
      "outputs": [
        {
          "name": "stdout",
          "output_type": "stream",
          "text": [
            "Enter first number: 34\n",
            "Enter second number: 0.5\n",
            "Something's wrong\n"
          ]
        }
      ],
      "source": [
        "try:\n",
        "    x = int(input('Enter first number: '))\n",
        "    y = int(input('Enter second number: '))\n",
        "    print(x/y)\n",
        "except (ZeroDivisionError, ValueError):\n",
        "    print(\"Something's wrong\")"
      ]
    },
    {
      "cell_type": "markdown",
      "id": "2d631b07",
      "metadata": {
        "id": "2d631b07"
      },
      "source": [
        "### printing exception as a message"
      ]
    },
    {
      "cell_type": "code",
      "execution_count": null,
      "id": "5e789dbe",
      "metadata": {
        "id": "5e789dbe",
        "outputId": "e1de5239-da89-4e9a-c57b-1279ba586a1b"
      },
      "outputs": [
        {
          "name": "stdout",
          "output_type": "stream",
          "text": [
            "Exception: division by zero\n"
          ]
        }
      ],
      "source": [
        "try:\n",
        "    print(10/0)\n",
        "except ZeroDivisionError as message:\n",
        "    print('Exception:', message)"
      ]
    },
    {
      "cell_type": "code",
      "execution_count": null,
      "id": "01b5a7a2",
      "metadata": {
        "id": "01b5a7a2",
        "outputId": "f17ff3f6-7c7e-4f4e-e617-a5ff0553e485"
      },
      "outputs": [
        {
          "name": "stdout",
          "output_type": "stream",
          "text": [
            "Enter first number: 10\n",
            "Enter second number: 0\n",
            "Error:  division by zero\n"
          ]
        }
      ],
      "source": [
        "try:\n",
        "    x = int(input('Enter first number: '))\n",
        "    y = int(input('Enter second number: '))\n",
        "    print(x/y)\n",
        "\n",
        "except ValueError as message:\n",
        "    print('Error: ', message)\n",
        "except ZeroDivisionError as message:\n",
        "    print(\"Error: \", message)\n",
        "except:\n",
        "    print(\"I don't know, but something is wrong\")"
      ]
    },
    {
      "cell_type": "markdown",
      "id": "81f975fe",
      "metadata": {
        "id": "81f975fe"
      },
      "source": [
        "Note that the message variable is not defined beforehand but rather receives its value from the exception object when the exception is raised. This object contains information about the error, including a specific error message.\n",
        "\n",
        "In simple terms;\n",
        "\n",
        "You know that error message you would receive when you do not use try..except right? That error message that is usually returned is what is contained in the message variable and therefore printed.\n",
        "\n",
        "\n",
        "Compare the example above to the one below."
      ]
    },
    {
      "cell_type": "code",
      "execution_count": null,
      "id": "5e5d1a16",
      "metadata": {
        "id": "5e5d1a16",
        "outputId": "aab4aa2c-fa52-4612-fe47-e4dbf9c40adc"
      },
      "outputs": [
        {
          "ename": "ZeroDivisionError",
          "evalue": "division by zero",
          "output_type": "error",
          "traceback": [
            "\u001b[1;31m---------------------------------------------------------------------------\u001b[0m",
            "\u001b[1;31mZeroDivisionError\u001b[0m                         Traceback (most recent call last)",
            "\u001b[1;32m~\\AppData\\Local\\Temp\\ipykernel_8288\\179726827.py\u001b[0m in \u001b[0;36m<module>\u001b[1;34m\u001b[0m\n\u001b[1;32m----> 1\u001b[1;33m \u001b[0mprint\u001b[0m\u001b[1;33m(\u001b[0m\u001b[1;36m10\u001b[0m\u001b[1;33m/\u001b[0m\u001b[1;36m0\u001b[0m\u001b[1;33m)\u001b[0m\u001b[1;33m\u001b[0m\u001b[1;33m\u001b[0m\u001b[0m\n\u001b[0m",
            "\u001b[1;31mZeroDivisionError\u001b[0m: division by zero"
          ]
        }
      ],
      "source": [
        "print(10/0)"
      ]
    },
    {
      "cell_type": "code",
      "execution_count": null,
      "id": "7ed2705d",
      "metadata": {
        "id": "7ed2705d",
        "outputId": "36365add-ffbd-47d8-b3ee-2c90fcdf0cf4"
      },
      "outputs": [
        {
          "name": "stdout",
          "output_type": "stream",
          "text": [
            "5\n",
            "49\n",
            "Invalid number\n",
            "976722923\n"
          ]
        }
      ],
      "source": [
        "def add_nums(num1,num2):\n",
        "    try:\n",
        "        return (num1+num2)\n",
        "    except TypeError:\n",
        "        return('Invalid number')\n",
        "\n",
        "print(add_nums(1,4))\n",
        "print(add_nums(45,4))\n",
        "print(add_nums(1,'a'))\n",
        "print(add_nums(345678,976377245))"
      ]
    },
    {
      "cell_type": "markdown",
      "id": "c63c5106",
      "metadata": {
        "id": "c63c5106"
      },
      "source": [
        "From the above, the program does not crash when an exception (AKA error) is encountered."
      ]
    },
    {
      "cell_type": "markdown",
      "id": "19d83c71",
      "metadata": {
        "id": "19d83c71"
      },
      "source": [
        "### Using `Exception` to handle general errors"
      ]
    },
    {
      "cell_type": "code",
      "execution_count": null,
      "id": "7ac7e6b9",
      "metadata": {
        "id": "7ac7e6b9",
        "outputId": "2c9546c6-5b7a-4dbf-8e20-28bfed1f7909"
      },
      "outputs": [
        {
          "name": "stdout",
          "output_type": "stream",
          "text": [
            "Invalid parameter\n",
            "Invalid parameter\n",
            "Invalid parameter\n",
            "Invalid parameter\n"
          ]
        }
      ],
      "source": [
        "def add_nums(num1,num2):\n",
        "    try:\n",
        "        return (num1+num2222)\n",
        "    except TypeError:\n",
        "        return('Invalid number')\n",
        "    except NameError:\n",
        "        return('Invalid parameter')\n",
        "\n",
        "print(add_nums(1,4))\n",
        "print(add_nums(45,4))\n",
        "print(add_nums(1,'a'))\n",
        "print(add_nums(345678,976377245))"
      ]
    },
    {
      "cell_type": "code",
      "execution_count": null,
      "id": "5a8bbd3b",
      "metadata": {
        "id": "5a8bbd3b",
        "outputId": "53b44f44-2775-4b93-fc5b-f5d443eaed57"
      },
      "outputs": [
        {
          "name": "stdout",
          "output_type": "stream",
          "text": [
            "name 'num222' is not defined\n",
            "name 'num222' is not defined\n",
            "name 'num222' is not defined\n",
            "name 'num222' is not defined\n"
          ]
        }
      ],
      "source": [
        "def add_nums(num1,num2):\n",
        "    try:\n",
        "        return (num1+num222)\n",
        "    except TypeError:\n",
        "        return('Invalid number')\n",
        "    except Exception as e:\n",
        "        return e\n",
        "\n",
        "print(add_nums(1,4))\n",
        "print(add_nums(45,4))\n",
        "print(add_nums(1,'a'))\n",
        "print(add_nums(345678,976377245))"
      ]
    },
    {
      "cell_type": "markdown",
      "id": "406cffcb",
      "metadata": {
        "id": "406cffcb"
      },
      "source": [
        "`Exception` is sort of a default that we use to handle errors that we did not explicitly define as we can see in the difference between both codes above.\n",
        "\n",
        "Note also that this Exception block should be placed at the every end of all the except statements. If placed at the beginning, the program will not return the specific error messages you may have defined."
      ]
    },
    {
      "cell_type": "code",
      "execution_count": null,
      "id": "9a8009e4",
      "metadata": {
        "id": "9a8009e4",
        "outputId": "117e4e23-7748-47aa-ddc7-1bb8f9322faf"
      },
      "outputs": [
        {
          "name": "stdout",
          "output_type": "stream",
          "text": [
            "5\n",
            "49\n",
            "unsupported operand type(s) for +: 'int' and 'str'\n",
            "976722923\n"
          ]
        }
      ],
      "source": [
        "def add_nums(num1,num2):\n",
        "    try:\n",
        "        return (num1+num2)\n",
        "    except Exception as e:\n",
        "        return e\n",
        "\n",
        "print(add_nums(1,4))\n",
        "print(add_nums(45,4))\n",
        "print(add_nums(1,'a'))\n",
        "print(add_nums(345678,976377245))"
      ]
    },
    {
      "cell_type": "markdown",
      "id": "e7606368",
      "metadata": {
        "id": "e7606368"
      },
      "source": [
        "### User defined exceptions - Part 1\n",
        "\n",
        "\n",
        "These are exceptions that we can define in our program when we want our program to cause an exception depending on certain conditions. We do this using `raise error`."
      ]
    },
    {
      "cell_type": "code",
      "execution_count": null,
      "id": "6637cfb6",
      "metadata": {
        "id": "6637cfb6",
        "outputId": "4eabadfb-08c5-4daa-9242-988e00d76b89"
      },
      "outputs": [
        {
          "name": "stdout",
          "output_type": "stream",
          "text": [
            "5\n",
            "49\n",
            "ba\n",
            "976722923\n"
          ]
        }
      ],
      "source": [
        "def add_nums(num1,num2):\n",
        "    return (num1+num2)\n",
        "\n",
        "\n",
        "print(add_nums(1,4))\n",
        "print(add_nums(45,4))\n",
        "print(add_nums('b','a'))\n",
        "print(add_nums(345678,976377245))"
      ]
    },
    {
      "cell_type": "code",
      "execution_count": null,
      "id": "ffd8bc6e",
      "metadata": {
        "id": "ffd8bc6e",
        "outputId": "a9834480-f96c-421d-a4ad-8a9a332e5dc0"
      },
      "outputs": [
        {
          "name": "stdout",
          "output_type": "stream",
          "text": [
            "5\n",
            "49\n",
            "invalid literal for int() with base 10: 'b'\n",
            "976722923\n"
          ]
        }
      ],
      "source": [
        "#I want to handle cases where the values entered are not integers or floats\n",
        "\n",
        "def add_nums(num1,num2):\n",
        "    try:\n",
        "        if (num1 == int(num1) or num1 == float(num1)) and (num2 == int(num2) or num2 == float(num2)):\n",
        "            return num1+num2\n",
        "        else:\n",
        "            raise Exception('Only int and float values are allowed')\n",
        "    except Exception as e:\n",
        "        return e\n",
        "\n",
        "print(add_nums(1,4))\n",
        "print(add_nums(45,4))\n",
        "print(add_nums('b','a'))\n",
        "print(add_nums(345678,976377245))"
      ]
    },
    {
      "cell_type": "markdown",
      "id": "76b2c78d",
      "metadata": {
        "id": "76b2c78d"
      },
      "source": [
        "This does not work as expected because when the if condition runs and results in false (non-numeric inputs), the code simply continues without reaching the raise Exception. Let's fix this."
      ]
    },
    {
      "cell_type": "code",
      "execution_count": null,
      "id": "8283de7b",
      "metadata": {
        "id": "8283de7b",
        "outputId": "4a7afcc1-1b89-499a-c603-672a262222ee"
      },
      "outputs": [
        {
          "name": "stdout",
          "output_type": "stream",
          "text": [
            "5\n",
            "49\n",
            "Only int and float values are allowed\n",
            "976722923\n"
          ]
        }
      ],
      "source": [
        "def add_nums(num1,num2):\n",
        "    try:\n",
        "        if (isinstance(num1, (int, float)) and isinstance(num2,(int, float))):\n",
        "            return num1+num2\n",
        "        else:\n",
        "            raise Exception('Only int and float values are allowed')\n",
        "    except Exception as e:\n",
        "        return e\n",
        "\n",
        "print(add_nums(1,4))\n",
        "print(add_nums(45,4))\n",
        "print(add_nums('b','a'))\n",
        "print(add_nums(345678,976377245))"
      ]
    },
    {
      "cell_type": "markdown",
      "id": "6e2d5932",
      "metadata": {
        "id": "6e2d5932"
      },
      "source": [
        "The `isinstance` function is used for type checking in a more robust way compared to the direct comparison like num1==int(num1).  It also solves our intial problem."
      ]
    },
    {
      "cell_type": "markdown",
      "id": "01b8020c",
      "metadata": {
        "id": "01b8020c"
      },
      "source": [
        "### try....except with finally and else\n",
        "\n",
        "For `else`, it is such that if the try block executes successfully, it calls it. That is if the try block does not throw an exception, then call the else part.\n",
        "\n",
        "`finally` block will always be executed when you have your try statement"
      ]
    },
    {
      "cell_type": "code",
      "execution_count": null,
      "id": "e9191f3b",
      "metadata": {
        "id": "e9191f3b",
        "outputId": "7c9bae3b-ec4c-4032-88e7-13c90919248a"
      },
      "outputs": [
        {
          "name": "stdout",
          "output_type": "stream",
          "text": [
            "5\n",
            "Successful...\n"
          ]
        }
      ],
      "source": [
        "def add_nums(num1,num2):\n",
        "    try:\n",
        "        print (num1+num2)\n",
        "    except TypeError:\n",
        "        print('Invalid number')\n",
        "    except Exception as e:\n",
        "        print(e)\n",
        "    else:\n",
        "        print('Successful...')\n",
        "\n",
        "add_nums(1,4)"
      ]
    },
    {
      "cell_type": "code",
      "execution_count": null,
      "id": "e5335cd1",
      "metadata": {
        "id": "e5335cd1",
        "outputId": "eb82d712-4b56-479a-9987-8430178d9c05"
      },
      "outputs": [
        {
          "name": "stdout",
          "output_type": "stream",
          "text": [
            "Invalid number\n",
            "The End!\n"
          ]
        }
      ],
      "source": [
        "def add_nums(num1,num2):\n",
        "    try:\n",
        "        print (num1+num2)\n",
        "    except TypeError:\n",
        "        print('Invalid number')\n",
        "    except Exception as e:\n",
        "        print(e)\n",
        "    else:\n",
        "        print('Successful...')\n",
        "    finally:\n",
        "        print('The End!')\n",
        "\n",
        "add_nums(1,'the')"
      ]
    },
    {
      "cell_type": "markdown",
      "id": "d8c23a2d",
      "metadata": {
        "id": "d8c23a2d"
      },
      "source": [
        "### Nested try....except....finally\n",
        "\n",
        "This is used to handle exceptions in a more granular way within python code. They allow you to create multiple layers of error handling, providing specific actions for different types of exceptions that might occur at different parts of your code."
      ]
    },
    {
      "cell_type": "code",
      "execution_count": null,
      "id": "ceae25de",
      "metadata": {
        "id": "ceae25de"
      },
      "outputs": [],
      "source": [
        "def open_and_read_file(filename):\n",
        "\n",
        "    #outer try block\n",
        "    try:\n",
        "\n",
        "        #inner try block\n",
        "        try:\n",
        "            with open(filename, 'r') as f:\n",
        "                contents = f.read()\n",
        "            return contents\n",
        "        except FileNotFoundError as e:\n",
        "            print(f\"Error: File '{filename}' not found.\")\n",
        "\n",
        "    except Exception as e:\n",
        "        print(f\"An unexpected error occured: {e}\")\n",
        "    finally:\n",
        "        print('File operation complete')"
      ]
    },
    {
      "cell_type": "markdown",
      "id": "25d35d46",
      "metadata": {
        "id": "25d35d46"
      },
      "source": [
        "Here, the outer try block handles general exceptions that might occur during file operations.\n",
        "\n",
        "The inner try block specifically catches the `FileNotFoundError` and provides a more informative messsage.\n",
        "\n",
        "`finally` block ensures the \"File operations complete\" message is printed regardless of success or failure."
      ]
    },
    {
      "cell_type": "markdown",
      "id": "36de138b",
      "metadata": {
        "id": "36de138b"
      },
      "source": [
        "### User defined exceptions - Part 2\n",
        "\n",
        "Recall that we use `raise Exception` to raise our own errors. That is just a bit of what can be done."
      ]
    },
    {
      "cell_type": "code",
      "execution_count": null,
      "id": "92180567",
      "metadata": {
        "id": "92180567",
        "outputId": "521e25ac-7b6c-43f5-8bb3-fc4938a8becc"
      },
      "outputs": [
        {
          "name": "stdout",
          "output_type": "stream",
          "text": [
            "Enter your age: 9\n",
            "You are too young!\n",
            "get out\n"
          ]
        }
      ],
      "source": [
        "age = int(input('Enter your age: '))\n",
        "\n",
        "try:\n",
        "    if age < 10:\n",
        "        print('You are too young!')\n",
        "        raise ZeroDivisionError ('get out')\n",
        "\n",
        "except ZeroDivisionError as message:\n",
        "    print(message)"
      ]
    },
    {
      "cell_type": "markdown",
      "id": "d956d91b",
      "metadata": {
        "id": "d956d91b"
      },
      "source": [
        "In this second case, we are exploring another form of user defined functions AKA customized exceptions. Here, the programmer, in this case myself, is responsible to define and raise these exceptions."
      ]
    },
    {
      "cell_type": "code",
      "execution_count": null,
      "id": "90e65544",
      "metadata": {
        "id": "90e65544",
        "outputId": "a8ba0baa-5e74-4ce9-8e1b-caf8ec0a1b9a"
      },
      "outputs": [
        {
          "name": "stdout",
          "output_type": "stream",
          "text": [
            "Enter your age: 5\n",
            "You are too young!\n"
          ]
        }
      ],
      "source": [
        "## remember what we learnt about inheritance in OOP right?\n",
        "#you can see here that the TooYoungException I created\n",
        "#inherits its characteristics from the Exception parent class\n",
        "\n",
        "\n",
        "class TooYoungException(Exception):\n",
        "    def __init__(self, msg):\n",
        "        self.msg = msg\n",
        "\n",
        "age = int(input('Enter your age: '))\n",
        "\n",
        "try:\n",
        "    if age < 10:\n",
        "        raise TooYoungException('You are too young!')\n",
        "    else:\n",
        "        print('You can proceed!')\n",
        "\n",
        "except TooYoungException as msg:\n",
        "    print(msg)"
      ]
    },
    {
      "cell_type": "markdown",
      "id": "3c9985c8",
      "metadata": {
        "id": "3c9985c8"
      },
      "source": [
        "# H. File Handling\n",
        "\n",
        "![file_handling_in_python.png](https://drive.google.com/uc?export=view&id=1esv6QcSUlS3n5OW1xeD9nHAWEWd736YI)\n",
        "\n",
        "In many programs, you will need to read data from a file or save data to a file. This process is called file handling. Python makes file handling easy by providing built-in functions that allow you to open, read, write, and close files efficiently.\n",
        "\n",
        "Files can be of various types, such as text files (.txt), CSV files, or binary files. Python provides several functions to work with these files, and the most common tasks include reading from files, writing to files, and appending data to files.\n",
        "\n",
        "\n",
        "\n",
        "## Basic Concepts of File Handling\n",
        "Before jumping into the code, let’s go over some basic concepts related to file handling:\n",
        "\n",
        "- File: A file is a collection of data stored in a storage device, such as a hard disk.\n",
        "- File Path: This is the location of the file in your system, for example, C:/Documents/file.txt on Windows or /home/user/file.txt on Linux/Mac.\n",
        "- File Modes: When opening a file, you need to specify the mode in which you want to interact with the file:"
      ]
    },
    {
      "cell_type": "markdown",
      "id": "f0eea661",
      "metadata": {
        "id": "f0eea661"
      },
      "source": [
        "| File Mode | Description |\n",
        "|---|---|\n",
        "| r | Open for reading (default) |\n",
        "| w | Open for writing, truncating existing content |\n",
        "| x | Create a new file and open for writing, fail if exists |\n",
        "| a | Open for appending, create new file if it doesn't exist |\n",
        "| r+ | Open for reading and writing, existing content can be modified |\n",
        "| w+ | Open for reading and writing, existing content is deleted |\n",
        "| a+ | Open for reading and appending, existing content is preserved |\n",
        "| b | Open in binary mode (combine with other modes like 'rb' or 'wb') |\n"
      ]
    },
    {
      "cell_type": "markdown",
      "id": "e496022b",
      "metadata": {
        "id": "e496022b"
      },
      "source": [
        "### File object properties"
      ]
    },
    {
      "cell_type": "code",
      "execution_count": null,
      "id": "e6785120",
      "metadata": {
        "id": "e6785120",
        "outputId": "7bdac7f3-da15-4129-806b-28371f8d57d5"
      },
      "outputs": [
        {
          "name": "stdout",
          "output_type": "stream",
          "text": [
            "File name: sample_data.txt\n",
            "File mode: w\n",
            "Is file readable?  False\n",
            "Is file writable?  True\n",
            "Is file closed?  False\n",
            "Is file closed now?  True\n"
          ]
        }
      ],
      "source": [
        "f = open('sample_data.txt', 'w')\n",
        "\n",
        "print('File name:', f.name)\n",
        "print('File mode:', f.mode)\n",
        "print('Is file readable? ', f.readable())\n",
        "print('Is file writable? ', f.writable())\n",
        "print('Is file closed? ', f.closed)\n",
        "\n",
        "f.close()\n",
        "\n",
        "print('Is file closed now? ', f.closed)"
      ]
    },
    {
      "cell_type": "markdown",
      "id": "3140384c",
      "metadata": {
        "id": "3140384c"
      },
      "source": [
        "### read() -> read all the data"
      ]
    },
    {
      "cell_type": "code",
      "execution_count": null,
      "id": "7d26e3fb",
      "metadata": {
        "id": "7d26e3fb",
        "outputId": "f939eeaa-2336-4681-9651-ab061b5b2f4e"
      },
      "outputs": [
        {
          "name": "stdout",
          "output_type": "stream",
          "text": [
            "Hello!\n",
            "Welcome to this notebook!\n",
            "This is a sample data for my 'data science relearning the fundamentals' project.\n",
            "My name is Hannah Igboke. I am a data analyst/scientist. What about you?\n",
            "A big fan of Harry Potter and GOT book series.\n",
            "I would work at NASA someday in the future.\n",
            "What are you doing to cushion the effects of the current economic situation of the country.\n",
            "\n"
          ]
        }
      ],
      "source": [
        "#reading data from files\n",
        "\n",
        "f = open('sample_data2.txt', 'r')\n",
        "data = f.read()\n",
        "\n",
        "print(data)\n",
        "f.close()"
      ]
    },
    {
      "cell_type": "markdown",
      "id": "8e6373ec",
      "metadata": {
        "id": "8e6373ec"
      },
      "source": [
        "### read(n) -> read n number of characters"
      ]
    },
    {
      "cell_type": "code",
      "execution_count": null,
      "id": "65953e63",
      "metadata": {
        "id": "65953e63",
        "outputId": "e71efdd2-f73f-48de-f117-78dcfa635563"
      },
      "outputs": [
        {
          "name": "stdout",
          "output_type": "stream",
          "text": [
            "Hello!\n",
            "Welcome \n"
          ]
        }
      ],
      "source": [
        "f = open('sample_data2.txt', 'r')\n",
        "data = f.read(15)\n",
        "\n",
        "print(data)\n",
        "f.close()"
      ]
    },
    {
      "cell_type": "markdown",
      "id": "aad96cf4",
      "metadata": {
        "id": "aad96cf4"
      },
      "source": [
        "### readline() -> read only the first line"
      ]
    },
    {
      "cell_type": "code",
      "execution_count": null,
      "id": "689b6965",
      "metadata": {
        "id": "689b6965",
        "outputId": "13706857-6caa-442a-c758-16473159d8d6"
      },
      "outputs": [
        {
          "name": "stdout",
          "output_type": "stream",
          "text": [
            "Hello!\n",
            "\n",
            "Welcome to this notebook!\n",
            "\n"
          ]
        }
      ],
      "source": [
        "f = open('sample_data2.txt', 'r')\n",
        "line1 = f.readline()\n",
        "\n",
        "line2 = f.readline()\n",
        "\n",
        "print(line1)\n",
        "print(line2)"
      ]
    },
    {
      "cell_type": "markdown",
      "id": "bd58301d",
      "metadata": {
        "id": "bd58301d"
      },
      "source": [
        "### readlines() -> read all the lines into a list"
      ]
    },
    {
      "cell_type": "code",
      "execution_count": null,
      "id": "edbfa8ad",
      "metadata": {
        "id": "edbfa8ad",
        "outputId": "6a42d2b9-ccac-4c42-937c-7c0ff8af3652"
      },
      "outputs": [
        {
          "name": "stdout",
          "output_type": "stream",
          "text": [
            "Hello!\n",
            "\n",
            "Welcome to this notebook!\n",
            "\n",
            "This is a sample data for my 'data science relearning the fundamentals' project.\n",
            "\n",
            "My name is Hannah Igboke. I am a data analyst/scientist. What about you?\n",
            "\n",
            "A big fan of Harry Potter and GOT book series.\n",
            "\n",
            "I would work at NASA someday in the future.\n",
            "\n",
            "What are you doing to cushion the effects of the current economic situation of the country.\n",
            "\n"
          ]
        }
      ],
      "source": [
        "f = open('sample_data2.txt', 'r')\n",
        "\n",
        "lines = f.readlines()\n",
        "\n",
        "for l in lines:\n",
        "    print(l)"
      ]
    },
    {
      "cell_type": "code",
      "execution_count": null,
      "id": "3dcc978a",
      "metadata": {
        "id": "3dcc978a",
        "outputId": "df5738d3-6671-4172-dd0f-e1e11b0d2539"
      },
      "outputs": [
        {
          "data": {
            "text/plain": [
              "list"
            ]
          },
          "execution_count": 15,
          "metadata": {},
          "output_type": "execute_result"
        }
      ],
      "source": [
        "type(lines)"
      ]
    },
    {
      "cell_type": "markdown",
      "id": "be5ba46e",
      "metadata": {
        "id": "be5ba46e"
      },
      "source": [
        "## Write data to text files"
      ]
    },
    {
      "cell_type": "code",
      "execution_count": null,
      "id": "903ee58e",
      "metadata": {
        "id": "903ee58e",
        "outputId": "b4ab5ea5-625b-419d-9066-24918c5fa73e"
      },
      "outputs": [
        {
          "ename": "UnsupportedOperation",
          "evalue": "not readable",
          "output_type": "error",
          "traceback": [
            "\u001b[1;31m---------------------------------------------------------------------------\u001b[0m",
            "\u001b[1;31mUnsupportedOperation\u001b[0m                      Traceback (most recent call last)",
            "\u001b[1;32m~\\AppData\\Local\\Temp\\ipykernel_10024\\941956916.py\u001b[0m in \u001b[0;36m<module>\u001b[1;34m\u001b[0m\n\u001b[0;32m      5\u001b[0m \u001b[0mf\u001b[0m\u001b[1;33m.\u001b[0m\u001b[0mwrite\u001b[0m\u001b[1;33m(\u001b[0m\u001b[1;34m' LLM'\u001b[0m\u001b[1;33m)\u001b[0m\u001b[1;33m\u001b[0m\u001b[1;33m\u001b[0m\u001b[0m\n\u001b[0;32m      6\u001b[0m \u001b[1;33m\u001b[0m\u001b[0m\n\u001b[1;32m----> 7\u001b[1;33m \u001b[0mdata\u001b[0m \u001b[1;33m=\u001b[0m \u001b[0mf\u001b[0m\u001b[1;33m.\u001b[0m\u001b[0mread\u001b[0m\u001b[1;33m(\u001b[0m\u001b[1;33m)\u001b[0m\u001b[1;33m\u001b[0m\u001b[1;33m\u001b[0m\u001b[0m\n\u001b[0m\u001b[0;32m      8\u001b[0m \u001b[0mprint\u001b[0m\u001b[1;33m(\u001b[0m\u001b[0mdata\u001b[0m\u001b[1;33m)\u001b[0m\u001b[1;33m\u001b[0m\u001b[1;33m\u001b[0m\u001b[0m\n\u001b[0;32m      9\u001b[0m \u001b[1;33m\u001b[0m\u001b[0m\n",
            "\u001b[1;31mUnsupportedOperation\u001b[0m: not readable"
          ]
        }
      ],
      "source": [
        "f = open('sample_data.txt', 'a')\n",
        "\n",
        "f.write(' abc')\n",
        "f.write(' cat and mouse')\n",
        "f.write(' LLM')\n",
        "\n",
        "data = f.read()\n",
        "print(data)\n",
        "\n",
        "f.close()\n"
      ]
    },
    {
      "cell_type": "markdown",
      "id": "c8404952",
      "metadata": {
        "id": "c8404952"
      },
      "source": [
        "Keep this error in mind"
      ]
    },
    {
      "cell_type": "markdown",
      "id": "492fbf7c",
      "metadata": {
        "id": "492fbf7c"
      },
      "source": [
        "Remember the error earlier, after appending data to the txt file we could not read the data from the file. To resolve this we use the `r+ mode`. It opens a file for reading and writing, and existing content can be modified."
      ]
    },
    {
      "cell_type": "code",
      "execution_count": null,
      "id": "d42c739c",
      "metadata": {
        "id": "d42c739c",
        "outputId": "74c17bb1-f2bb-4986-ef2a-c486a70fe71b"
      },
      "outputs": [
        {
          "name": "stdout",
          "output_type": "stream",
          "text": [
            " abc cat and mouse LLM\n"
          ]
        }
      ],
      "source": [
        "f = open('sample_data.txt', 'r+')\n",
        "\n",
        "data = f.read()\n",
        "print(data)\n",
        "\n",
        "f.write(' Alphabets, Animals and LLM!')\n",
        "\n",
        "f.close()"
      ]
    },
    {
      "cell_type": "code",
      "execution_count": null,
      "id": "e6cd5cd0",
      "metadata": {
        "id": "e6cd5cd0",
        "outputId": "2632b4e8-7c3b-4461-942b-0224d360501f"
      },
      "outputs": [
        {
          "name": "stdout",
          "output_type": "stream",
          "text": [
            " abc cat and mouse LLM Alphabets, Animals and LLM!\n"
          ]
        }
      ],
      "source": [
        "f =open('sample_data.txt')\n",
        "\n",
        "data = f.read()\n",
        "print(data)\n",
        "f.close()"
      ]
    },
    {
      "cell_type": "code",
      "execution_count": null,
      "id": "20a4c363",
      "metadata": {
        "id": "20a4c363",
        "outputId": "a421180e-17e2-497f-dd66-b83f8d0d701e"
      },
      "outputs": [
        {
          "data": {
            "text/plain": [
              "<function TextIOWrapper.close()>"
            ]
          },
          "execution_count": 35,
          "metadata": {},
          "output_type": "execute_result"
        }
      ],
      "source": [
        "# writelines takes a sequence\n",
        "\n",
        "f = open('sample_data.txt3', 'w')\n",
        "\n",
        "lines = ['line1', 'line2', 'line3']\n",
        "\n",
        "f.writelines(lines)\n",
        "f.close"
      ]
    },
    {
      "cell_type": "markdown",
      "id": "8f757350",
      "metadata": {
        "id": "8f757350"
      },
      "source": [
        "## Using `with` statement\n",
        "\n",
        "It provides a concise and safe way to handle file opening, closing and potential exceptions in file handling."
      ]
    },
    {
      "cell_type": "code",
      "execution_count": null,
      "id": "799a24e3",
      "metadata": {
        "id": "799a24e3",
        "outputId": "5f3dadcf-a64c-4214-b110-e6e0195d093a"
      },
      "outputs": [
        {
          "name": "stdout",
          "output_type": "stream",
          "text": [
            "Is file closed at this point?  False\n",
            "How about now?  True\n"
          ]
        }
      ],
      "source": [
        "with open('sample_data.txt', 'a') as f:\n",
        "    lines = ['Line1', 'Line2', 'Line3']\n",
        "    f.writelines(lines)\n",
        "\n",
        "    #checking if the file has been closed at this point - remeber that we are still inside the with statement block\n",
        "    print('Is file closed at this point? ', f.closed)\n",
        "\n",
        "#now we are outside the with block\n",
        "print('How about now? ', f.closed)\n"
      ]
    },
    {
      "cell_type": "code",
      "execution_count": null,
      "id": "c9359d3c",
      "metadata": {
        "id": "c9359d3c",
        "outputId": "5b27606d-7f1d-4cd3-b248-8b9a47e1eb94"
      },
      "outputs": [
        {
          "name": "stdout",
          "output_type": "stream",
          "text": [
            " abc cat and mouse LLM Alphabets, Animals and LLM!Line1Line2Line3\n"
          ]
        }
      ],
      "source": [
        "f = open('sample_data.txt', 'r')\n",
        "data = f.read()\n",
        "\n",
        "print(data)"
      ]
    },
    {
      "cell_type": "markdown",
      "id": "fb51e556",
      "metadata": {
        "id": "fb51e556"
      },
      "source": [
        "## Using seek() and tell()\n",
        "\n",
        "Used to mainpulate the file pointer's position within a file object."
      ]
    },
    {
      "cell_type": "markdown",
      "id": "2742dd11",
      "metadata": {
        "id": "2742dd11"
      },
      "source": [
        "### seek(offset, whence=0)\n",
        "\n",
        "Used to move the file pointer to a new position within the file. It takes two arguments:\n",
        "\n",
        "- offset: an integer specifying the number of bytes to move the file pointer. It can be +ve(to move forward), -ve(backward) or 0.\n",
        "\n",
        "\n",
        "- whence(optional): an integer value that defines the reference point from which the offset is to be applied. It defaults to 0 (referencing the beginning of the file) Some common values for whence include:\n",
        "\n",
        "    - 0: move to beginning of the file (SEEK_SET)\n",
        "    - 1: move from the current position of the file pointer (SEEK_CUR)\n",
        "    - 2: move to the end of the file (SEEK_END)\n"
      ]
    },
    {
      "cell_type": "code",
      "execution_count": null,
      "id": "9655c46f",
      "metadata": {
        "id": "9655c46f",
        "outputId": "802ab8fb-4a64-46f7-d71e-07a3a329c1cf"
      },
      "outputs": [
        {
          "name": "stdout",
          "output_type": "stream",
          "text": [
            "Hello\n",
            "lcome to t\n"
          ]
        }
      ],
      "source": [
        "with open('sample_data2.txt', 'r+') as f:\n",
        "\n",
        "    #reading the first 5bytes\n",
        "    data = f.read(5)\n",
        "    print(data)\n",
        "\n",
        "    #moving the pointer 10bytes forward from the current position\n",
        "    f.seek(10,0)\n",
        "\n",
        "    #reading the next 10 bytes\n",
        "    data = f.read(10)\n",
        "    print(data)"
      ]
    },
    {
      "cell_type": "markdown",
      "id": "1e31368e",
      "metadata": {
        "id": "1e31368e"
      },
      "source": [
        "### tell()\n",
        "\n",
        "This method returns the current position of the file pointer within the file as an integer number of bytes. It simply tells you where the file pointer is currently located."
      ]
    },
    {
      "cell_type": "code",
      "execution_count": null,
      "id": "6947b383",
      "metadata": {
        "id": "6947b383",
        "outputId": "66799914-bb5a-41d6-aee0-831907f729c7"
      },
      "outputs": [
        {
          "name": "stdout",
          "output_type": "stream",
          "text": [
            "Current pointer position:  0\n",
            "Current pointer position:  377\n",
            "Current pointer position:  10\n"
          ]
        }
      ],
      "source": [
        "with open('sample_data2.txt', 'r+') as f:\n",
        "    print('Current pointer position: ',f.tell())\n",
        "    text = f.read()\n",
        "\n",
        "    print('Current pointer position: ',f.tell())\n",
        "    f.seek(2)\n",
        "\n",
        "    f.write('The End!')\n",
        "\n",
        "    print('Current pointer position: ',f.tell())\n"
      ]
    },
    {
      "cell_type": "markdown",
      "id": "fc4609a7",
      "metadata": {
        "id": "fc4609a7"
      },
      "source": [
        "## Renaming and deleting files"
      ]
    },
    {
      "cell_type": "code",
      "execution_count": null,
      "id": "d35ab57e",
      "metadata": {
        "id": "d35ab57e"
      },
      "outputs": [],
      "source": [
        "import os\n",
        "\n",
        "os.rename('sample_data2.txt', 'my_data.txt')\n",
        "\n",
        "##to remove a file\n",
        "\n",
        "#os.remove('sample_data2.txt')"
      ]
    },
    {
      "cell_type": "markdown",
      "id": "a23d0612",
      "metadata": {
        "id": "a23d0612"
      },
      "source": [
        "## Splitting lines"
      ]
    },
    {
      "cell_type": "code",
      "execution_count": null,
      "id": "2a71efeb",
      "metadata": {
        "id": "2a71efeb",
        "outputId": "37a535ed-5a09-4d9b-9631-b27f5b82c713"
      },
      "outputs": [
        {
          "name": "stdout",
          "output_type": "stream",
          "text": [
            "['Hello!']\n",
            "['Welcome', 'to', 'this', 'notebook!']\n",
            "['This', 'is', 'a', 'sample', 'data', 'for', 'my', \"'data\", 'science', 'relearning', 'the', \"fundamentals'\", 'project.']\n",
            "['My', 'name', 'is', 'Hannah', 'Igboke.', 'I', 'am', 'a', 'data', 'analyst/scientist.', 'What', 'about', 'you?']\n",
            "['A', 'big', 'fan', 'of', 'Harry', 'Potter', 'and', 'GOT', 'book', 'series.']\n",
            "['I', 'would', 'work', 'at', 'NASA', 'someday', 'in', 'the', 'future.']\n",
            "['What', 'are', 'you', 'doing', 'to', 'cushion', 'the', 'effects', 'of', 'the', 'current', 'economic', 'situation', 'of', 'the', 'country.']\n"
          ]
        }
      ],
      "source": [
        "with open('my_data.txt', 'r') as f:\n",
        "    lines = f.readlines()\n",
        "\n",
        "    for l in lines:\n",
        "        words = l.split()\n",
        "        print(words)"
      ]
    },
    {
      "cell_type": "markdown",
      "id": "96d3ad74",
      "metadata": {
        "id": "96d3ad74"
      },
      "source": [
        "## Tasks"
      ]
    },
    {
      "cell_type": "markdown",
      "id": "a1c9c5cb",
      "metadata": {
        "id": "a1c9c5cb"
      },
      "source": [
        "### 1. Write a Python program to copy the contents of a file to another file"
      ]
    },
    {
      "cell_type": "code",
      "execution_count": null,
      "id": "0bc15b96",
      "metadata": {
        "id": "0bc15b96",
        "outputId": "a5c68aa7-d0fe-4e2e-b7d3-a956104032bf"
      },
      "outputs": [
        {
          "name": "stdout",
          "output_type": "stream",
          "text": [
            "Hello!\n",
            "Welcome to this notebook!\n",
            "This is a sample data for my 'data science relearning the fundamentals' project.\n",
            "My name is Hannah Igboke. I am a data analyst/scientist. What about you?\n",
            "A big fan of Harry Potter and GOT book series.\n",
            "I would work at NASA someday in the future.\n",
            "What are you doing to cushion the effects of the current economic situation of the country.\n",
            "\n"
          ]
        }
      ],
      "source": [
        "with open('data1.txt', 'a') as f1:\n",
        "    with open('my_data.txt', 'r') as f2:\n",
        "        data = f2.read()\n",
        "    f1.write(data)\n",
        "\n",
        "#to check if it worked\n",
        "f = open('data1.txt', 'r')\n",
        "print(f.read())\n",
        "\n",
        "f.close()"
      ]
    },
    {
      "cell_type": "code",
      "execution_count": null,
      "id": "d6ff306a",
      "metadata": {
        "id": "d6ff306a",
        "outputId": "dacf6dc2-46af-46e5-f2e1-4c5b479fa3c6"
      },
      "outputs": [
        {
          "name": "stdout",
          "output_type": "stream",
          "text": [
            "Hello!\n",
            "Welcome to this notebook!\n",
            "This is a sample data for my 'data science relearning the fundamentals' project.\n",
            "My name is Hannah Igboke. I am a data analyst/scientist. What about you?\n",
            "A big fan of Harry Potter and GOT book series.\n",
            "I would work at NASA someday in the future.\n",
            "What are you doing to cushion the effects of the current economic situation of the country.\n",
            "\n"
          ]
        }
      ],
      "source": [
        "## Anoother way to write the code above\n",
        "\n",
        "with open('my_data.txt', 'r') as f1, open('my_data2.txt', 'w') as f2:\n",
        "    for line in f1:\n",
        "        f2.write(line)\n",
        "\n",
        "#to check if it worked\n",
        "f = open('my_data2.txt', 'r')\n",
        "print(f.read())\n",
        "\n",
        "f.close()"
      ]
    },
    {
      "cell_type": "markdown",
      "id": "74bc9a43",
      "metadata": {
        "id": "74bc9a43"
      },
      "source": [
        "### 2. Write a Python program to combine each line from first file with the corresponding line in second file."
      ]
    },
    {
      "cell_type": "code",
      "execution_count": null,
      "id": "0e8d820f",
      "metadata": {
        "id": "0e8d820f",
        "outputId": "38f897ff-05c4-4aba-d377-4bf48cf0284c"
      },
      "outputs": [
        {
          "name": "stdout",
          "output_type": "stream",
          "text": [
            "Hello!\n",
            "\n",
            "Welcome to this notebook!\n",
            "\n",
            "This is a sample data for my 'data science relearning the fundamentals' project.\n",
            "\n",
            "My name is Hannah Igboke. I am a data analyst/scientist. What about you?\n",
            "\n",
            "A big fan of Harry Potter and GOT book series.\n",
            "\n",
            "I would work at NASA someday in the future.\n",
            "\n",
            "What are you doing to cushion the effects of the current economic situation of the country.\n",
            "\n",
            "1234567890\n",
            "\n",
            "0987654312\n",
            "\n",
            "12345\n",
            "\n",
            "654329\n",
            "\n",
            "09876123\n",
            "\n",
            "43567\n",
            "\n",
            "89321\n"
          ]
        }
      ],
      "source": [
        "with open('data1.txt', 'r') as f1:\n",
        "    lines1 = f1.readlines()\n",
        "    for line in lines1:\n",
        "        print(line)\n",
        "    with open ('numbers.txt', 'r') as f2:\n",
        "        lines2 = f2.readlines()\n",
        "        for line in lines2:\n",
        "            print(line)"
      ]
    },
    {
      "cell_type": "markdown",
      "id": "d041933b",
      "metadata": {
        "id": "d041933b"
      },
      "source": [
        "This code does not produce the intended output so I'll try again.\n",
        "\n",
        "I am trying to iterate through two files line by line parallelly. I can resolve this using the zip function."
      ]
    },
    {
      "cell_type": "code",
      "execution_count": null,
      "id": "f8afb011",
      "metadata": {
        "id": "f8afb011",
        "outputId": "385cbaa5-d052-4c19-b96e-c272639cadff"
      },
      "outputs": [
        {
          "name": "stdout",
          "output_type": "stream",
          "text": [
            "Hello!\n",
            "1234567890\n",
            "\n",
            "Welcome to this notebook!\n",
            "0987654312\n",
            "\n",
            "This is a sample data for my 'data science relearning the fundamentals' project.\n",
            "12345\n",
            "\n",
            "My name is Hannah Igboke. I am a data analyst/scientist. What about you?\n",
            "654329\n",
            "\n",
            "A big fan of Harry Potter and GOT book series.\n",
            "09876123\n",
            "\n",
            "I would work at NASA someday in the future.\n",
            "43567\n",
            "\n",
            "What are you doing to cushion the effects of the current economic situation of the country.\n",
            "89321\n"
          ]
        }
      ],
      "source": [
        "with open('data1.txt', 'r') as f1, open('numbers.txt', 'r') as f2:\n",
        "    for line1, line2 in zip(f1,f2):\n",
        "        combined_line = line1+line2\n",
        "        print(combined_line)"
      ]
    },
    {
      "cell_type": "markdown",
      "id": "c37a368e",
      "metadata": {
        "id": "c37a368e"
      },
      "source": [
        "### 3. Write a Python program to write 10 random numbers into a file. Read the file and then sort the numbers and then store it to another file."
      ]
    },
    {
      "cell_type": "code",
      "execution_count": null,
      "id": "8fb28d0b",
      "metadata": {
        "id": "8fb28d0b",
        "outputId": "d737ab4f-b1a3-4034-bd37-8c567528a550"
      },
      "outputs": [
        {
          "name": "stdout",
          "output_type": "stream",
          "text": [
            "Help on method randrange in module random:\n",
            "\n",
            "randrange(start, stop=None, step=1) method of random.Random instance\n",
            "    Choose a random item from range(start, stop[, step]).\n",
            "    \n",
            "    This fixes the problem with randint() which includes the\n",
            "    endpoint; in Python this is usually not what you want.\n",
            "\n"
          ]
        }
      ],
      "source": [
        "import random\n",
        "help(random.randrange)"
      ]
    },
    {
      "cell_type": "code",
      "execution_count": null,
      "id": "1576fc28",
      "metadata": {
        "id": "1576fc28"
      },
      "outputs": [],
      "source": [
        "import random\n",
        "\n",
        "with open('new_data2.txt', 'w') as f3:\n",
        "    with open('new_data.txt', 'x') as f1:\n",
        "        for i in range(10):\n",
        "            f1.write(str(random.randrange(0,100, 2))+'\\n')\n",
        "\n",
        "    with open('new_data.txt', 'r') as f2:\n",
        "        data = []\n",
        "        for line in f2:\n",
        "            data.append(int(line.strip()))\n",
        "        data.sort()\n",
        "\n",
        "    for num in data:\n",
        "        f3.write(str(num)+'\\n')\n"
      ]
    },
    {
      "cell_type": "code",
      "execution_count": null,
      "id": "52814c54",
      "metadata": {
        "id": "52814c54",
        "outputId": "b9353916-733c-4d49-8705-dcf056940679"
      },
      "outputs": [
        {
          "name": "stdout",
          "output_type": "stream",
          "text": [
            "68\n",
            "84\n",
            "50\n",
            "42\n",
            "46\n",
            "66\n",
            "40\n",
            "56\n",
            "84\n",
            "30\n",
            "\n"
          ]
        }
      ],
      "source": [
        "f = open('new_data.txt', 'r')\n",
        "\n",
        "data = f.read()\n",
        "print(data)\n",
        "f.close()"
      ]
    },
    {
      "cell_type": "code",
      "execution_count": null,
      "id": "de66a028",
      "metadata": {
        "id": "de66a028",
        "outputId": "36e6a839-61bb-4641-bbf4-1f4eb8a97f2a"
      },
      "outputs": [
        {
          "name": "stdout",
          "output_type": "stream",
          "text": [
            "30\n",
            "40\n",
            "42\n",
            "46\n",
            "50\n",
            "56\n",
            "66\n",
            "68\n",
            "84\n",
            "84\n",
            "\n"
          ]
        }
      ],
      "source": [
        "f = open('new_data2.txt', 'r')\n",
        "\n",
        "data = f.read()\n",
        "print(data)\n",
        "f.close()"
      ]
    },
    {
      "cell_type": "markdown",
      "id": "b7d8e013",
      "metadata": {
        "id": "b7d8e013"
      },
      "source": [
        "## Importing in python"
      ]
    },
    {
      "cell_type": "code",
      "execution_count": null,
      "id": "6381bf1b",
      "metadata": {
        "id": "6381bf1b"
      },
      "outputs": [],
      "source": [
        "# Using numpy -- Used for cases where the data file contains numerical records.\n",
        "\n",
        "import numpy as np\n",
        "filename = 'heights.txt'\n",
        "data = np.loadtxt(filename, delimiter = ',', skiprows=1, usecols=[0,2], dtype=str)\n",
        "#where usecols is the list of the column indices you want to remove"
      ]
    },
    {
      "cell_type": "markdown",
      "id": "1bc195f3",
      "metadata": {
        "id": "1bc195f3"
      },
      "source": [
        "By mastering file handling, you can efficiently work with data stored in files, making your programs more powerful and flexible!"
      ]
    }
  ],
  "metadata": {
    "kernelspec": {
      "display_name": "Python 3 (ipykernel)",
      "language": "python",
      "name": "python3"
    },
    "language_info": {
      "codemirror_mode": {
        "name": "ipython",
        "version": 3
      },
      "file_extension": ".py",
      "mimetype": "text/x-python",
      "name": "python",
      "nbconvert_exporter": "python",
      "pygments_lexer": "ipython3",
      "version": "3.12.7"
    },
    "colab": {
      "provenance": [],
      "include_colab_link": true
    }
  },
  "nbformat": 4,
  "nbformat_minor": 5
}