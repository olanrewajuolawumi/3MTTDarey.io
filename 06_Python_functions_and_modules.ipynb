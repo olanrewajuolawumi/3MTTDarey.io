{
  "cells": [
    {
      "cell_type": "markdown",
      "metadata": {
        "id": "view-in-github",
        "colab_type": "text"
      },
      "source": [
        "<a href=\"https://colab.research.google.com/github/olanrewajuolawumi/3MTTDarey.io/blob/main/06_Python_functions_and_modules.ipynb\" target=\"_parent\"><img src=\"https://colab.research.google.com/assets/colab-badge.svg\" alt=\"Open In Colab\"/></a>"
      ]
    },
    {
      "cell_type": "code",
      "source": [],
      "metadata": {
        "id": "0JJsUSl55pv3"
      },
      "id": "0JJsUSl55pv3",
      "execution_count": null,
      "outputs": []
    },
    {
      "cell_type": "markdown",
      "id": "e200d694",
      "metadata": {
        "id": "e200d694"
      },
      "source": [
        "# E. Python Functions\n",
        "\n",
        "![python_functions.png](https://drive.google.com/uc?export=view&id=1cHLrLHP2TUzQ4nTaXWW7ZhAk4F1mYRsz)\n",
        "\n",
        "\n",
        "Functions are reusable blocks of code that carry out a specific task.\n",
        "\n",
        "#### Why Use Functions?\n",
        "- _Reusability_: Write code once, use it many times.\n",
        "- _Readability_: Organizes code into smaller chunks that are easier to understand.\n",
        "- _Debugging_: Easier to troubleshoot and fix bugs when code is broken into functions.\n",
        "- _Modularity_: Makes it easier to divide and conquer problems.\n",
        "\n",
        "**Example**\n",
        "\n",
        "A function to calculate the area of a Rectangle.\n",
        "\n",
        "We’ll define a function called calculate_area that takes two parameters: width and height."
      ]
    },
    {
      "cell_type": "code",
      "execution_count": null,
      "id": "357f6202",
      "metadata": {
        "id": "357f6202"
      },
      "outputs": [],
      "source": [
        "def calculate_area(width, height):\n",
        "  area = width * height\n",
        "  return area"
      ]
    },
    {
      "cell_type": "markdown",
      "id": "5964897e",
      "metadata": {
        "id": "5964897e"
      },
      "source": [
        "**What just happened?**\n",
        "\n",
        "- Function Definition: We created the calculate_area function that accepts two parameters: **width** and **height**. Inside the function, we multiply these two values to get the area, then return the result.\n",
        "\n",
        "- Function Call: When we call the function using **calculate_area(5, 10)**, it calculates **5 * 10** and returns the result as seen below:"
      ]
    },
    {
      "cell_type": "code",
      "execution_count": null,
      "id": "7ad68c28",
      "metadata": {
        "id": "7ad68c28",
        "outputId": "f5d2610f-4ecd-4a3d-d123-9a879925b7f8",
        "colab": {
          "base_uri": "https://localhost:8080/"
        }
      },
      "outputs": [
        {
          "output_type": "execute_result",
          "data": {
            "text/plain": [
              "50"
            ]
          },
          "metadata": {},
          "execution_count": 2
        }
      ],
      "source": [
        "calculate_area(5,10)"
      ]
    },
    {
      "cell_type": "markdown",
      "id": "f17ebfd9",
      "metadata": {
        "id": "f17ebfd9"
      },
      "source": [
        "**It doesn't stop there, you can try it out with other values**"
      ]
    },
    {
      "cell_type": "code",
      "execution_count": null,
      "id": "e9ec493e",
      "metadata": {
        "id": "e9ec493e",
        "outputId": "a7a8d5dc-60cb-49df-863f-595963958162",
        "colab": {
          "base_uri": "https://localhost:8080/"
        }
      },
      "outputs": [
        {
          "output_type": "stream",
          "name": "stdout",
          "text": [
            "21\n",
            "48\n"
          ]
        }
      ],
      "source": [
        "print(calculate_area(7, 3))\n",
        "print(calculate_area(6, 8))"
      ]
    },
    {
      "cell_type": "markdown",
      "id": "e724dbcb",
      "metadata": {
        "id": "e724dbcb"
      },
      "source": [
        "### How to Define a Function in Python\n",
        "\n",
        "**Basic Syntax**\n",
        "\n",
        "In Python, a function is defined using the def keyword followed by the function name and parentheses **()**."
      ]
    },
    {
      "cell_type": "code",
      "execution_count": null,
      "id": "d33d47a6",
      "metadata": {
        "id": "d33d47a6"
      },
      "outputs": [],
      "source": [
        "def function_name():\n",
        "    # Block of code inside the function\n",
        "    print(\"Hello, world!\")"
      ]
    },
    {
      "cell_type": "markdown",
      "id": "bdf8f8a4",
      "metadata": {
        "id": "bdf8f8a4"
      },
      "source": [
        "### Step-by-Step Breakdown\n",
        "- **def keyword:** This tells Python that you're defining a function.\n",
        "\n",
        "- **function_name:** This is the name of your function. It should be meaningful and describe what the function does.\n",
        "\n",
        "- **Parentheses ():** They are required even if the function doesn't take any arguments.\n",
        "\n",
        "- **Colon :** : This indicates the start of the function’s body.\n",
        "\n",
        "- **Indentation:** Python uses indentation (usually 4 spaces) to mark the code that belongs to the function."
      ]
    },
    {
      "cell_type": "markdown",
      "id": "c5c8528e",
      "metadata": {
        "id": "c5c8528e"
      },
      "source": [
        "### Calling a Function\n",
        "To use the function you’ve defined, just type the function name followed by parentheses:"
      ]
    },
    {
      "cell_type": "code",
      "execution_count": null,
      "id": "25820acc",
      "metadata": {
        "id": "25820acc",
        "outputId": "680ac9b4-2b55-45d7-ffae-2a07d8c0b565",
        "colab": {
          "base_uri": "https://localhost:8080/"
        }
      },
      "outputs": [
        {
          "output_type": "stream",
          "name": "stdout",
          "text": [
            "Hello, world!\n"
          ]
        }
      ],
      "source": [
        "function_name()"
      ]
    },
    {
      "cell_type": "markdown",
      "id": "0ed92029",
      "metadata": {
        "id": "0ed92029"
      },
      "source": [
        "### Functions with Parameters\n",
        "You can make your functions more flexible by passing parameters (inputs) to them. Parameters allow you to provide information that the function can use when it runs.\n",
        "\n",
        "Syntax with Parameters:"
      ]
    },
    {
      "cell_type": "code",
      "execution_count": null,
      "id": "81004708",
      "metadata": {
        "id": "81004708"
      },
      "outputs": [],
      "source": [
        "def greet(name):\n",
        "    print(\"Hello,\", name)\n",
        "\n",
        "# calling the function\n"
      ]
    },
    {
      "cell_type": "code",
      "source": [
        "greet(\"Alice\")\n",
        "greet(\"Hannah\")"
      ],
      "metadata": {
        "colab": {
          "base_uri": "https://localhost:8080/"
        },
        "id": "AzAGCqNlh5yE",
        "outputId": "e26b1f61-2233-4b4a-9197-df39f3871905"
      },
      "id": "AzAGCqNlh5yE",
      "execution_count": null,
      "outputs": [
        {
          "output_type": "stream",
          "name": "stdout",
          "text": [
            "Hello, Alice\n",
            "Hello, Hannah\n"
          ]
        }
      ]
    },
    {
      "cell_type": "markdown",
      "id": "f4cd86f9",
      "metadata": {
        "id": "f4cd86f9"
      },
      "source": [
        "In this example, **\"name\"** is the parameter. When calling **greet()**, you provide the actual value **(like \"Alice\" or \"Bob\")** known as an argument."
      ]
    },
    {
      "cell_type": "markdown",
      "id": "f190b4bd",
      "metadata": {
        "id": "f190b4bd"
      },
      "source": [
        "### Functions with Return Values\n",
        "Sometimes, you want a function to calculate or process something and return the result. You can use the return statement to send back a value.\n",
        "\n",
        "Syntax with Return Value:"
      ]
    },
    {
      "cell_type": "code",
      "execution_count": null,
      "id": "6428c647",
      "metadata": {
        "id": "6428c647",
        "outputId": "6e83b475-5c91-4870-bd2a-185a89ea1513",
        "colab": {
          "base_uri": "https://localhost:8080/"
        }
      },
      "outputs": [
        {
          "output_type": "stream",
          "name": "stdout",
          "text": [
            "8\n"
          ]
        }
      ],
      "source": [
        "# Define functons\n",
        "def add_numbers(a, b):\n",
        "    return a + b\n",
        "\n",
        "# call functions\n",
        "result = add_numbers(3, 5)\n",
        "print(result)"
      ]
    },
    {
      "cell_type": "markdown",
      "id": "93973af2",
      "metadata": {
        "id": "93973af2"
      },
      "source": [
        "Here, add_numbers takes two arguments **a and b**, adds them together, and returns the result. The returned value is then stored in the result variable.\n",
        "\n",
        "\n",
        "### Types of parameters\n",
        "- Positional parameters\n",
        "- Default Parameters\n",
        "- Keyword Parameters"
      ]
    },
    {
      "cell_type": "markdown",
      "id": "0af3de38",
      "metadata": {
        "id": "0af3de38"
      },
      "source": [
        "#### Positional Parameters:\n",
        "When you define a function in Python, you can specify parameters that the function expects to receive. These are called positional parameters. The key thing about positional parameters is that the arguments you pass to the function must be in the same order as the parameters are defined.\n",
        "\n",
        "**Example:**"
      ]
    },
    {
      "cell_type": "code",
      "execution_count": null,
      "id": "33d25b4f",
      "metadata": {
        "id": "33d25b4f",
        "outputId": "8efa18a4-a3e4-42dd-a84b-12a7da93da6a",
        "colab": {
          "base_uri": "https://localhost:8080/"
        }
      },
      "outputs": [
        {
          "output_type": "stream",
          "name": "stdout",
          "text": [
            "Hello, Igboke   Hannah\n"
          ]
        }
      ],
      "source": [
        "def greet(first_name, last_name):\n",
        "    print(\"Hello,\", first_name, \" \", last_name)\n",
        "\n",
        "greet(\"Igboke\", \"Hannah\")"
      ]
    },
    {
      "cell_type": "markdown",
      "id": "8c17d404",
      "metadata": {
        "id": "8c17d404"
      },
      "source": [
        "**Explanation:**\n",
        "\n",
        "The function greet takes two parameters: **first_name** and **last_name.**\n",
        "- When you call **greet(\"Bill\", \"Clinton\")**, Python matches the first argument (\"Bill\") to the first parameter (first_name), and the second argument (\"Clinton\") to the second parameter (last_name).\n",
        "- If you switch the arguments, the meaning changes:"
      ]
    },
    {
      "cell_type": "code",
      "execution_count": null,
      "id": "4cabfe64",
      "metadata": {
        "id": "4cabfe64",
        "outputId": "109c7175-4820-4dfb-b7bc-f862cb7f25d7",
        "colab": {
          "base_uri": "https://localhost:8080/"
        }
      },
      "outputs": [
        {
          "output_type": "stream",
          "name": "stdout",
          "text": [
            "Hello, Clinton   Bill\n"
          ]
        }
      ],
      "source": [
        "greet(\"Clinton\", \"Bill\")"
      ]
    },
    {
      "cell_type": "markdown",
      "id": "ba32e598",
      "metadata": {
        "id": "ba32e598"
      },
      "source": [
        "**In summary:**\n",
        "- Positional parameters must be passed in the correct order."
      ]
    },
    {
      "cell_type": "markdown",
      "id": "d367bd19",
      "metadata": {
        "id": "d367bd19"
      },
      "source": [
        "### Default Parameters\n",
        "You can assign default values to parameters in Python functions. This means that if you don't provide a value for that parameter when calling the function, Python will use the default value.\n",
        "\n",
        "Example:"
      ]
    },
    {
      "cell_type": "code",
      "execution_count": null,
      "id": "ee99f11c",
      "metadata": {
        "id": "ee99f11c",
        "outputId": "98d480c5-c97b-472a-fa55-aab57aa06d65",
        "colab": {
          "base_uri": "https://localhost:8080/"
        }
      },
      "outputs": [
        {
          "output_type": "stream",
          "name": "stdout",
          "text": [
            "Hello, Alice Smith!\n",
            "Hello, Alice Johnson!\n"
          ]
        }
      ],
      "source": [
        "def greet(first_name, last_name=\"Smith\"):\n",
        "    print(f\"Hello, {first_name} {last_name}!\")\n",
        "\n",
        "greet(\"Alice\")\n",
        "greet(\"Alice\", \"Johnson\")"
      ]
    },
    {
      "cell_type": "markdown",
      "id": "7504c1ae",
      "metadata": {
        "id": "7504c1ae"
      },
      "source": [
        "#### Explanation:\n",
        "\n",
        "- The function greet has two parameters: first_name and last_name. The last_name parameter has a default value of \"Smith\".\n",
        "- If you don't provide a value for last_name, the function uses \"Smith\" as the last name.\n",
        "- If you provide both first_name and last_name, the function uses your provided values.\n",
        "\n",
        "**In summary:**\n",
        "\n",
        "Default parameters are useful when you want to make some parameters optional."
      ]
    },
    {
      "cell_type": "markdown",
      "id": "c474e755",
      "metadata": {
        "id": "c474e755"
      },
      "source": [
        "### Keyword Parameters\n",
        "Keyword parameters allow you to specify which parameter gets which value, regardless of the order of the parameters. You do this by naming the parameter in the function call.\n",
        "\n",
        "Example:"
      ]
    },
    {
      "cell_type": "code",
      "execution_count": null,
      "id": "89a1b921",
      "metadata": {
        "id": "89a1b921",
        "outputId": "a98a8e94-ff6a-4f3e-d2ab-642db6c736c1",
        "colab": {
          "base_uri": "https://localhost:8080/"
        }
      },
      "outputs": [
        {
          "output_type": "stream",
          "name": "stdout",
          "text": [
            "Hello, John Doe!\n"
          ]
        }
      ],
      "source": [
        "def greet(first_name, last_name):\n",
        "    print(f\"Hello, {first_name} {last_name}!\")\n",
        "\n",
        "greet(last_name=\"Doe\", first_name=\"John\")"
      ]
    },
    {
      "cell_type": "markdown",
      "id": "3578c637",
      "metadata": {
        "id": "3578c637"
      },
      "source": [
        "### Explanation:\n",
        "\n",
        "- When calling greet, you use **first_name=\"John\"** and **last_name=\"Doe\"**, so Python knows exactly which argument goes with which parameter.\n",
        "- The order doesn't matter when using keyword arguments.\n",
        "- You can combine positional and keyword arguments:"
      ]
    },
    {
      "cell_type": "code",
      "execution_count": null,
      "id": "236bdbe8",
      "metadata": {
        "id": "236bdbe8",
        "outputId": "68033bd6-bc9c-45f5-9b9e-9b8ced91352a",
        "colab": {
          "base_uri": "https://localhost:8080/"
        }
      },
      "outputs": [
        {
          "output_type": "stream",
          "name": "stdout",
          "text": [
            "Hello, John Doe!\n"
          ]
        }
      ],
      "source": [
        "greet(\"John\", last_name=\"Doe\")"
      ]
    },
    {
      "cell_type": "markdown",
      "id": "a643d440",
      "metadata": {
        "id": "a643d440"
      },
      "source": [
        "### Putting It All Together:\n",
        "\n",
        "You can mix **positional parameters**, **default parameters**, and **keyword parameters** in one function. Here’s an example:\n",
        "\n",
        "Example:"
      ]
    },
    {
      "cell_type": "code",
      "execution_count": null,
      "id": "2f7a429f",
      "metadata": {
        "id": "2f7a429f",
        "outputId": "ce854056-d057-4d71-d3fd-8df6056872ba",
        "colab": {
          "base_uri": "https://localhost:8080/"
        }
      },
      "outputs": [
        {
          "output_type": "stream",
          "name": "stdout",
          "text": [
            "Alice is 50 years old and lives in Nigeria.\n",
            "Bob is 30 years old and lives in Brazil.\n",
            "Charlie is 25 years old and lives in Paris.\n"
          ]
        }
      ],
      "source": [
        "def describe_person(name, age=25, city=\"Brazil\"):\n",
        "    print(f\"{name} is {age} years old and lives in {city}.\")\n",
        "\n",
        "describe_person(\"Alice\", 50, \"Nigeria\")\n",
        "describe_person(\"Bob\", 30)\n",
        "describe_person(name=\"Charlie\", city=\"Paris\")"
      ]
    },
    {
      "cell_type": "markdown",
      "id": "820a6f94",
      "metadata": {
        "id": "820a6f94"
      },
      "source": [
        "#### Explanation:\n",
        "- name is a positional parameter.\n",
        "- age and city have default values.\n",
        "- You can use keyword parameters to pass city=\"Paris\" without worrying about the order."
      ]
    },
    {
      "cell_type": "markdown",
      "id": "806fdba5",
      "metadata": {
        "id": "806fdba5"
      },
      "source": [
        "#### Difference between using a return and print in a function call"
      ]
    },
    {
      "cell_type": "code",
      "execution_count": null,
      "id": "b548be6f",
      "metadata": {
        "id": "b548be6f"
      },
      "outputs": [],
      "source": [
        "def add(x,y):\n",
        "    return x+y\n",
        "\n",
        "def add_2(x,y):\n",
        "    print(x+y)"
      ]
    },
    {
      "cell_type": "code",
      "execution_count": null,
      "id": "4ffcc9ce",
      "metadata": {
        "id": "4ffcc9ce",
        "outputId": "977a341c-a428-4ac1-bf1c-b15158f3c40c",
        "colab": {
          "base_uri": "https://localhost:8080/"
        }
      },
      "outputs": [
        {
          "output_type": "stream",
          "name": "stdout",
          "text": [
            "8\n"
          ]
        }
      ],
      "source": [
        "result = add(3,5)\n",
        "print(result)"
      ]
    },
    {
      "cell_type": "markdown",
      "id": "fe44ed90",
      "metadata": {
        "id": "fe44ed90"
      },
      "source": [
        "Our answer here is 8 because our function used return, it simply takes the result and assigns it to the variable result"
      ]
    },
    {
      "cell_type": "code",
      "execution_count": null,
      "id": "cd953010",
      "metadata": {
        "id": "cd953010",
        "outputId": "e927d5e5-52c3-48a3-cae6-d24f338a14f5",
        "colab": {
          "base_uri": "https://localhost:8080/"
        }
      },
      "outputs": [
        {
          "output_type": "stream",
          "name": "stdout",
          "text": [
            "8\n",
            "None\n"
          ]
        }
      ],
      "source": [
        "result2 = add_2(3,5)\n",
        "print(result2)"
      ]
    },
    {
      "cell_type": "code",
      "execution_count": null,
      "id": "f713af71",
      "metadata": {
        "id": "f713af71",
        "outputId": "a218dd21-a2bd-4412-d9d4-439a9fc6b72e",
        "colab": {
          "base_uri": "https://localhost:8080/"
        }
      },
      "outputs": [
        {
          "output_type": "stream",
          "name": "stdout",
          "text": [
            "4\n",
            "None\n"
          ]
        }
      ],
      "source": [
        "result2 = add_2(2,2)\n",
        "\n",
        "print(result2)"
      ]
    },
    {
      "cell_type": "markdown",
      "id": "cc85e0fd",
      "metadata": {
        "id": "cc85e0fd"
      },
      "source": [
        "This results in 4 because the print statement in the function prints it but does not return the result in order to assign it to a new variable. This gives us 'None' because no value is saved in it."
      ]
    },
    {
      "cell_type": "code",
      "execution_count": null,
      "id": "d7ed2c7a",
      "metadata": {
        "id": "d7ed2c7a",
        "outputId": "ec30bbe4-abbc-4c95-868a-68d3570d6d5a",
        "colab": {
          "base_uri": "https://localhost:8080/",
          "height": 35
        }
      },
      "outputs": [
        {
          "output_type": "execute_result",
          "data": {
            "text/plain": [
              "'Odd'"
            ],
            "application/vnd.google.colaboratory.intrinsic+json": {
              "type": "string"
            }
          },
          "metadata": {},
          "execution_count": 81
        }
      ],
      "source": [
        "def even_odd(var):\n",
        "    if var % 2 == 0:\n",
        "        return 'Even'\n",
        "    else:\n",
        "        return 'Odd'\n",
        "\n",
        "even_odd(5678034651700975357)"
      ]
    },
    {
      "cell_type": "code",
      "execution_count": null,
      "id": "740c465a",
      "metadata": {
        "id": "740c465a",
        "outputId": "c8357dd3-4c0e-42da-fc28-c190ecb11bb8",
        "colab": {
          "base_uri": "https://localhost:8080/"
        }
      },
      "outputs": [
        {
          "output_type": "stream",
          "name": "stdout",
          "text": [
            "Enter a number...\n",
            "543\n",
            "Number is  Odd\n"
          ]
        }
      ],
      "source": [
        "print('Enter a number...')\n",
        "user_input = int(input())\n",
        "\n",
        "print('Number is ', even_odd(user_input))"
      ]
    },
    {
      "cell_type": "markdown",
      "id": "97d04e74",
      "metadata": {
        "id": "97d04e74"
      },
      "source": [
        "Think of return as you desiring to be able to use the results of your function code in variables in every other place in the code.\n",
        "\n",
        "\n",
        "But wait, we just tried something new.....\n",
        "\n",
        "**User input handling or input processing!!**\n",
        "\n",
        "Here's a breakdown of the specific actions in the code:\n",
        "\n",
        "1. Prompting the User: The print('Enter a number...') line is used to prompt the user, which is a common step in user interaction within console applications.\n",
        "\n",
        "2. Getting User Input: The input() function is called to collect input from the user. In Python, input() reads input as a string from the console.\n",
        "\n",
        "3. Type Conversion (also called Type Casting): The code converts the input string to an integer with int(input()). This is necessary when you need the input to be a specific data type, like an integer, instead of the default string type returned by input().\n",
        "\n",
        "**Writing a program, to multiply a number with 10 if the given number is odd:**"
      ]
    },
    {
      "cell_type": "code",
      "execution_count": null,
      "id": "f59b2593",
      "metadata": {
        "id": "f59b2593",
        "outputId": "17622ced-c27f-4d05-c1ad-8c42feef26dc",
        "colab": {
          "base_uri": "https://localhost:8080/"
        }
      },
      "outputs": [
        {
          "output_type": "stream",
          "name": "stdout",
          "text": [
            "Enter a number...\n",
            "70\n",
            "70\n"
          ]
        }
      ],
      "source": [
        "def check_even_odd(num):\n",
        "    if num % 2 != 0:\n",
        "        num*=10\n",
        "    else:\n",
        "        num\n",
        "    return num\n",
        "\n",
        "print('Enter a number...')\n",
        "user_input = int(input())\n",
        "\n",
        "print(check_even_odd(user_input))"
      ]
    },
    {
      "cell_type": "markdown",
      "id": "5e3d3249",
      "metadata": {
        "id": "5e3d3249"
      },
      "source": [
        "#### More on function definition and calling a function"
      ]
    },
    {
      "cell_type": "code",
      "execution_count": null,
      "id": "470f471a",
      "metadata": {
        "id": "470f471a"
      },
      "outputs": [],
      "source": [
        "def my_first_function():\n",
        "    '''\n",
        "    Return an object that produces a sequence of integers from start (inclusive)\n",
        "    to stop (exclusive) by step.  range(i, j) produces i, i+1, i+2, ..., j-1.\n",
        "    start defaults to 0, and stop is omitted!  range(4) produces 0, 1, 2, 3.\n",
        "    These are exactly the valid indices for a list of 4 elements.\n",
        "    When step is given, it specifies the increment (or decrement).\n",
        "    '''\n",
        "    print('Hello Xterns')"
      ]
    },
    {
      "cell_type": "markdown",
      "id": "30fe3b4a",
      "metadata": {
        "id": "30fe3b4a"
      },
      "source": [
        "_Notice the in line comment made within the function call. Defining an in-line comment like this helps to document what the function is meant to do._"
      ]
    },
    {
      "cell_type": "code",
      "execution_count": null,
      "id": "76c2fb19",
      "metadata": {
        "id": "76c2fb19",
        "outputId": "d4d8a26f-a8e9-4422-a3f8-7c847a03871d",
        "colab": {
          "base_uri": "https://localhost:8080/"
        }
      },
      "outputs": [
        {
          "output_type": "stream",
          "name": "stdout",
          "text": [
            "Hello Xterns\n"
          ]
        }
      ],
      "source": [
        "my_first_function()"
      ]
    },
    {
      "cell_type": "code",
      "execution_count": null,
      "id": "0558a6f6",
      "metadata": {
        "id": "0558a6f6",
        "outputId": "02bd98b0-d2d0-4006-f69c-fa0c9e530c73",
        "colab": {
          "base_uri": "https://localhost:8080/"
        }
      },
      "outputs": [
        {
          "output_type": "stream",
          "name": "stdout",
          "text": [
            "\n",
            "    Return an object that produces a sequence of integers from start (inclusive)\n",
            "    to stop (exclusive) by step.  range(i, j) produces i, i+1, i+2, ..., j-1.\n",
            "    start defaults to 0, and stop is omitted!  range(4) produces 0, 1, 2, 3.\n",
            "    These are exactly the valid indices for a list of 4 elements.\n",
            "    When step is given, it specifies the increment (or decrement).\n",
            "    \n"
          ]
        }
      ],
      "source": [
        "#running the line below retrieves the descriptive text explaining what the code is supposed to do.\n",
        "\n",
        "print(my_first_function.__doc__)"
      ]
    },
    {
      "cell_type": "markdown",
      "id": "75cabe5b",
      "metadata": {
        "id": "75cabe5b"
      },
      "source": [
        "`__doc__` is an attribute that provides a way to attach documentation to code objects like: functions, classes and modules. It is used to promote clean, well-documented and maintainable code in python\n",
        "\n",
        "Example:"
      ]
    },
    {
      "cell_type": "code",
      "execution_count": null,
      "id": "aa10a49c",
      "metadata": {
        "id": "aa10a49c",
        "outputId": "5aa9c96c-4f6c-4025-83ff-00b1c4dec422",
        "colab": {
          "base_uri": "https://localhost:8080/"
        }
      },
      "outputs": [
        {
          "output_type": "stream",
          "name": "stdout",
          "text": [
            "range(stop) -> range object\n",
            "range(start, stop[, step]) -> range object\n",
            "\n",
            "Return an object that produces a sequence of integers from start (inclusive)\n",
            "to stop (exclusive) by step.  range(i, j) produces i, i+1, i+2, ..., j-1.\n",
            "start defaults to 0, and stop is omitted!  range(4) produces 0, 1, 2, 3.\n",
            "These are exactly the valid indices for a list of 4 elements.\n",
            "When step is given, it specifies the increment (or decrement).\n"
          ]
        }
      ],
      "source": [
        "#retrive the documentation for the range function\n",
        "print(range.__doc__)\n",
        "\n",
        "#it feels like you are using the help function"
      ]
    },
    {
      "cell_type": "code",
      "execution_count": null,
      "id": "cbcba2ad",
      "metadata": {
        "id": "cbcba2ad",
        "outputId": "910f1a54-0e51-4389-c8bd-5ba109debecc",
        "colab": {
          "base_uri": "https://localhost:8080/"
        }
      },
      "outputs": [
        {
          "output_type": "stream",
          "name": "stdout",
          "text": [
            "The square of 6 is 36\n"
          ]
        }
      ],
      "source": [
        "#Write a function to take a number and square it\n",
        "\n",
        "def square(num):\n",
        "    print('The square of {} is {}'.format(num, num**2))\n",
        "\n",
        "square(6)"
      ]
    },
    {
      "cell_type": "markdown",
      "id": "5c9f94b6",
      "metadata": {
        "id": "5c9f94b6"
      },
      "source": [
        "#### Multiple returns"
      ]
    },
    {
      "cell_type": "code",
      "execution_count": null,
      "id": "b3e91cee",
      "metadata": {
        "id": "b3e91cee",
        "outputId": "f383f75f-5a67-4182-f08a-ca322c4dc38f",
        "colab": {
          "base_uri": "https://localhost:8080/"
        }
      },
      "outputs": [
        {
          "output_type": "stream",
          "name": "stdout",
          "text": [
            "5\n",
            "45\n",
            "(50, 40)\n"
          ]
        }
      ],
      "source": [
        "def add_sub(a,b):\n",
        "    add = a+b\n",
        "    if a> b:\n",
        "        sub = a-b\n",
        "    else:\n",
        "        sub = b-a\n",
        "    return add, sub\n",
        "\n",
        "user_input = int(input())\n",
        "user_input2 = int(input())\n",
        "print(add_sub(user_input, user_input2))"
      ]
    },
    {
      "cell_type": "code",
      "execution_count": null,
      "id": "b1950f56",
      "metadata": {
        "id": "b1950f56",
        "outputId": "d4471c53-420d-47fe-e5bb-a519f7183877",
        "colab": {
          "base_uri": "https://localhost:8080/"
        }
      },
      "outputs": [
        {
          "output_type": "stream",
          "name": "stdout",
          "text": [
            "Return an enumerate object.\n",
            "\n",
            "  iterable\n",
            "    an object supporting iteration\n",
            "\n",
            "The enumerate object yields pairs containing a count (from start, which\n",
            "defaults to zero) and a value yielded by the iterable argument.\n",
            "\n",
            "enumerate is useful for obtaining an indexed list:\n",
            "    (0, seq[0]), (1, seq[1]), (2, seq[2]), ...\n"
          ]
        }
      ],
      "source": [
        "print(enumerate.__doc__)"
      ]
    },
    {
      "cell_type": "markdown",
      "id": "9240a807",
      "metadata": {
        "id": "9240a807"
      },
      "source": [
        "# F. Modules\n",
        "\n",
        "![modules.png](https://drive.google.com/uc?export=view&id=1ID1wJZrlasUOQec_x69zOLUFVHv60z17)\n",
        "\n",
        "\n",
        "When you start working with Python, you might write all your code in one file. However, as your programs become larger, managing everything in one place can get messy. This is where modules come in! Modules help you organize and reuse your code, making your programs more efficient and easy to manage.\n",
        "\n",
        "A module in Python is simply a file that contains Python code, such as functions, variables, and classes, which can be used in other Python programs. This helps to break down large programs into smaller, manageable, and reusable pieces.\n",
        "\n",
        "**Why Use Modules?:**\n",
        "\n",
        "- Organize Code: Modules help keep your code clean and structured. You can split your program into multiple files (modules), each handling specific tasks.\n",
        "- Reuse Code: Once a module is created, you can reuse it in any number of programs, avoiding the need to rewrite the same code over and over.\n",
        "- Maintainability: If your code is separated into modules, fixing bugs or adding features becomes much easier since each module focuses on a specific functionality.\n",
        "\n",
        "**How to Use a Module in Python**\n",
        "- Python has many built-in modules that you can use right away, and you can also create your own. To use a module in your program, you need to import it. Python provides the import statement for this purpose.\n",
        "\n",
        "First, we will try to create our own module👇"
      ]
    },
    {
      "cell_type": "markdown",
      "id": "126f8001",
      "metadata": {
        "id": "126f8001"
      },
      "source": [
        "### Creating your own module\n",
        "\n",
        "**Method 1**\n",
        "\n",
        "You can use visual studio code for this:\n",
        "\n",
        "- Create a python file called \"Calc\"\n",
        "- In it define the functions you want to be able to use - in this case add, sub, divide and multiplication\n",
        "- In a new python file import this Calc module and then run it\n",
        "\n",
        "\n",
        "**Method 2**\n",
        "\n",
        "You can create your own module by simply writing some Python code in a .py file and saving it. Later on, we'll create a module called mymodule.py"
      ]
    },
    {
      "cell_type": "code",
      "execution_count": null,
      "id": "bee6e3ab",
      "metadata": {
        "id": "bee6e3ab"
      },
      "outputs": [],
      "source": [
        "#using method 1\n",
        "#creating the Calc functions\n",
        "\n",
        "def add(a,b):\n",
        "    return a+b\n",
        "\n",
        "def sub(a,b):\n",
        "    return a-b\n",
        "\n",
        "def multiply(a,b):\n",
        "    return a*b\n",
        "\n",
        "def divide(a,b):\n",
        "    return a/b"
      ]
    },
    {
      "cell_type": "code",
      "execution_count": null,
      "id": "17475bb9",
      "metadata": {
        "collapsed": true,
        "jupyter": {
          "outputs_hidden": true
        },
        "id": "17475bb9"
      },
      "outputs": [],
      "source": [
        "#importing the Calc module\n",
        "\n",
        "import Calc\n",
        "\n",
        "c = Calc.add(4,7)\n",
        "\n",
        "#OR\n",
        "\n",
        "from Calc import add\n",
        "c = add(4,7)"
      ]
    },
    {
      "cell_type": "code",
      "execution_count": null,
      "id": "a1a0cd7c",
      "metadata": {
        "id": "a1a0cd7c"
      },
      "outputs": [],
      "source": [
        "#using method 2\n",
        "\n",
        "#mymodule.py:\n",
        "def greet(name):\n",
        "    return f\"Hello, {name}!\"\n",
        "\n",
        "def add(a, b):\n",
        "    return a + b"
      ]
    },
    {
      "cell_type": "markdown",
      "id": "786af158",
      "metadata": {
        "id": "786af158"
      },
      "source": [
        "Now, you can import and use this module in any other Python file."
      ]
    },
    {
      "cell_type": "code",
      "execution_count": null,
      "id": "d9b32c69",
      "metadata": {
        "id": "d9b32c69"
      },
      "outputs": [],
      "source": [
        "import mymodule\n",
        "\n",
        "#Using functions from mymodule\n",
        "print(mymodule.greet(\"Alice\"))  # Output: Hello, Alice!\n",
        "print(mymodule.add(10, 5))      # Output: 15"
      ]
    },
    {
      "cell_type": "code",
      "execution_count": null,
      "id": "56b6de80",
      "metadata": {
        "id": "56b6de80"
      },
      "outputs": [],
      "source": []
    },
    {
      "cell_type": "markdown",
      "id": "4807841c",
      "metadata": {
        "id": "4807841c"
      },
      "source": [
        "## Common python modules\n",
        "\n",
        "Now, we can talk about using built-in python modules"
      ]
    },
    {
      "cell_type": "markdown",
      "id": "c5a03a73",
      "metadata": {
        "id": "c5a03a73"
      },
      "source": [
        "#### 1. os module"
      ]
    },
    {
      "cell_type": "markdown",
      "id": "191fee66",
      "metadata": {
        "id": "191fee66"
      },
      "source": [
        "This provides numerous tools to deal with filenmaes, paths and directories\n",
        "\n"
      ]
    },
    {
      "cell_type": "code",
      "execution_count": null,
      "id": "15986d66",
      "metadata": {
        "id": "15986d66",
        "outputId": "435ca777-d7e5-4d26-e6db-7e0dc2b16788"
      },
      "outputs": [
        {
          "name": "stdout",
          "output_type": "stream",
          "text": [
            "nt\n"
          ]
        }
      ],
      "source": [
        "import os\n",
        "import os.path\n",
        "print(os.name)\n",
        "\n",
        "#where nt is used to represent windows operating system\n",
        "#'posix' for example indictes a Unix-like operating system"
      ]
    },
    {
      "cell_type": "code",
      "execution_count": null,
      "id": "5f2b8838",
      "metadata": {
        "id": "5f2b8838",
        "outputId": "ed89d255-3fae-4fb1-db9e-ea7740ca25b7"
      },
      "outputs": [
        {
          "name": "stdout",
          "output_type": "stream",
          "text": [
            "C:\\Users\\USER\n"
          ]
        }
      ],
      "source": [
        "#to get the current working directory\n",
        "\n",
        "print(os.getcwd())"
      ]
    },
    {
      "cell_type": "code",
      "execution_count": null,
      "id": "9b0a0f68",
      "metadata": {
        "id": "9b0a0f68",
        "outputId": "8ac79661-fc81-43f5-fc6d-736a96e1ea4b"
      },
      "outputs": [
        {
          "data": {
            "text/plain": [
              "['.azuredatastudio',\n",
              " '.cache',\n",
              " '.cargo',\n",
              " '.conda',\n",
              " '.condarc',\n",
              " '.continuum',\n",
              " '.dotnet',\n",
              " '.env_prefect',\n",
              " '.gitconfig',\n",
              " '.ipynb_checkpoints',\n",
              " '.ipython',\n",
              " '.jupyter',\n",
              " '.matplotlib',\n",
              " '.prefect',\n",
              " '.rustup',\n",
              " '.spyder-py3',\n",
              " '.ssh',\n",
              " '.streamlit',\n",
              " '.templateengine',\n",
              " '.vscode',\n",
              " '3D Objects',\n",
              " 'anaconda3',\n",
              " 'AppData',\n",
              " 'Application Data',\n",
              " 'backup_file.sql',\n",
              " 'battery-report.html',\n",
              " 'Building an email spam ham classifier.ipynb',\n",
              " 'Contacts',\n",
              " 'Cookies',\n",
              " 'Creating a python server.ipynb',\n",
              " 'Day 01.ipynb',\n",
              " 'Day 02.ipynb',\n",
              " 'Day 03.ipynb',\n",
              " 'Day 04.ipynb',\n",
              " 'Desktop',\n",
              " 'Development',\n",
              " 'Documents',\n",
              " 'Downloads',\n",
              " 'Experiment tracking and model management with mlflow.ipynb',\n",
              " 'Favorites',\n",
              " 'Flipkart_online.jpg',\n",
              " 'for-loop-python.jpg',\n",
              " 'IntelGraphicsProfiles',\n",
              " 'kms driver.exe',\n",
              " 'kms tap driver.exe',\n",
              " 'kmsauto_lite_x64.exe',\n",
              " 'Langchain practice.ipynb',\n",
              " 'Links',\n",
              " 'Local Settings',\n",
              " 'Microsoft',\n",
              " 'MicrosoftEdgeBackups',\n",
              " 'MLOps for Iris dataset.ipynb',\n",
              " 'Music',\n",
              " 'My Documents',\n",
              " 'NetHood',\n",
              " 'NTUSER.DAT',\n",
              " 'ntuser.dat.LOG1',\n",
              " 'ntuser.dat.LOG2',\n",
              " 'NTUSER.DAT{fbe90ef4-9579-11ee-b015-93fa7e1c98db}.TM.blf',\n",
              " 'NTUSER.DAT{fbe90ef4-9579-11ee-b015-93fa7e1c98db}.TMContainer00000000000000000001.regtrans-ms',\n",
              " 'NTUSER.DAT{fbe90ef4-9579-11ee-b015-93fa7e1c98db}.TMContainer00000000000000000002.regtrans-ms',\n",
              " 'ntuser.ini',\n",
              " 'OneDrive',\n",
              " 'Pictures',\n",
              " 'Postman',\n",
              " 'Predictive_Model',\n",
              " 'PrintHood',\n",
              " 'Product review classifier.ipynb',\n",
              " 'RAG app.ipynb',\n",
              " 'Recent',\n",
              " 'Saved Games',\n",
              " 'save_dir',\n",
              " 'Searches',\n",
              " 'SendTo',\n",
              " 'source',\n",
              " 'Start Menu',\n",
              " 'svchost32.exe',\n",
              " 'system32.exe',\n",
              " 'Templates',\n",
              " 'Text cleaning using BOW.ipynb',\n",
              " 'Videos',\n",
              " 'while-loop.jpg',\n",
              " '_Projects']"
            ]
          },
          "execution_count": 8,
          "metadata": {},
          "output_type": "execute_result"
        }
      ],
      "source": [
        "#printing the absolute path\n",
        "\n",
        "#print(os.path.abspath('.'))\n",
        "\n",
        "#returns a list of all the directories in a folder\n",
        "os.listdir('.')"
      ]
    },
    {
      "cell_type": "code",
      "execution_count": null,
      "id": "1ec72073",
      "metadata": {
        "id": "1ec72073",
        "outputId": "5d8c6197-cfb6-4f82-cfd6-f9a2d93ca746"
      },
      "outputs": [
        {
          "data": {
            "text/plain": [
              "environ{'ALLUSERSPROFILE': 'C:\\\\ProgramData',\n",
              "        'APPDATA': 'C:\\\\Users\\\\USER\\\\AppData\\\\Roaming',\n",
              "        'COMMONPROGRAMFILES': 'C:\\\\Program Files\\\\Common Files',\n",
              "        'COMMONPROGRAMFILES(X86)': 'C:\\\\Program Files (x86)\\\\Common Files',\n",
              "        'COMMONPROGRAMW6432': 'C:\\\\Program Files\\\\Common Files',\n",
              "        'COMPUTERNAME': 'HANNAH',\n",
              "        'COMSPEC': 'C:\\\\WINDOWS\\\\system32\\\\cmd.exe',\n",
              "        'CONDA_DEFAULT_ENV': 'base',\n",
              "        'CONDA_EXE': 'C:\\\\Users\\\\USER\\\\anaconda3\\\\Scripts\\\\conda.exe',\n",
              "        'CONDA_PROMPT_MODIFIER': '(base) ',\n",
              "        'CONDA_PYTHON_EXE': 'C:\\\\Users\\\\USER\\\\anaconda3\\\\python.exe',\n",
              "        'CONDA_SHLVL': '1',\n",
              "        'DRIVERDATA': 'C:\\\\Windows\\\\System32\\\\Drivers\\\\DriverData',\n",
              "        'FPS_BROWSER_APP_PROFILE_STRING': 'Internet Explorer',\n",
              "        'FPS_BROWSER_USER_PROFILE_STRING': 'Default',\n",
              "        'HOMEDRIVE': 'C:',\n",
              "        'HOMEPATH': '\\\\Users\\\\USER',\n",
              "        'LOCALAPPDATA': 'C:\\\\Users\\\\USER\\\\AppData\\\\Local',\n",
              "        'LOGONSERVER': '\\\\\\\\HANNAH',\n",
              "        'NUMBER_OF_PROCESSORS': '4',\n",
              "        'ONEDRIVE': 'C:\\\\Users\\\\USER\\\\OneDrive',\n",
              "        'ONEDRIVECONSUMER': 'C:\\\\Users\\\\USER\\\\OneDrive',\n",
              "        'OS': 'Windows_NT',\n",
              "        'PATH': 'C:\\\\Users\\\\USER\\\\anaconda3;C:\\\\Users\\\\USER\\\\anaconda3\\\\Library\\\\mingw-w64\\\\bin;C:\\\\Users\\\\USER\\\\anaconda3\\\\Library\\\\usr\\\\bin;C:\\\\Users\\\\USER\\\\anaconda3\\\\Library\\\\bin;C:\\\\Users\\\\USER\\\\anaconda3\\\\Scripts;C:\\\\Users\\\\USER\\\\anaconda3\\\\bin;C:\\\\Users\\\\USER\\\\anaconda3\\\\condabin;C:\\\\Users\\\\USER\\\\anaconda3;C:\\\\Users\\\\USER\\\\anaconda3\\\\Library\\\\mingw-w64\\\\bin;C:\\\\Users\\\\USER\\\\anaconda3\\\\Library\\\\usr\\\\bin;C:\\\\Users\\\\USER\\\\anaconda3\\\\Library\\\\bin;C:\\\\Users\\\\USER\\\\anaconda3\\\\Scripts;C:\\\\WINDOWS\\\\system32;C:\\\\WINDOWS;C:\\\\WINDOWS\\\\System32\\\\Wbem;C:\\\\WINDOWS\\\\System32\\\\WindowsPowerShell\\\\v1.0;C:\\\\WINDOWS\\\\System32\\\\OpenSSH;C:\\\\Program Files (x86)\\\\Microsoft SQL Server\\\\160\\\\DTS\\\\Binn;C:\\\\Program Files (x86)\\\\Microsoft SQL Server\\\\160\\\\Tools\\\\Binn;C:\\\\Program Files\\\\Microsoft SQL Server\\\\160\\\\Tools\\\\Binn;C:\\\\Program Files\\\\Microsoft SQL Server\\\\Client SDK\\\\ODBC\\\\170\\\\Tools\\\\Binn;C:\\\\Program Files\\\\Microsoft SQL Server\\\\160\\\\DTS\\\\Binn;C:\\\\Program Files\\\\Microsoft SQL Server\\\\150\\\\Tools\\\\Binn;C:\\\\Program Files (x86)\\\\Windows Kits\\\\10\\\\Windows Performance Toolkit;C:\\\\Program Files\\\\Git\\\\cmd;C:\\\\Users\\\\USER\\\\.cargo\\\\bin;C:\\\\Users\\\\USER\\\\AppData\\\\Local\\\\Programs\\\\Python\\\\Python312\\\\Scripts;C:\\\\Users\\\\USER\\\\AppData\\\\Local\\\\Programs\\\\Python\\\\Python312;C:\\\\Users\\\\USER\\\\AppData\\\\Local\\\\Programs\\\\Python\\\\Launcher;C:\\\\Users\\\\USER\\\\AppData\\\\Local\\\\Microsoft\\\\WindowsApps;.;C:\\\\Program Files\\\\Azure Data Studio\\\\bin;C:\\\\Users\\\\USER\\\\AppData\\\\Local\\\\Programs\\\\Microsoft VS Code\\\\bin',\n",
              "        'PATHEXT': '.COM;.EXE;.BAT;.CMD;.VBS;.VBE;.JS;.JSE;.WSF;.WSH;.MSC',\n",
              "        'PROCESSOR_ARCHITECTURE': 'AMD64',\n",
              "        'PROCESSOR_IDENTIFIER': 'Intel64 Family 6 Model 60 Stepping 3, GenuineIntel',\n",
              "        'PROCESSOR_LEVEL': '6',\n",
              "        'PROCESSOR_REVISION': '3c03',\n",
              "        'PROGRAMDATA': 'C:\\\\ProgramData',\n",
              "        'PROGRAMFILES': 'C:\\\\Program Files',\n",
              "        'PROGRAMFILES(X86)': 'C:\\\\Program Files (x86)',\n",
              "        'PROGRAMW6432': 'C:\\\\Program Files',\n",
              "        'PROMPT': '(base) $P$G',\n",
              "        'PSMODULEPATH': 'C:\\\\Program Files\\\\WindowsPowerShell\\\\Modules;C:\\\\WINDOWS\\\\system32\\\\WindowsPowerShell\\\\v1.0\\\\Modules;C:\\\\Program Files (x86)\\\\Microsoft SQL Server\\\\160\\\\Tools\\\\PowerShell\\\\Modules\\\\',\n",
              "        'PUBLIC': 'C:\\\\Users\\\\Public',\n",
              "        'SESSIONNAME': 'Console',\n",
              "        'SYSTEMDRIVE': 'C:',\n",
              "        'SYSTEMROOT': 'C:\\\\WINDOWS',\n",
              "        'TEMP': 'C:\\\\Users\\\\USER\\\\AppData\\\\Local\\\\Temp',\n",
              "        'TMP': 'C:\\\\Users\\\\USER\\\\AppData\\\\Local\\\\Temp',\n",
              "        'USERDOMAIN': 'HANNAH',\n",
              "        'USERDOMAIN_ROAMINGPROFILE': 'HANNAH',\n",
              "        'USERNAME': 'USER',\n",
              "        'USERPROFILE': 'C:\\\\Users\\\\USER',\n",
              "        'WINDIR': 'C:\\\\WINDOWS',\n",
              "        'CONDA_PREFIX': 'C:\\\\Users\\\\USER\\\\anaconda3',\n",
              "        'CONDA_ROOT': 'C:\\\\Users\\\\USER\\\\anaconda3',\n",
              "        'PYDEVD_USE_FRAME_EVAL': 'NO',\n",
              "        'JPY_INTERRUPT_EVENT': '1700',\n",
              "        'IPY_INTERRUPT_EVENT': '1700',\n",
              "        'JPY_PARENT_PID': '2500',\n",
              "        'TERM': 'xterm-color',\n",
              "        'CLICOLOR': '1',\n",
              "        'PAGER': 'cat',\n",
              "        'GIT_PAGER': 'cat',\n",
              "        'MPLBACKEND': 'module://matplotlib_inline.backend_inline'}"
            ]
          },
          "execution_count": 9,
          "metadata": {},
          "output_type": "execute_result"
        }
      ],
      "source": [
        "#to see a list of the operating system's environment variables\n",
        "\n",
        "os.environ"
      ]
    },
    {
      "cell_type": "markdown",
      "id": "23b7a0a5",
      "metadata": {
        "id": "23b7a0a5"
      },
      "source": [
        "#### 2. platform module\n",
        "\n",
        "Provides functions to access information about the system where my python code is running"
      ]
    },
    {
      "cell_type": "code",
      "execution_count": null,
      "id": "5bbfe049",
      "metadata": {
        "id": "5bbfe049",
        "outputId": "6c98bdfb-8428-4cad-dada-349c47118feb"
      },
      "outputs": [
        {
          "name": "stdout",
          "output_type": "stream",
          "text": [
            "10.0.19045\n",
            "Windows\n",
            "10\n",
            "Windows-10-10.0.19045-SP0\n",
            "('10', '10.0.19045', 'SP0', 'Multiprocessor Free')\n"
          ]
        }
      ],
      "source": [
        "import platform\n",
        "\n",
        "print(platform.version())\n",
        "print(platform.system())\n",
        "print(platform.release())\n",
        "print(platform.platform())\n",
        "print(platform.win32_ver())"
      ]
    },
    {
      "cell_type": "code",
      "execution_count": null,
      "id": "c13c3e0b",
      "metadata": {
        "id": "c13c3e0b",
        "outputId": "da420707-6087-4b4d-bb43-e8d75a22421e"
      },
      "outputs": [
        {
          "name": "stdout",
          "output_type": "stream",
          "text": [
            "True\n",
            "True\n",
            "True\n",
            "64581\n"
          ]
        }
      ],
      "source": [
        "#os.path provides methods to extract info about paths and filenames\n",
        "\n",
        "import os\n",
        "import os.path\n",
        "print(os.path.isdir(os.getcwd()))  #retrieves the current directory and checks if the dir exists\n",
        "print(os.path.isfile('RAG app.ipynb')) #checks if the file exists\n",
        "print(os.path.exists(os.getcwd())) #retrives the current directory and checks if it exists\n",
        "print(os.path.getsize('RAG app.ipynb')) #retrieves the size of the file without opening it\n"
      ]
    },
    {
      "cell_type": "code",
      "execution_count": null,
      "id": "2ca9a955",
      "metadata": {
        "id": "2ca9a955"
      },
      "outputs": [],
      "source": [
        "os.mkdir('name of dir') #creates a new dir inside the current directory\n",
        "os.rmdir('name of dir') #removes dir from the current directory"
      ]
    },
    {
      "cell_type": "markdown",
      "id": "aa6d20cc",
      "metadata": {
        "id": "aa6d20cc"
      },
      "source": [
        "#### 3. datetime module\n",
        "\n",
        "Whenever you need to manipulate dates or times, you need to import the datetime function"
      ]
    },
    {
      "cell_type": "code",
      "execution_count": null,
      "id": "f73ffdf4",
      "metadata": {
        "id": "f73ffdf4",
        "outputId": "2654bd2e-4b0e-48fe-be3e-da2f7cf79b10",
        "colab": {
          "base_uri": "https://localhost:8080/"
        }
      },
      "outputs": [
        {
          "output_type": "stream",
          "name": "stdout",
          "text": [
            "18:56:24.718334\n"
          ]
        }
      ],
      "source": [
        "from datetime import date, time, datetime\n",
        "\n",
        "today = date.today()\n",
        "\n",
        "t_now = datetime.time(datetime.now())\n",
        "\n",
        "print(t_now)"
      ]
    },
    {
      "cell_type": "code",
      "execution_count": null,
      "id": "7e13b05d",
      "metadata": {
        "id": "7e13b05d",
        "outputId": "6f535382-74db-4313-e381-060c353a4c8c",
        "colab": {
          "base_uri": "https://localhost:8080/"
        }
      },
      "outputs": [
        {
          "output_type": "stream",
          "name": "stdout",
          "text": [
            "Help on class datetime in module datetime:\n",
            "\n",
            "class datetime(date)\n",
            " |  datetime(year, month, day[, hour[, minute[, second[, microsecond[,tzinfo]]]]])\n",
            " |  \n",
            " |  The year, month and day arguments are required. tzinfo may be None, or an\n",
            " |  instance of a tzinfo subclass. The remaining arguments may be ints.\n",
            " |  \n",
            " |  Method resolution order:\n",
            " |      datetime\n",
            " |      date\n",
            " |      builtins.object\n",
            " |  \n",
            " |  Methods defined here:\n",
            " |  \n",
            " |  __add__(self, value, /)\n",
            " |      Return self+value.\n",
            " |  \n",
            " |  __eq__(self, value, /)\n",
            " |      Return self==value.\n",
            " |  \n",
            " |  __ge__(self, value, /)\n",
            " |      Return self>=value.\n",
            " |  \n",
            " |  __getattribute__(self, name, /)\n",
            " |      Return getattr(self, name).\n",
            " |  \n",
            " |  __gt__(self, value, /)\n",
            " |      Return self>value.\n",
            " |  \n",
            " |  __hash__(self, /)\n",
            " |      Return hash(self).\n",
            " |  \n",
            " |  __le__(self, value, /)\n",
            " |      Return self<=value.\n",
            " |  \n",
            " |  __lt__(self, value, /)\n",
            " |      Return self<value.\n",
            " |  \n",
            " |  __ne__(self, value, /)\n",
            " |      Return self!=value.\n",
            " |  \n",
            " |  __radd__(self, value, /)\n",
            " |      Return value+self.\n",
            " |  \n",
            " |  __reduce__(...)\n",
            " |      __reduce__() -> (cls, state)\n",
            " |  \n",
            " |  __reduce_ex__(...)\n",
            " |      __reduce_ex__(proto) -> (cls, state)\n",
            " |  \n",
            " |  __repr__(self, /)\n",
            " |      Return repr(self).\n",
            " |  \n",
            " |  __rsub__(self, value, /)\n",
            " |      Return value-self.\n",
            " |  \n",
            " |  __str__(self, /)\n",
            " |      Return str(self).\n",
            " |  \n",
            " |  __sub__(self, value, /)\n",
            " |      Return self-value.\n",
            " |  \n",
            " |  astimezone(...)\n",
            " |      tz -> convert to local time in new timezone tz\n",
            " |  \n",
            " |  ctime(...)\n",
            " |      Return ctime() style string.\n",
            " |  \n",
            " |  date(...)\n",
            " |      Return date object with same year, month and day.\n",
            " |  \n",
            " |  dst(...)\n",
            " |      Return self.tzinfo.dst(self).\n",
            " |  \n",
            " |  isoformat(...)\n",
            " |      [sep] -> string in ISO 8601 format, YYYY-MM-DDT[HH[:MM[:SS[.mmm[uuu]]]]][+HH:MM].\n",
            " |      sep is used to separate the year from the time, and defaults to 'T'.\n",
            " |      The optional argument timespec specifies the number of additional terms\n",
            " |      of the time to include. Valid options are 'auto', 'hours', 'minutes',\n",
            " |      'seconds', 'milliseconds' and 'microseconds'.\n",
            " |  \n",
            " |  replace(...)\n",
            " |      Return datetime with new specified fields.\n",
            " |  \n",
            " |  time(...)\n",
            " |      Return time object with same time but with tzinfo=None.\n",
            " |  \n",
            " |  timestamp(...)\n",
            " |      Return POSIX timestamp as float.\n",
            " |  \n",
            " |  timetuple(...)\n",
            " |      Return time tuple, compatible with time.localtime().\n",
            " |  \n",
            " |  timetz(...)\n",
            " |      Return time object with same time and tzinfo.\n",
            " |  \n",
            " |  tzname(...)\n",
            " |      Return self.tzinfo.tzname(self).\n",
            " |  \n",
            " |  utcoffset(...)\n",
            " |      Return self.tzinfo.utcoffset(self).\n",
            " |  \n",
            " |  utctimetuple(...)\n",
            " |      Return UTC time tuple, compatible with time.localtime().\n",
            " |  \n",
            " |  ----------------------------------------------------------------------\n",
            " |  Class methods defined here:\n",
            " |  \n",
            " |  combine(...)\n",
            " |      date, time -> datetime with same date and time fields\n",
            " |  \n",
            " |  fromisoformat(...)\n",
            " |      string -> datetime from a string in most ISO 8601 formats\n",
            " |  \n",
            " |  fromtimestamp(...)\n",
            " |      timestamp[, tz] -> tz's local time from POSIX timestamp.\n",
            " |  \n",
            " |  now(tz=None)\n",
            " |      Returns new datetime object representing current time local to tz.\n",
            " |      \n",
            " |        tz\n",
            " |          Timezone object.\n",
            " |      \n",
            " |      If no tz is specified, uses local timezone.\n",
            " |  \n",
            " |  strptime(...)\n",
            " |      string, format -> new datetime parsed from a string (like time.strptime()).\n",
            " |  \n",
            " |  utcfromtimestamp(...)\n",
            " |      Construct a naive UTC datetime from a POSIX timestamp.\n",
            " |  \n",
            " |  utcnow(...)\n",
            " |      Return a new datetime representing UTC day and time.\n",
            " |  \n",
            " |  ----------------------------------------------------------------------\n",
            " |  Static methods defined here:\n",
            " |  \n",
            " |  __new__(*args, **kwargs)\n",
            " |      Create and return a new object.  See help(type) for accurate signature.\n",
            " |  \n",
            " |  ----------------------------------------------------------------------\n",
            " |  Data descriptors defined here:\n",
            " |  \n",
            " |  fold\n",
            " |  \n",
            " |  hour\n",
            " |  \n",
            " |  microsecond\n",
            " |  \n",
            " |  minute\n",
            " |  \n",
            " |  second\n",
            " |  \n",
            " |  tzinfo\n",
            " |  \n",
            " |  ----------------------------------------------------------------------\n",
            " |  Data and other attributes defined here:\n",
            " |  \n",
            " |  max = datetime.datetime(9999, 12, 31, 23, 59, 59, 999999)\n",
            " |  \n",
            " |  min = datetime.datetime(1, 1, 1, 0, 0)\n",
            " |  \n",
            " |  resolution = datetime.timedelta(microseconds=1)\n",
            " |  \n",
            " |  ----------------------------------------------------------------------\n",
            " |  Methods inherited from date:\n",
            " |  \n",
            " |  __format__(...)\n",
            " |      Formats self with strftime.\n",
            " |  \n",
            " |  isocalendar(...)\n",
            " |      Return a named tuple containing ISO year, week number, and weekday.\n",
            " |  \n",
            " |  isoweekday(...)\n",
            " |      Return the day of the week represented by the date.\n",
            " |      Monday == 1 ... Sunday == 7\n",
            " |  \n",
            " |  strftime(...)\n",
            " |      format -> strftime() style string.\n",
            " |  \n",
            " |  toordinal(...)\n",
            " |      Return proleptic Gregorian ordinal.  January 1 of year 1 is day 1.\n",
            " |  \n",
            " |  weekday(...)\n",
            " |      Return the day of the week represented by the date.\n",
            " |      Monday == 0 ... Sunday == 6\n",
            " |  \n",
            " |  ----------------------------------------------------------------------\n",
            " |  Class methods inherited from date:\n",
            " |  \n",
            " |  fromisocalendar(...)\n",
            " |      int, int, int -> Construct a date from the ISO year, week number and weekday.\n",
            " |      \n",
            " |      This is the inverse of the date.isocalendar() function\n",
            " |  \n",
            " |  fromordinal(...)\n",
            " |      int -> date corresponding to a proleptic Gregorian ordinal.\n",
            " |  \n",
            " |  today(...)\n",
            " |      Current date or datetime:  same as self.__class__.fromtimestamp(time.time()).\n",
            " |  \n",
            " |  ----------------------------------------------------------------------\n",
            " |  Data descriptors inherited from date:\n",
            " |  \n",
            " |  day\n",
            " |  \n",
            " |  month\n",
            " |  \n",
            " |  year\n",
            "\n"
          ]
        }
      ],
      "source": [
        "help(datetime)\n",
        "\n",
        "#this retrives the documentation associated with a module"
      ]
    },
    {
      "cell_type": "code",
      "execution_count": null,
      "id": "9af296df",
      "metadata": {
        "id": "9af296df",
        "outputId": "89fe637e-86b2-48cf-c012-a4e0c1a920b9"
      },
      "outputs": [
        {
          "name": "stdout",
          "output_type": "stream",
          "text": [
            "Today is day number 2\n",
            "And today is:  Wednesday\n"
          ]
        }
      ],
      "source": [
        "from datetime import date\n",
        "from datetime import time\n",
        "from datetime import datetime\n",
        "\n",
        "def main():\n",
        "    today = datetime.now()\n",
        "\n",
        "    wd = datetime.weekday(today)\n",
        "\n",
        "    days = ['Monday', 'Tuesday', 'Wednesday', 'Thursday', 'Friday', 'Saturday', 'Sunday']\n",
        "    print('Today is day number %d' % wd)\n",
        "\n",
        "    print('And today is: ', days[wd])\n",
        "\n",
        "if __name__ == \"__main__\":\n",
        "    main()"
      ]
    },
    {
      "cell_type": "markdown",
      "id": "a5e92bde",
      "metadata": {
        "id": "a5e92bde"
      },
      "source": [
        "### Formating Date and Time Output with Strftime()"
      ]
    },
    {
      "cell_type": "code",
      "execution_count": null,
      "id": "513b0fa5",
      "metadata": {
        "id": "513b0fa5",
        "outputId": "58b5bde2-e13b-4c28-cdf8-ae2ed4b64150"
      },
      "outputs": [
        {
          "name": "stdout",
          "output_type": "stream",
          "text": [
            "2024-05-02 05:17:00.099870\n"
          ]
        }
      ],
      "source": [
        "from datetime import datetime\n",
        "now = datetime.now()\n",
        "print(now)"
      ]
    },
    {
      "cell_type": "code",
      "execution_count": null,
      "id": "b419def9",
      "metadata": {
        "id": "b419def9",
        "outputId": "b48b71e6-a762-4354-fdce-cf86b8423b7a"
      },
      "outputs": [
        {
          "name": "stdout",
          "output_type": "stream",
          "text": [
            "Thu May  2 05:17:00 2024\n"
          ]
        }
      ],
      "source": [
        "# %c = local date and time\n",
        "\n",
        "print(now.strftime('%c'))"
      ]
    },
    {
      "cell_type": "code",
      "execution_count": null,
      "id": "0cfaf77e",
      "metadata": {
        "id": "0cfaf77e",
        "outputId": "71bb4273-5e6e-4ae3-bfe1-1f9ab47ab4b5"
      },
      "outputs": [
        {
          "name": "stdout",
          "output_type": "stream",
          "text": [
            "05/02/24\n"
          ]
        }
      ],
      "source": [
        "# %x = local date\n",
        "\n",
        "print(now.strftime('%x'))"
      ]
    },
    {
      "cell_type": "code",
      "execution_count": null,
      "id": "b4763550",
      "metadata": {
        "id": "b4763550",
        "outputId": "b27ed9c4-242d-4a96-acc1-feabad7dbb27"
      },
      "outputs": [
        {
          "name": "stdout",
          "output_type": "stream",
          "text": [
            "05:17:00\n"
          ]
        }
      ],
      "source": [
        "# %X = local time\n",
        "print(now.strftime(\"%X\"))"
      ]
    },
    {
      "cell_type": "markdown",
      "id": "bed44f70",
      "metadata": {
        "id": "bed44f70"
      },
      "source": [
        "##### Time formatting\n",
        "\n",
        "- %I - 12-hour\n",
        "- %H - 24-hour\n",
        "- %M - Minute\n",
        "- %S - second\n",
        "- %p - Local's AM/PM"
      ]
    },
    {
      "cell_type": "code",
      "execution_count": null,
      "id": "7c81b9cd",
      "metadata": {
        "id": "7c81b9cd",
        "outputId": "2693825d-9674-4d2a-a318-86268b4e0533"
      },
      "outputs": [
        {
          "name": "stdout",
          "output_type": "stream",
          "text": [
            "05:17:00:AM\n",
            "05:17\n",
            "05:17\n"
          ]
        }
      ],
      "source": [
        "print(now.strftime('%I:%M:%S:%p'))\n",
        "print(now.strftime('%H:%M'))\n",
        "print(now.strftime('%I:%M'))"
      ]
    },
    {
      "cell_type": "markdown",
      "id": "0cabe068",
      "metadata": {
        "id": "0cabe068"
      },
      "source": [
        "##### Using timedelta objects\n",
        "\n",
        "This is used to estimate time for both the future and the past. It is not for printing out the date and time but to calulate a time in the past or future\n"
      ]
    },
    {
      "cell_type": "code",
      "execution_count": null,
      "id": "e703d475",
      "metadata": {
        "id": "e703d475",
        "outputId": "14800f89-140c-4bc7-9b86-9b5fb1b0b163"
      },
      "outputs": [
        {
          "name": "stdout",
          "output_type": "stream",
          "text": [
            "10000 days, 8:15:00\n",
            "2024-05-02 05:28:07.118859\n",
            "\n",
            "\n",
            "10,000 days from now, the date would be: 2051-09-18 05:28:07.118859\n"
          ]
        }
      ],
      "source": [
        "from datetime import timedelta\n",
        "from datetime import datetime\n",
        "\n",
        "#constructing a basic timedelta\n",
        "my_timedelta = timedelta(days=10000, hours=8, minutes=15)\n",
        "print(my_timedelta)\n",
        "\n",
        "#printing today's date\n",
        "print(datetime.now())\n",
        "\n",
        "#print the date, 10000 days from now\n",
        "print('\\n\\n10,000 days from now, the date would be: ' + str(datetime.now() + timedelta(days=10000)))"
      ]
    },
    {
      "cell_type": "code",
      "execution_count": null,
      "id": "8c6558fe",
      "metadata": {
        "id": "8c6558fe",
        "outputId": "9810a777-583f-454a-dee5-4573e326fa06"
      },
      "outputs": [
        {
          "data": {
            "text/plain": [
              "['__add__',\n",
              " '__class__',\n",
              " '__delattr__',\n",
              " '__dir__',\n",
              " '__doc__',\n",
              " '__eq__',\n",
              " '__format__',\n",
              " '__ge__',\n",
              " '__getattribute__',\n",
              " '__gt__',\n",
              " '__hash__',\n",
              " '__init__',\n",
              " '__init_subclass__',\n",
              " '__le__',\n",
              " '__lt__',\n",
              " '__ne__',\n",
              " '__new__',\n",
              " '__radd__',\n",
              " '__reduce__',\n",
              " '__reduce_ex__',\n",
              " '__repr__',\n",
              " '__rsub__',\n",
              " '__setattr__',\n",
              " '__sizeof__',\n",
              " '__str__',\n",
              " '__sub__',\n",
              " '__subclasshook__',\n",
              " 'astimezone',\n",
              " 'combine',\n",
              " 'ctime',\n",
              " 'date',\n",
              " 'day',\n",
              " 'dst',\n",
              " 'fold',\n",
              " 'fromisocalendar',\n",
              " 'fromisoformat',\n",
              " 'fromordinal',\n",
              " 'fromtimestamp',\n",
              " 'hour',\n",
              " 'isocalendar',\n",
              " 'isoformat',\n",
              " 'isoweekday',\n",
              " 'max',\n",
              " 'microsecond',\n",
              " 'min',\n",
              " 'minute',\n",
              " 'month',\n",
              " 'now',\n",
              " 'replace',\n",
              " 'resolution',\n",
              " 'second',\n",
              " 'strftime',\n",
              " 'strptime',\n",
              " 'time',\n",
              " 'timestamp',\n",
              " 'timetuple',\n",
              " 'timetz',\n",
              " 'today',\n",
              " 'toordinal',\n",
              " 'tzinfo',\n",
              " 'tzname',\n",
              " 'utcfromtimestamp',\n",
              " 'utcnow',\n",
              " 'utcoffset',\n",
              " 'utctimetuple',\n",
              " 'weekday',\n",
              " 'year']"
            ]
          },
          "execution_count": 28,
          "metadata": {},
          "output_type": "execute_result"
        }
      ],
      "source": [
        "# dir is an inbuilt python function that returns a list of all the attributes and methods available in a module you specify\n",
        "dir(datetime)"
      ]
    },
    {
      "cell_type": "code",
      "execution_count": null,
      "id": "7d079b84",
      "metadata": {
        "id": "7d079b84",
        "outputId": "53f20291-d67d-4bb0-d497-e3782a336652"
      },
      "outputs": [
        {
          "name": "stdout",
          "output_type": "stream",
          "text": [
            "Help on class datetime in module datetime:\n",
            "\n",
            "class datetime(date)\n",
            " |  datetime(year, month, day[, hour[, minute[, second[, microsecond[,tzinfo]]]]])\n",
            " |  \n",
            " |  The year, month and day arguments are required. tzinfo may be None, or an\n",
            " |  instance of a tzinfo subclass. The remaining arguments may be ints.\n",
            " |  \n",
            " |  Method resolution order:\n",
            " |      datetime\n",
            " |      date\n",
            " |      builtins.object\n",
            " |  \n",
            " |  Methods defined here:\n",
            " |  \n",
            " |  __add__(self, value, /)\n",
            " |      Return self+value.\n",
            " |  \n",
            " |  __eq__(self, value, /)\n",
            " |      Return self==value.\n",
            " |  \n",
            " |  __ge__(self, value, /)\n",
            " |      Return self>=value.\n",
            " |  \n",
            " |  __getattribute__(self, name, /)\n",
            " |      Return getattr(self, name).\n",
            " |  \n",
            " |  __gt__(self, value, /)\n",
            " |      Return self>value.\n",
            " |  \n",
            " |  __hash__(self, /)\n",
            " |      Return hash(self).\n",
            " |  \n",
            " |  __le__(self, value, /)\n",
            " |      Return self<=value.\n",
            " |  \n",
            " |  __lt__(self, value, /)\n",
            " |      Return self<value.\n",
            " |  \n",
            " |  __ne__(self, value, /)\n",
            " |      Return self!=value.\n",
            " |  \n",
            " |  __radd__(self, value, /)\n",
            " |      Return value+self.\n",
            " |  \n",
            " |  __reduce__(...)\n",
            " |      __reduce__() -> (cls, state)\n",
            " |  \n",
            " |  __reduce_ex__(...)\n",
            " |      __reduce_ex__(proto) -> (cls, state)\n",
            " |  \n",
            " |  __repr__(self, /)\n",
            " |      Return repr(self).\n",
            " |  \n",
            " |  __rsub__(self, value, /)\n",
            " |      Return value-self.\n",
            " |  \n",
            " |  __str__(self, /)\n",
            " |      Return str(self).\n",
            " |  \n",
            " |  __sub__(self, value, /)\n",
            " |      Return self-value.\n",
            " |  \n",
            " |  astimezone(...)\n",
            " |      tz -> convert to local time in new timezone tz\n",
            " |  \n",
            " |  ctime(...)\n",
            " |      Return ctime() style string.\n",
            " |  \n",
            " |  date(...)\n",
            " |      Return date object with same year, month and day.\n",
            " |  \n",
            " |  dst(...)\n",
            " |      Return self.tzinfo.dst(self).\n",
            " |  \n",
            " |  isoformat(...)\n",
            " |      [sep] -> string in ISO 8601 format, YYYY-MM-DDT[HH[:MM[:SS[.mmm[uuu]]]]][+HH:MM].\n",
            " |      sep is used to separate the year from the time, and defaults to 'T'.\n",
            " |      The optional argument timespec specifies the number of additional terms\n",
            " |      of the time to include. Valid options are 'auto', 'hours', 'minutes',\n",
            " |      'seconds', 'milliseconds' and 'microseconds'.\n",
            " |  \n",
            " |  replace(...)\n",
            " |      Return datetime with new specified fields.\n",
            " |  \n",
            " |  time(...)\n",
            " |      Return time object with same time but with tzinfo=None.\n",
            " |  \n",
            " |  timestamp(...)\n",
            " |      Return POSIX timestamp as float.\n",
            " |  \n",
            " |  timetuple(...)\n",
            " |      Return time tuple, compatible with time.localtime().\n",
            " |  \n",
            " |  timetz(...)\n",
            " |      Return time object with same time and tzinfo.\n",
            " |  \n",
            " |  tzname(...)\n",
            " |      Return self.tzinfo.tzname(self).\n",
            " |  \n",
            " |  utcoffset(...)\n",
            " |      Return self.tzinfo.utcoffset(self).\n",
            " |  \n",
            " |  utctimetuple(...)\n",
            " |      Return UTC time tuple, compatible with time.localtime().\n",
            " |  \n",
            " |  ----------------------------------------------------------------------\n",
            " |  Class methods defined here:\n",
            " |  \n",
            " |  combine(...) from builtins.type\n",
            " |      date, time -> datetime with same date and time fields\n",
            " |  \n",
            " |  fromisoformat(...) from builtins.type\n",
            " |      string -> datetime from datetime.isoformat() output\n",
            " |  \n",
            " |  fromtimestamp(...) from builtins.type\n",
            " |      timestamp[, tz] -> tz's local time from POSIX timestamp.\n",
            " |  \n",
            " |  now(tz=None) from builtins.type\n",
            " |      Returns new datetime object representing current time local to tz.\n",
            " |      \n",
            " |        tz\n",
            " |          Timezone object.\n",
            " |      \n",
            " |      If no tz is specified, uses local timezone.\n",
            " |  \n",
            " |  strptime(...) from builtins.type\n",
            " |      string, format -> new datetime parsed from a string (like time.strptime()).\n",
            " |  \n",
            " |  utcfromtimestamp(...) from builtins.type\n",
            " |      Construct a naive UTC datetime from a POSIX timestamp.\n",
            " |  \n",
            " |  utcnow(...) from builtins.type\n",
            " |      Return a new datetime representing UTC day and time.\n",
            " |  \n",
            " |  ----------------------------------------------------------------------\n",
            " |  Static methods defined here:\n",
            " |  \n",
            " |  __new__(*args, **kwargs) from builtins.type\n",
            " |      Create and return a new object.  See help(type) for accurate signature.\n",
            " |  \n",
            " |  ----------------------------------------------------------------------\n",
            " |  Data descriptors defined here:\n",
            " |  \n",
            " |  fold\n",
            " |  \n",
            " |  hour\n",
            " |  \n",
            " |  microsecond\n",
            " |  \n",
            " |  minute\n",
            " |  \n",
            " |  second\n",
            " |  \n",
            " |  tzinfo\n",
            " |  \n",
            " |  ----------------------------------------------------------------------\n",
            " |  Data and other attributes defined here:\n",
            " |  \n",
            " |  max = datetime.datetime(9999, 12, 31, 23, 59, 59, 999999)\n",
            " |  \n",
            " |  min = datetime.datetime(1, 1, 1, 0, 0)\n",
            " |  \n",
            " |  resolution = datetime.timedelta(microseconds=1)\n",
            " |  \n",
            " |  ----------------------------------------------------------------------\n",
            " |  Methods inherited from date:\n",
            " |  \n",
            " |  __format__(...)\n",
            " |      Formats self with strftime.\n",
            " |  \n",
            " |  isocalendar(...)\n",
            " |      Return a named tuple containing ISO year, week number, and weekday.\n",
            " |  \n",
            " |  isoweekday(...)\n",
            " |      Return the day of the week represented by the date.\n",
            " |      Monday == 1 ... Sunday == 7\n",
            " |  \n",
            " |  strftime(...)\n",
            " |      format -> strftime() style string.\n",
            " |  \n",
            " |  toordinal(...)\n",
            " |      Return proleptic Gregorian ordinal.  January 1 of year 1 is day 1.\n",
            " |  \n",
            " |  weekday(...)\n",
            " |      Return the day of the week represented by the date.\n",
            " |      Monday == 0 ... Sunday == 6\n",
            " |  \n",
            " |  ----------------------------------------------------------------------\n",
            " |  Class methods inherited from date:\n",
            " |  \n",
            " |  fromisocalendar(...) from builtins.type\n",
            " |      int, int, int -> Construct a date from the ISO year, week number and weekday.\n",
            " |      \n",
            " |      This is the inverse of the date.isocalendar() function\n",
            " |  \n",
            " |  fromordinal(...) from builtins.type\n",
            " |      int -> date corresponding to a proleptic Gregorian ordinal.\n",
            " |  \n",
            " |  today(...) from builtins.type\n",
            " |      Current date or datetime:  same as self.__class__.fromtimestamp(time.time()).\n",
            " |  \n",
            " |  ----------------------------------------------------------------------\n",
            " |  Data descriptors inherited from date:\n",
            " |  \n",
            " |  day\n",
            " |  \n",
            " |  month\n",
            " |  \n",
            " |  year\n",
            "\n"
          ]
        }
      ],
      "source": [
        "help(datetime)"
      ]
    },
    {
      "cell_type": "markdown",
      "id": "d62a6a56",
      "metadata": {
        "id": "d62a6a56"
      },
      "source": [
        "#### 4. maths module\n",
        "\n",
        "Provides access to the mathematical functions defined by the c standard"
      ]
    },
    {
      "cell_type": "code",
      "execution_count": null,
      "id": "e3692624",
      "metadata": {
        "id": "e3692624",
        "outputId": "3fa166c3-5c4a-42ce-93f6-4e762a1afa0d"
      },
      "outputs": [
        {
          "data": {
            "text/plain": [
              "['__doc__',\n",
              " '__loader__',\n",
              " '__name__',\n",
              " '__package__',\n",
              " '__spec__',\n",
              " 'acos',\n",
              " 'acosh',\n",
              " 'asin',\n",
              " 'asinh',\n",
              " 'atan',\n",
              " 'atan2',\n",
              " 'atanh',\n",
              " 'ceil',\n",
              " 'comb',\n",
              " 'copysign',\n",
              " 'cos',\n",
              " 'cosh',\n",
              " 'degrees',\n",
              " 'dist',\n",
              " 'e',\n",
              " 'erf',\n",
              " 'erfc',\n",
              " 'exp',\n",
              " 'expm1',\n",
              " 'fabs',\n",
              " 'factorial',\n",
              " 'floor',\n",
              " 'fmod',\n",
              " 'frexp',\n",
              " 'fsum',\n",
              " 'gamma',\n",
              " 'gcd',\n",
              " 'hypot',\n",
              " 'inf',\n",
              " 'isclose',\n",
              " 'isfinite',\n",
              " 'isinf',\n",
              " 'isnan',\n",
              " 'isqrt',\n",
              " 'lcm',\n",
              " 'ldexp',\n",
              " 'lgamma',\n",
              " 'log',\n",
              " 'log10',\n",
              " 'log1p',\n",
              " 'log2',\n",
              " 'modf',\n",
              " 'nan',\n",
              " 'nextafter',\n",
              " 'perm',\n",
              " 'pi',\n",
              " 'pow',\n",
              " 'prod',\n",
              " 'radians',\n",
              " 'remainder',\n",
              " 'sin',\n",
              " 'sinh',\n",
              " 'sqrt',\n",
              " 'tan',\n",
              " 'tanh',\n",
              " 'tau',\n",
              " 'trunc',\n",
              " 'ulp']"
            ]
          },
          "execution_count": 27,
          "metadata": {},
          "output_type": "execute_result"
        }
      ],
      "source": [
        "import math\n",
        "\n",
        "dir(math)"
      ]
    },
    {
      "cell_type": "code",
      "execution_count": null,
      "id": "c2b05b6d",
      "metadata": {
        "id": "c2b05b6d",
        "outputId": "b134a9b9-0aa3-44fe-d9ab-0e3e3af82c03"
      },
      "outputs": [
        {
          "name": "stdout",
          "output_type": "stream",
          "text": [
            "Help on built-in module math:\n",
            "\n",
            "NAME\n",
            "    math\n",
            "\n",
            "DESCRIPTION\n",
            "    This module provides access to the mathematical functions\n",
            "    defined by the C standard.\n",
            "\n",
            "FUNCTIONS\n",
            "    acos(x, /)\n",
            "        Return the arc cosine (measured in radians) of x.\n",
            "        \n",
            "        The result is between 0 and pi.\n",
            "    \n",
            "    acosh(x, /)\n",
            "        Return the inverse hyperbolic cosine of x.\n",
            "    \n",
            "    asin(x, /)\n",
            "        Return the arc sine (measured in radians) of x.\n",
            "        \n",
            "        The result is between -pi/2 and pi/2.\n",
            "    \n",
            "    asinh(x, /)\n",
            "        Return the inverse hyperbolic sine of x.\n",
            "    \n",
            "    atan(x, /)\n",
            "        Return the arc tangent (measured in radians) of x.\n",
            "        \n",
            "        The result is between -pi/2 and pi/2.\n",
            "    \n",
            "    atan2(y, x, /)\n",
            "        Return the arc tangent (measured in radians) of y/x.\n",
            "        \n",
            "        Unlike atan(y/x), the signs of both x and y are considered.\n",
            "    \n",
            "    atanh(x, /)\n",
            "        Return the inverse hyperbolic tangent of x.\n",
            "    \n",
            "    ceil(x, /)\n",
            "        Return the ceiling of x as an Integral.\n",
            "        \n",
            "        This is the smallest integer >= x.\n",
            "    \n",
            "    comb(n, k, /)\n",
            "        Number of ways to choose k items from n items without repetition and without order.\n",
            "        \n",
            "        Evaluates to n! / (k! * (n - k)!) when k <= n and evaluates\n",
            "        to zero when k > n.\n",
            "        \n",
            "        Also called the binomial coefficient because it is equivalent\n",
            "        to the coefficient of k-th term in polynomial expansion of the\n",
            "        expression (1 + x)**n.\n",
            "        \n",
            "        Raises TypeError if either of the arguments are not integers.\n",
            "        Raises ValueError if either of the arguments are negative.\n",
            "    \n",
            "    copysign(x, y, /)\n",
            "        Return a float with the magnitude (absolute value) of x but the sign of y.\n",
            "        \n",
            "        On platforms that support signed zeros, copysign(1.0, -0.0)\n",
            "        returns -1.0.\n",
            "    \n",
            "    cos(x, /)\n",
            "        Return the cosine of x (measured in radians).\n",
            "    \n",
            "    cosh(x, /)\n",
            "        Return the hyperbolic cosine of x.\n",
            "    \n",
            "    degrees(x, /)\n",
            "        Convert angle x from radians to degrees.\n",
            "    \n",
            "    dist(p, q, /)\n",
            "        Return the Euclidean distance between two points p and q.\n",
            "        \n",
            "        The points should be specified as sequences (or iterables) of\n",
            "        coordinates.  Both inputs must have the same dimension.\n",
            "        \n",
            "        Roughly equivalent to:\n",
            "            sqrt(sum((px - qx) ** 2.0 for px, qx in zip(p, q)))\n",
            "    \n",
            "    erf(x, /)\n",
            "        Error function at x.\n",
            "    \n",
            "    erfc(x, /)\n",
            "        Complementary error function at x.\n",
            "    \n",
            "    exp(x, /)\n",
            "        Return e raised to the power of x.\n",
            "    \n",
            "    expm1(x, /)\n",
            "        Return exp(x)-1.\n",
            "        \n",
            "        This function avoids the loss of precision involved in the direct evaluation of exp(x)-1 for small x.\n",
            "    \n",
            "    fabs(x, /)\n",
            "        Return the absolute value of the float x.\n",
            "    \n",
            "    factorial(x, /)\n",
            "        Find x!.\n",
            "        \n",
            "        Raise a ValueError if x is negative or non-integral.\n",
            "    \n",
            "    floor(x, /)\n",
            "        Return the floor of x as an Integral.\n",
            "        \n",
            "        This is the largest integer <= x.\n",
            "    \n",
            "    fmod(x, y, /)\n",
            "        Return fmod(x, y), according to platform C.\n",
            "        \n",
            "        x % y may differ.\n",
            "    \n",
            "    frexp(x, /)\n",
            "        Return the mantissa and exponent of x, as pair (m, e).\n",
            "        \n",
            "        m is a float and e is an int, such that x = m * 2.**e.\n",
            "        If x is 0, m and e are both 0.  Else 0.5 <= abs(m) < 1.0.\n",
            "    \n",
            "    fsum(seq, /)\n",
            "        Return an accurate floating point sum of values in the iterable seq.\n",
            "        \n",
            "        Assumes IEEE-754 floating point arithmetic.\n",
            "    \n",
            "    gamma(x, /)\n",
            "        Gamma function at x.\n",
            "    \n",
            "    gcd(*integers)\n",
            "        Greatest Common Divisor.\n",
            "    \n",
            "    hypot(...)\n",
            "        hypot(*coordinates) -> value\n",
            "        \n",
            "        Multidimensional Euclidean distance from the origin to a point.\n",
            "        \n",
            "        Roughly equivalent to:\n",
            "            sqrt(sum(x**2 for x in coordinates))\n",
            "        \n",
            "        For a two dimensional point (x, y), gives the hypotenuse\n",
            "        using the Pythagorean theorem:  sqrt(x*x + y*y).\n",
            "        \n",
            "        For example, the hypotenuse of a 3/4/5 right triangle is:\n",
            "        \n",
            "            >>> hypot(3.0, 4.0)\n",
            "            5.0\n",
            "    \n",
            "    isclose(a, b, *, rel_tol=1e-09, abs_tol=0.0)\n",
            "        Determine whether two floating point numbers are close in value.\n",
            "        \n",
            "          rel_tol\n",
            "            maximum difference for being considered \"close\", relative to the\n",
            "            magnitude of the input values\n",
            "          abs_tol\n",
            "            maximum difference for being considered \"close\", regardless of the\n",
            "            magnitude of the input values\n",
            "        \n",
            "        Return True if a is close in value to b, and False otherwise.\n",
            "        \n",
            "        For the values to be considered close, the difference between them\n",
            "        must be smaller than at least one of the tolerances.\n",
            "        \n",
            "        -inf, inf and NaN behave similarly to the IEEE 754 Standard.  That\n",
            "        is, NaN is not close to anything, even itself.  inf and -inf are\n",
            "        only close to themselves.\n",
            "    \n",
            "    isfinite(x, /)\n",
            "        Return True if x is neither an infinity nor a NaN, and False otherwise.\n",
            "    \n",
            "    isinf(x, /)\n",
            "        Return True if x is a positive or negative infinity, and False otherwise.\n",
            "    \n",
            "    isnan(x, /)\n",
            "        Return True if x is a NaN (not a number), and False otherwise.\n",
            "    \n",
            "    isqrt(n, /)\n",
            "        Return the integer part of the square root of the input.\n",
            "    \n",
            "    lcm(*integers)\n",
            "        Least Common Multiple.\n",
            "    \n",
            "    ldexp(x, i, /)\n",
            "        Return x * (2**i).\n",
            "        \n",
            "        This is essentially the inverse of frexp().\n",
            "    \n",
            "    lgamma(x, /)\n",
            "        Natural logarithm of absolute value of Gamma function at x.\n",
            "    \n",
            "    log(...)\n",
            "        log(x, [base=math.e])\n",
            "        Return the logarithm of x to the given base.\n",
            "        \n",
            "        If the base not specified, returns the natural logarithm (base e) of x.\n",
            "    \n",
            "    log10(x, /)\n",
            "        Return the base 10 logarithm of x.\n",
            "    \n",
            "    log1p(x, /)\n",
            "        Return the natural logarithm of 1+x (base e).\n",
            "        \n",
            "        The result is computed in a way which is accurate for x near zero.\n",
            "    \n",
            "    log2(x, /)\n",
            "        Return the base 2 logarithm of x.\n",
            "    \n",
            "    modf(x, /)\n",
            "        Return the fractional and integer parts of x.\n",
            "        \n",
            "        Both results carry the sign of x and are floats.\n",
            "    \n",
            "    nextafter(x, y, /)\n",
            "        Return the next floating-point value after x towards y.\n",
            "    \n",
            "    perm(n, k=None, /)\n",
            "        Number of ways to choose k items from n items without repetition and with order.\n",
            "        \n",
            "        Evaluates to n! / (n - k)! when k <= n and evaluates\n",
            "        to zero when k > n.\n",
            "        \n",
            "        If k is not specified or is None, then k defaults to n\n",
            "        and the function returns n!.\n",
            "        \n",
            "        Raises TypeError if either of the arguments are not integers.\n",
            "        Raises ValueError if either of the arguments are negative.\n",
            "    \n",
            "    pow(x, y, /)\n",
            "        Return x**y (x to the power of y).\n",
            "    \n",
            "    prod(iterable, /, *, start=1)\n",
            "        Calculate the product of all the elements in the input iterable.\n",
            "        \n",
            "        The default start value for the product is 1.\n",
            "        \n",
            "        When the iterable is empty, return the start value.  This function is\n",
            "        intended specifically for use with numeric values and may reject\n",
            "        non-numeric types.\n",
            "    \n",
            "    radians(x, /)\n",
            "        Convert angle x from degrees to radians.\n",
            "    \n",
            "    remainder(x, y, /)\n",
            "        Difference between x and the closest integer multiple of y.\n",
            "        \n",
            "        Return x - n*y where n*y is the closest integer multiple of y.\n",
            "        In the case where x is exactly halfway between two multiples of\n",
            "        y, the nearest even value of n is used. The result is always exact.\n",
            "    \n",
            "    sin(x, /)\n",
            "        Return the sine of x (measured in radians).\n",
            "    \n",
            "    sinh(x, /)\n",
            "        Return the hyperbolic sine of x.\n",
            "    \n",
            "    sqrt(x, /)\n",
            "        Return the square root of x.\n",
            "    \n",
            "    tan(x, /)\n",
            "        Return the tangent of x (measured in radians).\n",
            "    \n",
            "    tanh(x, /)\n",
            "        Return the hyperbolic tangent of x.\n",
            "    \n",
            "    trunc(x, /)\n",
            "        Truncates the Real x to the nearest Integral toward 0.\n",
            "        \n",
            "        Uses the __trunc__ magic method.\n",
            "    \n",
            "    ulp(x, /)\n",
            "        Return the value of the least significant bit of the float x.\n",
            "\n",
            "DATA\n",
            "    e = 2.718281828459045\n",
            "    inf = inf\n",
            "    nan = nan\n",
            "    pi = 3.141592653589793\n",
            "    tau = 6.283185307179586\n",
            "\n",
            "FILE\n",
            "    (built-in)\n",
            "\n",
            "\n"
          ]
        }
      ],
      "source": [
        "#help is used to get more information on the methods associated with a module\n",
        "\n",
        "help(math)"
      ]
    },
    {
      "cell_type": "markdown",
      "id": "deae050a",
      "metadata": {
        "id": "deae050a"
      },
      "source": [
        "#### 5. Random module\n",
        "\n",
        "Used when we want the computer to pick a number in a given range"
      ]
    },
    {
      "cell_type": "code",
      "execution_count": null,
      "id": "bcf364cc",
      "metadata": {
        "id": "bcf364cc",
        "outputId": "4e68dfb8-426f-4147-ecd1-5d6462a81be3"
      },
      "outputs": [
        {
          "name": "stdout",
          "output_type": "stream",
          "text": [
            "0.03864626327970577\n"
          ]
        }
      ],
      "source": [
        "import random\n",
        "from random import *\n",
        "print(random())"
      ]
    },
    {
      "cell_type": "code",
      "execution_count": null,
      "id": "dce3100d",
      "metadata": {
        "id": "dce3100d",
        "outputId": "120d9111-c1ea-4b6a-a982-ae2c97c367fc"
      },
      "outputs": [
        {
          "data": {
            "text/plain": [
              "['__call__',\n",
              " '__class__',\n",
              " '__delattr__',\n",
              " '__dir__',\n",
              " '__doc__',\n",
              " '__eq__',\n",
              " '__format__',\n",
              " '__ge__',\n",
              " '__getattribute__',\n",
              " '__gt__',\n",
              " '__hash__',\n",
              " '__init__',\n",
              " '__init_subclass__',\n",
              " '__le__',\n",
              " '__lt__',\n",
              " '__module__',\n",
              " '__name__',\n",
              " '__ne__',\n",
              " '__new__',\n",
              " '__qualname__',\n",
              " '__reduce__',\n",
              " '__reduce_ex__',\n",
              " '__repr__',\n",
              " '__self__',\n",
              " '__setattr__',\n",
              " '__sizeof__',\n",
              " '__str__',\n",
              " '__subclasshook__',\n",
              " '__text_signature__']"
            ]
          },
          "execution_count": 3,
          "metadata": {},
          "output_type": "execute_result"
        }
      ],
      "source": [
        "dir(random)"
      ]
    },
    {
      "cell_type": "code",
      "execution_count": null,
      "id": "c5ab5a1d",
      "metadata": {
        "id": "c5ab5a1d",
        "outputId": "fa964cab-56a5-49b2-ac15-f23e1acf9936"
      },
      "outputs": [
        {
          "name": "stdout",
          "output_type": "stream",
          "text": [
            "Help on built-in function random:\n",
            "\n",
            "random() method of random.Random instance\n",
            "    random() -> x in the interval [0, 1).\n",
            "\n"
          ]
        }
      ],
      "source": [
        "help(random)"
      ]
    },
    {
      "cell_type": "markdown",
      "id": "887dcb1b",
      "metadata": {
        "id": "887dcb1b"
      },
      "source": [
        "**The randint function**"
      ]
    },
    {
      "cell_type": "code",
      "execution_count": null,
      "id": "6f12f523",
      "metadata": {
        "id": "6f12f523",
        "outputId": "5c16709a-82ce-4d2f-e4d5-67d4f8a6e980"
      },
      "outputs": [
        {
          "name": "stdout",
          "output_type": "stream",
          "text": [
            "5\n"
          ]
        }
      ],
      "source": [
        "# returns an integer between the numbers specified, the numbers are inclusive\n",
        "\n",
        "import random\n",
        "print(random.randint(3,7))"
      ]
    },
    {
      "cell_type": "markdown",
      "id": "02e99ed7",
      "metadata": {
        "id": "02e99ed7"
      },
      "source": [
        "**The uniform function**"
      ]
    },
    {
      "cell_type": "code",
      "execution_count": null,
      "id": "dcb80e6e",
      "metadata": {
        "id": "dcb80e6e",
        "outputId": "bc1272cf-2c88-4e94-857f-ee14b15bd66e"
      },
      "outputs": [
        {
          "name": "stdout",
          "output_type": "stream",
          "text": [
            "6.809852053882518\n"
          ]
        }
      ],
      "source": [
        "# returns a random floating point between the numbers specified, the numbers are inclusive\n",
        "\n",
        "print(uniform(3,7))"
      ]
    },
    {
      "cell_type": "markdown",
      "id": "b07439b5",
      "metadata": {
        "id": "b07439b5"
      },
      "source": [
        "**The choice function**"
      ]
    },
    {
      "cell_type": "code",
      "execution_count": null,
      "id": "8a6e9093",
      "metadata": {
        "id": "8a6e9093",
        "outputId": "65c6c7fd-0ed0-4134-b829-4eb512eab1f5"
      },
      "outputs": [
        {
          "name": "stdout",
          "output_type": "stream",
          "text": [
            "NASA\n",
            "7786\n"
          ]
        }
      ],
      "source": [
        "# it generates a random value from the sequence\n",
        "# it used to choose a random element from a list\n",
        "\n",
        "\n",
        "import random\n",
        "my_list = ['NASA', 'Hannah', 7786, {'food': 'rice and beans'}]\n",
        "\n",
        "print(random.choice(my_list))\n",
        "print(choice(my_list))"
      ]
    },
    {
      "cell_type": "markdown",
      "id": "64ddcc74",
      "metadata": {
        "id": "64ddcc74"
      },
      "source": [
        "**The Shuffle function**"
      ]
    },
    {
      "cell_type": "code",
      "execution_count": null,
      "id": "f40a6b23",
      "metadata": {
        "id": "f40a6b23",
        "outputId": "a0dac72b-3548-426e-affd-5ccbb1e15057"
      },
      "outputs": [
        {
          "name": "stdout",
          "output_type": "stream",
          "text": [
            "Before shuffling:  ['NASA', 'Hannah', 7786, {'food': 'rice and beans'}]\n"
          ]
        }
      ],
      "source": [
        "#used the shuffle the elements in a list in place so they are in random order\n",
        "\n",
        "import random\n",
        "print('Before shuffling: ', my_list)"
      ]
    },
    {
      "cell_type": "markdown",
      "id": "a94849cc",
      "metadata": {
        "id": "a94849cc"
      },
      "source": [
        "According to the rules we are to shuffle before we include the list in a print statement"
      ]
    },
    {
      "cell_type": "code",
      "execution_count": null,
      "id": "6e7ca7bf",
      "metadata": {
        "id": "6e7ca7bf",
        "outputId": "4ba6b653-e066-4fcb-db4d-9718381ad509"
      },
      "outputs": [
        {
          "name": "stdout",
          "output_type": "stream",
          "text": [
            "\n",
            "After shuffling:  [7786, {'food': 'rice and beans'}, 'Hannah', 'NASA']\n"
          ]
        }
      ],
      "source": [
        "import random\n",
        "\n",
        "shuffle(my_list)\n",
        "print('\\nAfter shuffling: ', my_list)"
      ]
    },
    {
      "cell_type": "markdown",
      "id": "aa4a1547",
      "metadata": {
        "id": "aa4a1547"
      },
      "source": [
        "**The randrange function**"
      ]
    },
    {
      "cell_type": "code",
      "execution_count": null,
      "id": "ff65a37b",
      "metadata": {
        "id": "ff65a37b",
        "outputId": "dd586b12-0b0a-41ac-9052-5e4f99a35054"
      },
      "outputs": [
        {
          "name": "stdout",
          "output_type": "stream",
          "text": [
            "5\n",
            "85\n",
            "100\n",
            "65\n",
            "55\n"
          ]
        }
      ],
      "source": [
        "#generates a randomly selected element from range(start, stop, step)\n",
        "\n",
        "import random\n",
        "for i in range(5):\n",
        "    print(random.randrange(0, 101, 5))\n"
      ]
    },
    {
      "cell_type": "markdown",
      "id": "143ca34a",
      "metadata": {
        "id": "143ca34a"
      },
      "source": [
        "**The sample function**"
      ]
    },
    {
      "cell_type": "code",
      "execution_count": null,
      "id": "0cca8005",
      "metadata": {
        "id": "0cca8005",
        "outputId": "9865e167-89c3-4e53-d987-c0cddf93f189"
      },
      "outputs": [
        {
          "name": "stdout",
          "output_type": "stream",
          "text": [
            "[0, 1, 2, 3, 4, 5, 6, 7, 8, 9, 10, 11, 12, 13, 14, 15, 16, 17, 18, 19]\n",
            "[8, 18, 12, 10, 19, 6, 16, 14, 1, 0]\n"
          ]
        }
      ],
      "source": [
        "import random\n",
        "c=list(range(0,20))\n",
        "print(c)\n",
        "\n",
        "#the sample function is used to return a list of unique elements choosen at random from the sequence\n",
        "print(random.sample(c, 10))"
      ]
    },
    {
      "cell_type": "markdown",
      "id": "3e8aadb1",
      "metadata": {
        "id": "3e8aadb1"
      },
      "source": [
        "#### 6. Webbrowser module"
      ]
    },
    {
      "cell_type": "markdown",
      "id": "91f7a442",
      "metadata": {
        "id": "91f7a442"
      },
      "source": [
        "This module is used to provide an interface to display web-based documents."
      ]
    },
    {
      "cell_type": "code",
      "execution_count": null,
      "id": "b430d2f1",
      "metadata": {
        "id": "b430d2f1",
        "outputId": "67e6e67d-008f-4728-b03b-794993ecbe08"
      },
      "outputs": [
        {
          "data": {
            "text/plain": [
              "['BackgroundBrowser',\n",
              " 'BaseBrowser',\n",
              " 'Chrome',\n",
              " 'Chromium',\n",
              " 'Elinks',\n",
              " 'Error',\n",
              " 'Galeon',\n",
              " 'GenericBrowser',\n",
              " 'Grail',\n",
              " 'Konqueror',\n",
              " 'Mozilla',\n",
              " 'Netscape',\n",
              " 'Opera',\n",
              " 'UnixBrowser',\n",
              " 'WindowsDefault',\n",
              " '__all__',\n",
              " '__builtins__',\n",
              " '__cached__',\n",
              " '__doc__',\n",
              " '__file__',\n",
              " '__loader__',\n",
              " '__name__',\n",
              " '__package__',\n",
              " '__spec__',\n",
              " '_browsers',\n",
              " '_lock',\n",
              " '_os_preferred_browser',\n",
              " '_synthesize',\n",
              " '_tryorder',\n",
              " 'get',\n",
              " 'main',\n",
              " 'open',\n",
              " 'open_new',\n",
              " 'open_new_tab',\n",
              " 'os',\n",
              " 'register',\n",
              " 'register_X_browsers',\n",
              " 'register_standard_browsers',\n",
              " 'shlex',\n",
              " 'shutil',\n",
              " 'subprocess',\n",
              " 'sys',\n",
              " 'threading']"
            ]
          },
          "execution_count": 19,
          "metadata": {},
          "output_type": "execute_result"
        }
      ],
      "source": [
        "import webbrowser\n",
        "dir(webbrowser)"
      ]
    },
    {
      "cell_type": "code",
      "execution_count": null,
      "id": "bdf34fdb",
      "metadata": {
        "id": "bdf34fdb",
        "outputId": "251fe573-3a89-4977-dbf4-ae1a7eb1ed88"
      },
      "outputs": [
        {
          "name": "stdout",
          "output_type": "stream",
          "text": [
            "Help on module webbrowser:\n",
            "\n",
            "NAME\n",
            "    webbrowser - Interfaces for launching and remotely controlling Web browsers.\n",
            "\n",
            "MODULE REFERENCE\n",
            "    https://docs.python.org/3.9/library/webbrowser\n",
            "    \n",
            "    The following documentation is automatically generated from the Python\n",
            "    source files.  It may be incomplete, incorrect or include features that\n",
            "    are considered implementation detail and may vary between Python\n",
            "    implementations.  When in doubt, consult the module reference at the\n",
            "    location listed above.\n",
            "\n",
            "CLASSES\n",
            "    builtins.Exception(builtins.BaseException)\n",
            "        Error\n",
            "    \n",
            "    class Error(builtins.Exception)\n",
            "     |  Method resolution order:\n",
            "     |      Error\n",
            "     |      builtins.Exception\n",
            "     |      builtins.BaseException\n",
            "     |      builtins.object\n",
            "     |  \n",
            "     |  Data descriptors defined here:\n",
            "     |  \n",
            "     |  __weakref__\n",
            "     |      list of weak references to the object (if defined)\n",
            "     |  \n",
            "     |  ----------------------------------------------------------------------\n",
            "     |  Methods inherited from builtins.Exception:\n",
            "     |  \n",
            "     |  __init__(self, /, *args, **kwargs)\n",
            "     |      Initialize self.  See help(type(self)) for accurate signature.\n",
            "     |  \n",
            "     |  ----------------------------------------------------------------------\n",
            "     |  Static methods inherited from builtins.Exception:\n",
            "     |  \n",
            "     |  __new__(*args, **kwargs) from builtins.type\n",
            "     |      Create and return a new object.  See help(type) for accurate signature.\n",
            "     |  \n",
            "     |  ----------------------------------------------------------------------\n",
            "     |  Methods inherited from builtins.BaseException:\n",
            "     |  \n",
            "     |  __delattr__(self, name, /)\n",
            "     |      Implement delattr(self, name).\n",
            "     |  \n",
            "     |  __getattribute__(self, name, /)\n",
            "     |      Return getattr(self, name).\n",
            "     |  \n",
            "     |  __reduce__(...)\n",
            "     |      Helper for pickle.\n",
            "     |  \n",
            "     |  __repr__(self, /)\n",
            "     |      Return repr(self).\n",
            "     |  \n",
            "     |  __setattr__(self, name, value, /)\n",
            "     |      Implement setattr(self, name, value).\n",
            "     |  \n",
            "     |  __setstate__(...)\n",
            "     |  \n",
            "     |  __str__(self, /)\n",
            "     |      Return str(self).\n",
            "     |  \n",
            "     |  with_traceback(...)\n",
            "     |      Exception.with_traceback(tb) --\n",
            "     |      set self.__traceback__ to tb and return self.\n",
            "     |  \n",
            "     |  ----------------------------------------------------------------------\n",
            "     |  Data descriptors inherited from builtins.BaseException:\n",
            "     |  \n",
            "     |  __cause__\n",
            "     |      exception cause\n",
            "     |  \n",
            "     |  __context__\n",
            "     |      exception context\n",
            "     |  \n",
            "     |  __dict__\n",
            "     |  \n",
            "     |  __suppress_context__\n",
            "     |  \n",
            "     |  __traceback__\n",
            "     |  \n",
            "     |  args\n",
            "\n",
            "FUNCTIONS\n",
            "    get(using=None)\n",
            "        Return a browser launcher instance appropriate for the environment.\n",
            "    \n",
            "    open(url, new=0, autoraise=True)\n",
            "        Display url using the default browser.\n",
            "        \n",
            "        If possible, open url in a location determined by new.\n",
            "        - 0: the same browser window (the default).\n",
            "        - 1: a new browser window.\n",
            "        - 2: a new browser page (\"tab\").\n",
            "        If possible, autoraise raises the window (the default) or not.\n",
            "    \n",
            "    open_new(url)\n",
            "        Open url in a new window of the default browser.\n",
            "        \n",
            "        If not possible, then open url in the only browser window.\n",
            "    \n",
            "    open_new_tab(url)\n",
            "        Open url in a new page (\"tab\") of the default browser.\n",
            "        \n",
            "        If not possible, then the behavior becomes equivalent to open_new().\n",
            "    \n",
            "    register(name, klass, instance=None, *, preferred=False)\n",
            "        Register a browser connector.\n",
            "\n",
            "DATA\n",
            "    __all__ = ['Error', 'open', 'open_new', 'open_new_tab', 'get', 'regist...\n",
            "\n",
            "FILE\n",
            "    c:\\users\\user\\anaconda3\\lib\\webbrowser.py\n",
            "\n",
            "\n"
          ]
        }
      ],
      "source": [
        "help(webbrowser)"
      ]
    },
    {
      "cell_type": "code",
      "execution_count": null,
      "id": "955ccfa0",
      "metadata": {
        "id": "955ccfa0",
        "outputId": "e88ea0f8-f693-4cfe-9043-1778ce7d10ef"
      },
      "outputs": [
        {
          "name": "stdout",
          "output_type": "stream",
          "text": [
            "Enter Your Google search:Djpunjab.com\n"
          ]
        },
        {
          "data": {
            "text/plain": [
              "True"
            ]
          },
          "execution_count": 29,
          "metadata": {},
          "output_type": "execute_result"
        }
      ],
      "source": [
        "import webbrowser\n",
        "google = input('Enter Your Google search:')\n",
        "webbrowser.open_new_tab('http://www.google.com/search?btnG=1&q=%s' % google)"
      ]
    },
    {
      "cell_type": "code",
      "execution_count": null,
      "id": "624efced",
      "metadata": {
        "id": "624efced",
        "outputId": "20fe52be-49e8-4522-ccbf-637228004267"
      },
      "outputs": [
        {
          "name": "stdout",
          "output_type": "stream",
          "text": [
            "Enter google search: Deep learning\n"
          ]
        },
        {
          "data": {
            "text/plain": [
              "True"
            ]
          },
          "execution_count": 50,
          "metadata": {},
          "output_type": "execute_result"
        }
      ],
      "source": [
        "import webbrowser as wb\n",
        "google = input('Enter google search: ')\n",
        "wb.open_new_tab(\"http://www.google.com/search?q=%s\" % google)"
      ]
    },
    {
      "cell_type": "markdown",
      "id": "2822b854",
      "metadata": {
        "id": "2822b854"
      },
      "source": [
        "#### 7. Calendar module\n",
        "\n",
        "Displays the calendar"
      ]
    },
    {
      "cell_type": "code",
      "execution_count": null,
      "id": "7b24c37b",
      "metadata": {
        "id": "7b24c37b",
        "outputId": "dd663e3b-79c5-4ce2-e87a-de288b1e73e8"
      },
      "outputs": [
        {
          "data": {
            "text/plain": [
              "['Calendar',\n",
              " 'EPOCH',\n",
              " 'FRIDAY',\n",
              " 'February',\n",
              " 'HTMLCalendar',\n",
              " 'IllegalMonthError',\n",
              " 'IllegalWeekdayError',\n",
              " 'January',\n",
              " 'LocaleHTMLCalendar',\n",
              " 'LocaleTextCalendar',\n",
              " 'MONDAY',\n",
              " 'SATURDAY',\n",
              " 'SUNDAY',\n",
              " 'THURSDAY',\n",
              " 'TUESDAY',\n",
              " 'TextCalendar',\n",
              " 'WEDNESDAY',\n",
              " '_EPOCH_ORD',\n",
              " '__all__',\n",
              " '__builtins__',\n",
              " '__cached__',\n",
              " '__doc__',\n",
              " '__file__',\n",
              " '__loader__',\n",
              " '__name__',\n",
              " '__package__',\n",
              " '__spec__',\n",
              " '_colwidth',\n",
              " '_locale',\n",
              " '_localized_day',\n",
              " '_localized_month',\n",
              " '_monthlen',\n",
              " '_nextmonth',\n",
              " '_prevmonth',\n",
              " '_spacing',\n",
              " 'c',\n",
              " 'calendar',\n",
              " 'datetime',\n",
              " 'day_abbr',\n",
              " 'day_name',\n",
              " 'different_locale',\n",
              " 'error',\n",
              " 'firstweekday',\n",
              " 'format',\n",
              " 'formatstring',\n",
              " 'isleap',\n",
              " 'leapdays',\n",
              " 'main',\n",
              " 'mdays',\n",
              " 'month',\n",
              " 'month_abbr',\n",
              " 'month_name',\n",
              " 'monthcalendar',\n",
              " 'monthrange',\n",
              " 'prcal',\n",
              " 'prmonth',\n",
              " 'prweek',\n",
              " 'repeat',\n",
              " 'setfirstweekday',\n",
              " 'sys',\n",
              " 'timegm',\n",
              " 'week',\n",
              " 'weekday',\n",
              " 'weekheader']"
            ]
          },
          "execution_count": 34,
          "metadata": {},
          "output_type": "execute_result"
        }
      ],
      "source": [
        "dir(calendar)"
      ]
    },
    {
      "cell_type": "code",
      "execution_count": null,
      "id": "c384c9bd",
      "metadata": {
        "scrolled": true,
        "id": "c384c9bd",
        "outputId": "1e99fd5b-110a-40bb-e631-8f25d01a1690"
      },
      "outputs": [
        {
          "name": "stdout",
          "output_type": "stream",
          "text": [
            "Help on module calendar:\n",
            "\n",
            "NAME\n",
            "    calendar - Calendar printing functions\n",
            "\n",
            "MODULE REFERENCE\n",
            "    https://docs.python.org/3.9/library/calendar\n",
            "    \n",
            "    The following documentation is automatically generated from the Python\n",
            "    source files.  It may be incomplete, incorrect or include features that\n",
            "    are considered implementation detail and may vary between Python\n",
            "    implementations.  When in doubt, consult the module reference at the\n",
            "    location listed above.\n",
            "\n",
            "DESCRIPTION\n",
            "    Note when comparing these calendars to the ones printed by cal(1): By\n",
            "    default, these calendars have Monday as the first day of the week, and\n",
            "    Sunday as the last (the European convention). Use setfirstweekday() to\n",
            "    set the first day of the week (0=Monday, 6=Sunday).\n",
            "\n",
            "CLASSES\n",
            "    builtins.ValueError(builtins.Exception)\n",
            "        IllegalMonthError\n",
            "        IllegalWeekdayError\n",
            "    builtins.object\n",
            "        Calendar\n",
            "            HTMLCalendar\n",
            "                LocaleHTMLCalendar\n",
            "            TextCalendar\n",
            "                LocaleTextCalendar\n",
            "    \n",
            "    class Calendar(builtins.object)\n",
            "     |  Calendar(firstweekday=0)\n",
            "     |  \n",
            "     |  Base calendar class. This class doesn't do any formatting. It simply\n",
            "     |  provides data to subclasses.\n",
            "     |  \n",
            "     |  Methods defined here:\n",
            "     |  \n",
            "     |  __init__(self, firstweekday=0)\n",
            "     |      Initialize self.  See help(type(self)) for accurate signature.\n",
            "     |  \n",
            "     |  getfirstweekday(self)\n",
            "     |  \n",
            "     |  itermonthdates(self, year, month)\n",
            "     |      Return an iterator for one month. The iterator will yield datetime.date\n",
            "     |      values and will always iterate through complete weeks, so it will yield\n",
            "     |      dates outside the specified month.\n",
            "     |  \n",
            "     |  itermonthdays(self, year, month)\n",
            "     |      Like itermonthdates(), but will yield day numbers. For days outside\n",
            "     |      the specified month the day number is 0.\n",
            "     |  \n",
            "     |  itermonthdays2(self, year, month)\n",
            "     |      Like itermonthdates(), but will yield (day number, weekday number)\n",
            "     |      tuples. For days outside the specified month the day number is 0.\n",
            "     |  \n",
            "     |  itermonthdays3(self, year, month)\n",
            "     |      Like itermonthdates(), but will yield (year, month, day) tuples.  Can be\n",
            "     |      used for dates outside of datetime.date range.\n",
            "     |  \n",
            "     |  itermonthdays4(self, year, month)\n",
            "     |      Like itermonthdates(), but will yield (year, month, day, day_of_week) tuples.\n",
            "     |      Can be used for dates outside of datetime.date range.\n",
            "     |  \n",
            "     |  iterweekdays(self)\n",
            "     |      Return an iterator for one week of weekday numbers starting with the\n",
            "     |      configured first one.\n",
            "     |  \n",
            "     |  monthdatescalendar(self, year, month)\n",
            "     |      Return a matrix (list of lists) representing a month's calendar.\n",
            "     |      Each row represents a week; week entries are datetime.date values.\n",
            "     |  \n",
            "     |  monthdays2calendar(self, year, month)\n",
            "     |      Return a matrix representing a month's calendar.\n",
            "     |      Each row represents a week; week entries are\n",
            "     |      (day number, weekday number) tuples. Day numbers outside this month\n",
            "     |      are zero.\n",
            "     |  \n",
            "     |  monthdayscalendar(self, year, month)\n",
            "     |      Return a matrix representing a month's calendar.\n",
            "     |      Each row represents a week; days outside this month are zero.\n",
            "     |  \n",
            "     |  setfirstweekday(self, firstweekday)\n",
            "     |  \n",
            "     |  yeardatescalendar(self, year, width=3)\n",
            "     |      Return the data for the specified year ready for formatting. The return\n",
            "     |      value is a list of month rows. Each month row contains up to width months.\n",
            "     |      Each month contains between 4 and 6 weeks and each week contains 1-7\n",
            "     |      days. Days are datetime.date objects.\n",
            "     |  \n",
            "     |  yeardays2calendar(self, year, width=3)\n",
            "     |      Return the data for the specified year ready for formatting (similar to\n",
            "     |      yeardatescalendar()). Entries in the week lists are\n",
            "     |      (day number, weekday number) tuples. Day numbers outside this month are\n",
            "     |      zero.\n",
            "     |  \n",
            "     |  yeardayscalendar(self, year, width=3)\n",
            "     |      Return the data for the specified year ready for formatting (similar to\n",
            "     |      yeardatescalendar()). Entries in the week lists are day numbers.\n",
            "     |      Day numbers outside this month are zero.\n",
            "     |  \n",
            "     |  ----------------------------------------------------------------------\n",
            "     |  Data descriptors defined here:\n",
            "     |  \n",
            "     |  __dict__\n",
            "     |      dictionary for instance variables (if defined)\n",
            "     |  \n",
            "     |  __weakref__\n",
            "     |      list of weak references to the object (if defined)\n",
            "     |  \n",
            "     |  firstweekday\n",
            "    \n",
            "    class HTMLCalendar(Calendar)\n",
            "     |  HTMLCalendar(firstweekday=0)\n",
            "     |  \n",
            "     |  This calendar returns complete HTML pages.\n",
            "     |  \n",
            "     |  Method resolution order:\n",
            "     |      HTMLCalendar\n",
            "     |      Calendar\n",
            "     |      builtins.object\n",
            "     |  \n",
            "     |  Methods defined here:\n",
            "     |  \n",
            "     |  formatday(self, day, weekday)\n",
            "     |      Return a day as a table cell.\n",
            "     |  \n",
            "     |  formatmonth(self, theyear, themonth, withyear=True)\n",
            "     |      Return a formatted month as a table.\n",
            "     |  \n",
            "     |  formatmonthname(self, theyear, themonth, withyear=True)\n",
            "     |      Return a month name as a table row.\n",
            "     |  \n",
            "     |  formatweek(self, theweek)\n",
            "     |      Return a complete week as a table row.\n",
            "     |  \n",
            "     |  formatweekday(self, day)\n",
            "     |      Return a weekday name as a table header.\n",
            "     |  \n",
            "     |  formatweekheader(self)\n",
            "     |      Return a header for a week as a table row.\n",
            "     |  \n",
            "     |  formatyear(self, theyear, width=3)\n",
            "     |      Return a formatted year as a table of tables.\n",
            "     |  \n",
            "     |  formatyearpage(self, theyear, width=3, css='calendar.css', encoding=None)\n",
            "     |      Return a formatted year as a complete HTML page.\n",
            "     |  \n",
            "     |  ----------------------------------------------------------------------\n",
            "     |  Data and other attributes defined here:\n",
            "     |  \n",
            "     |  cssclass_month = 'month'\n",
            "     |  \n",
            "     |  cssclass_month_head = 'month'\n",
            "     |  \n",
            "     |  cssclass_noday = 'noday'\n",
            "     |  \n",
            "     |  cssclass_year = 'year'\n",
            "     |  \n",
            "     |  cssclass_year_head = 'year'\n",
            "     |  \n",
            "     |  cssclasses = ['mon', 'tue', 'wed', 'thu', 'fri', 'sat', 'sun']\n",
            "     |  \n",
            "     |  cssclasses_weekday_head = ['mon', 'tue', 'wed', 'thu', 'fri', 'sat', '...\n",
            "     |  \n",
            "     |  ----------------------------------------------------------------------\n",
            "     |  Methods inherited from Calendar:\n",
            "     |  \n",
            "     |  __init__(self, firstweekday=0)\n",
            "     |      Initialize self.  See help(type(self)) for accurate signature.\n",
            "     |  \n",
            "     |  getfirstweekday(self)\n",
            "     |  \n",
            "     |  itermonthdates(self, year, month)\n",
            "     |      Return an iterator for one month. The iterator will yield datetime.date\n",
            "     |      values and will always iterate through complete weeks, so it will yield\n",
            "     |      dates outside the specified month.\n",
            "     |  \n",
            "     |  itermonthdays(self, year, month)\n",
            "     |      Like itermonthdates(), but will yield day numbers. For days outside\n",
            "     |      the specified month the day number is 0.\n",
            "     |  \n",
            "     |  itermonthdays2(self, year, month)\n",
            "     |      Like itermonthdates(), but will yield (day number, weekday number)\n",
            "     |      tuples. For days outside the specified month the day number is 0.\n",
            "     |  \n",
            "     |  itermonthdays3(self, year, month)\n",
            "     |      Like itermonthdates(), but will yield (year, month, day) tuples.  Can be\n",
            "     |      used for dates outside of datetime.date range.\n",
            "     |  \n",
            "     |  itermonthdays4(self, year, month)\n",
            "     |      Like itermonthdates(), but will yield (year, month, day, day_of_week) tuples.\n",
            "     |      Can be used for dates outside of datetime.date range.\n",
            "     |  \n",
            "     |  iterweekdays(self)\n",
            "     |      Return an iterator for one week of weekday numbers starting with the\n",
            "     |      configured first one.\n",
            "     |  \n",
            "     |  monthdatescalendar(self, year, month)\n",
            "     |      Return a matrix (list of lists) representing a month's calendar.\n",
            "     |      Each row represents a week; week entries are datetime.date values.\n",
            "     |  \n",
            "     |  monthdays2calendar(self, year, month)\n",
            "     |      Return a matrix representing a month's calendar.\n",
            "     |      Each row represents a week; week entries are\n",
            "     |      (day number, weekday number) tuples. Day numbers outside this month\n",
            "     |      are zero.\n",
            "     |  \n",
            "     |  monthdayscalendar(self, year, month)\n",
            "     |      Return a matrix representing a month's calendar.\n",
            "     |      Each row represents a week; days outside this month are zero.\n",
            "     |  \n",
            "     |  setfirstweekday(self, firstweekday)\n",
            "     |  \n",
            "     |  yeardatescalendar(self, year, width=3)\n",
            "     |      Return the data for the specified year ready for formatting. The return\n",
            "     |      value is a list of month rows. Each month row contains up to width months.\n",
            "     |      Each month contains between 4 and 6 weeks and each week contains 1-7\n",
            "     |      days. Days are datetime.date objects.\n",
            "     |  \n",
            "     |  yeardays2calendar(self, year, width=3)\n",
            "     |      Return the data for the specified year ready for formatting (similar to\n",
            "     |      yeardatescalendar()). Entries in the week lists are\n",
            "     |      (day number, weekday number) tuples. Day numbers outside this month are\n",
            "     |      zero.\n",
            "     |  \n",
            "     |  yeardayscalendar(self, year, width=3)\n",
            "     |      Return the data for the specified year ready for formatting (similar to\n",
            "     |      yeardatescalendar()). Entries in the week lists are day numbers.\n",
            "     |      Day numbers outside this month are zero.\n",
            "     |  \n",
            "     |  ----------------------------------------------------------------------\n",
            "     |  Data descriptors inherited from Calendar:\n",
            "     |  \n",
            "     |  __dict__\n",
            "     |      dictionary for instance variables (if defined)\n",
            "     |  \n",
            "     |  __weakref__\n",
            "     |      list of weak references to the object (if defined)\n",
            "     |  \n",
            "     |  firstweekday\n",
            "    \n",
            "    class IllegalMonthError(builtins.ValueError)\n",
            "     |  IllegalMonthError(month)\n",
            "     |  \n",
            "     |  # Exceptions raised for bad input\n",
            "     |  \n",
            "     |  Method resolution order:\n",
            "     |      IllegalMonthError\n",
            "     |      builtins.ValueError\n",
            "     |      builtins.Exception\n",
            "     |      builtins.BaseException\n",
            "     |      builtins.object\n",
            "     |  \n",
            "     |  Methods defined here:\n",
            "     |  \n",
            "     |  __init__(self, month)\n",
            "     |      Initialize self.  See help(type(self)) for accurate signature.\n",
            "     |  \n",
            "     |  __str__(self)\n",
            "     |      Return str(self).\n",
            "     |  \n",
            "     |  ----------------------------------------------------------------------\n",
            "     |  Data descriptors defined here:\n",
            "     |  \n",
            "     |  __weakref__\n",
            "     |      list of weak references to the object (if defined)\n",
            "     |  \n",
            "     |  ----------------------------------------------------------------------\n",
            "     |  Static methods inherited from builtins.ValueError:\n",
            "     |  \n",
            "     |  __new__(*args, **kwargs) from builtins.type\n",
            "     |      Create and return a new object.  See help(type) for accurate signature.\n",
            "     |  \n",
            "     |  ----------------------------------------------------------------------\n",
            "     |  Methods inherited from builtins.BaseException:\n",
            "     |  \n",
            "     |  __delattr__(self, name, /)\n",
            "     |      Implement delattr(self, name).\n",
            "     |  \n",
            "     |  __getattribute__(self, name, /)\n",
            "     |      Return getattr(self, name).\n",
            "     |  \n",
            "     |  __reduce__(...)\n",
            "     |      Helper for pickle.\n",
            "     |  \n",
            "     |  __repr__(self, /)\n",
            "     |      Return repr(self).\n",
            "     |  \n",
            "     |  __setattr__(self, name, value, /)\n",
            "     |      Implement setattr(self, name, value).\n",
            "     |  \n",
            "     |  __setstate__(...)\n",
            "     |  \n",
            "     |  with_traceback(...)\n",
            "     |      Exception.with_traceback(tb) --\n",
            "     |      set self.__traceback__ to tb and return self.\n",
            "     |  \n",
            "     |  ----------------------------------------------------------------------\n",
            "     |  Data descriptors inherited from builtins.BaseException:\n",
            "     |  \n",
            "     |  __cause__\n",
            "     |      exception cause\n",
            "     |  \n",
            "     |  __context__\n",
            "     |      exception context\n",
            "     |  \n",
            "     |  __dict__\n",
            "     |  \n",
            "     |  __suppress_context__\n",
            "     |  \n",
            "     |  __traceback__\n",
            "     |  \n",
            "     |  args\n",
            "    \n",
            "    class IllegalWeekdayError(builtins.ValueError)\n",
            "     |  IllegalWeekdayError(weekday)\n",
            "     |  \n",
            "     |  Method resolution order:\n",
            "     |      IllegalWeekdayError\n",
            "     |      builtins.ValueError\n",
            "     |      builtins.Exception\n",
            "     |      builtins.BaseException\n",
            "     |      builtins.object\n",
            "     |  \n",
            "     |  Methods defined here:\n",
            "     |  \n",
            "     |  __init__(self, weekday)\n",
            "     |      Initialize self.  See help(type(self)) for accurate signature.\n",
            "     |  \n",
            "     |  __str__(self)\n",
            "     |      Return str(self).\n",
            "     |  \n",
            "     |  ----------------------------------------------------------------------\n",
            "     |  Data descriptors defined here:\n",
            "     |  \n",
            "     |  __weakref__\n",
            "     |      list of weak references to the object (if defined)\n",
            "     |  \n",
            "     |  ----------------------------------------------------------------------\n",
            "     |  Static methods inherited from builtins.ValueError:\n",
            "     |  \n",
            "     |  __new__(*args, **kwargs) from builtins.type\n",
            "     |      Create and return a new object.  See help(type) for accurate signature.\n",
            "     |  \n",
            "     |  ----------------------------------------------------------------------\n",
            "     |  Methods inherited from builtins.BaseException:\n",
            "     |  \n",
            "     |  __delattr__(self, name, /)\n",
            "     |      Implement delattr(self, name).\n",
            "     |  \n",
            "     |  __getattribute__(self, name, /)\n",
            "     |      Return getattr(self, name).\n",
            "     |  \n",
            "     |  __reduce__(...)\n",
            "     |      Helper for pickle.\n",
            "     |  \n",
            "     |  __repr__(self, /)\n",
            "     |      Return repr(self).\n",
            "     |  \n",
            "     |  __setattr__(self, name, value, /)\n",
            "     |      Implement setattr(self, name, value).\n",
            "     |  \n",
            "     |  __setstate__(...)\n",
            "     |  \n",
            "     |  with_traceback(...)\n",
            "     |      Exception.with_traceback(tb) --\n",
            "     |      set self.__traceback__ to tb and return self.\n",
            "     |  \n",
            "     |  ----------------------------------------------------------------------\n",
            "     |  Data descriptors inherited from builtins.BaseException:\n",
            "     |  \n",
            "     |  __cause__\n",
            "     |      exception cause\n",
            "     |  \n",
            "     |  __context__\n",
            "     |      exception context\n",
            "     |  \n",
            "     |  __dict__\n",
            "     |  \n",
            "     |  __suppress_context__\n",
            "     |  \n",
            "     |  __traceback__\n",
            "     |  \n",
            "     |  args\n",
            "    \n",
            "    class LocaleHTMLCalendar(HTMLCalendar)\n",
            "     |  LocaleHTMLCalendar(firstweekday=0, locale=None)\n",
            "     |  \n",
            "     |  This class can be passed a locale name in the constructor and will return\n",
            "     |  month and weekday names in the specified locale. If this locale includes\n",
            "     |  an encoding all strings containing month and weekday names will be returned\n",
            "     |  as unicode.\n",
            "     |  \n",
            "     |  Method resolution order:\n",
            "     |      LocaleHTMLCalendar\n",
            "     |      HTMLCalendar\n",
            "     |      Calendar\n",
            "     |      builtins.object\n",
            "     |  \n",
            "     |  Methods defined here:\n",
            "     |  \n",
            "     |  __init__(self, firstweekday=0, locale=None)\n",
            "     |      Initialize self.  See help(type(self)) for accurate signature.\n",
            "     |  \n",
            "     |  formatmonthname(self, theyear, themonth, withyear=True)\n",
            "     |      Return a month name as a table row.\n",
            "     |  \n",
            "     |  formatweekday(self, day)\n",
            "     |      Return a weekday name as a table header.\n",
            "     |  \n",
            "     |  ----------------------------------------------------------------------\n",
            "     |  Methods inherited from HTMLCalendar:\n",
            "     |  \n",
            "     |  formatday(self, day, weekday)\n",
            "     |      Return a day as a table cell.\n",
            "     |  \n",
            "     |  formatmonth(self, theyear, themonth, withyear=True)\n",
            "     |      Return a formatted month as a table.\n",
            "     |  \n",
            "     |  formatweek(self, theweek)\n",
            "     |      Return a complete week as a table row.\n",
            "     |  \n",
            "     |  formatweekheader(self)\n",
            "     |      Return a header for a week as a table row.\n",
            "     |  \n",
            "     |  formatyear(self, theyear, width=3)\n",
            "     |      Return a formatted year as a table of tables.\n",
            "     |  \n",
            "     |  formatyearpage(self, theyear, width=3, css='calendar.css', encoding=None)\n",
            "     |      Return a formatted year as a complete HTML page.\n",
            "     |  \n",
            "     |  ----------------------------------------------------------------------\n",
            "     |  Data and other attributes inherited from HTMLCalendar:\n",
            "     |  \n",
            "     |  cssclass_month = 'month'\n",
            "     |  \n",
            "     |  cssclass_month_head = 'month'\n",
            "     |  \n",
            "     |  cssclass_noday = 'noday'\n",
            "     |  \n",
            "     |  cssclass_year = 'year'\n",
            "     |  \n",
            "     |  cssclass_year_head = 'year'\n",
            "     |  \n",
            "     |  cssclasses = ['mon', 'tue', 'wed', 'thu', 'fri', 'sat', 'sun']\n",
            "     |  \n",
            "     |  cssclasses_weekday_head = ['mon', 'tue', 'wed', 'thu', 'fri', 'sat', '...\n",
            "     |  \n",
            "     |  ----------------------------------------------------------------------\n",
            "     |  Methods inherited from Calendar:\n",
            "     |  \n",
            "     |  getfirstweekday(self)\n",
            "     |  \n",
            "     |  itermonthdates(self, year, month)\n",
            "     |      Return an iterator for one month. The iterator will yield datetime.date\n",
            "     |      values and will always iterate through complete weeks, so it will yield\n",
            "     |      dates outside the specified month.\n",
            "     |  \n",
            "     |  itermonthdays(self, year, month)\n",
            "     |      Like itermonthdates(), but will yield day numbers. For days outside\n",
            "     |      the specified month the day number is 0.\n",
            "     |  \n",
            "     |  itermonthdays2(self, year, month)\n",
            "     |      Like itermonthdates(), but will yield (day number, weekday number)\n",
            "     |      tuples. For days outside the specified month the day number is 0.\n",
            "     |  \n",
            "     |  itermonthdays3(self, year, month)\n",
            "     |      Like itermonthdates(), but will yield (year, month, day) tuples.  Can be\n",
            "     |      used for dates outside of datetime.date range.\n",
            "     |  \n",
            "     |  itermonthdays4(self, year, month)\n",
            "     |      Like itermonthdates(), but will yield (year, month, day, day_of_week) tuples.\n",
            "     |      Can be used for dates outside of datetime.date range.\n",
            "     |  \n",
            "     |  iterweekdays(self)\n",
            "     |      Return an iterator for one week of weekday numbers starting with the\n",
            "     |      configured first one.\n",
            "     |  \n",
            "     |  monthdatescalendar(self, year, month)\n",
            "     |      Return a matrix (list of lists) representing a month's calendar.\n",
            "     |      Each row represents a week; week entries are datetime.date values.\n",
            "     |  \n",
            "     |  monthdays2calendar(self, year, month)\n",
            "     |      Return a matrix representing a month's calendar.\n",
            "     |      Each row represents a week; week entries are\n",
            "     |      (day number, weekday number) tuples. Day numbers outside this month\n",
            "     |      are zero.\n",
            "     |  \n",
            "     |  monthdayscalendar(self, year, month)\n",
            "     |      Return a matrix representing a month's calendar.\n",
            "     |      Each row represents a week; days outside this month are zero.\n",
            "     |  \n",
            "     |  setfirstweekday(self, firstweekday)\n",
            "     |  \n",
            "     |  yeardatescalendar(self, year, width=3)\n",
            "     |      Return the data for the specified year ready for formatting. The return\n",
            "     |      value is a list of month rows. Each month row contains up to width months.\n",
            "     |      Each month contains between 4 and 6 weeks and each week contains 1-7\n",
            "     |      days. Days are datetime.date objects.\n",
            "     |  \n",
            "     |  yeardays2calendar(self, year, width=3)\n",
            "     |      Return the data for the specified year ready for formatting (similar to\n",
            "     |      yeardatescalendar()). Entries in the week lists are\n",
            "     |      (day number, weekday number) tuples. Day numbers outside this month are\n",
            "     |      zero.\n",
            "     |  \n",
            "     |  yeardayscalendar(self, year, width=3)\n",
            "     |      Return the data for the specified year ready for formatting (similar to\n",
            "     |      yeardatescalendar()). Entries in the week lists are day numbers.\n",
            "     |      Day numbers outside this month are zero.\n",
            "     |  \n",
            "     |  ----------------------------------------------------------------------\n",
            "     |  Data descriptors inherited from Calendar:\n",
            "     |  \n",
            "     |  __dict__\n",
            "     |      dictionary for instance variables (if defined)\n",
            "     |  \n",
            "     |  __weakref__\n",
            "     |      list of weak references to the object (if defined)\n",
            "     |  \n",
            "     |  firstweekday\n",
            "    \n",
            "    class LocaleTextCalendar(TextCalendar)\n",
            "     |  LocaleTextCalendar(firstweekday=0, locale=None)\n",
            "     |  \n",
            "     |  This class can be passed a locale name in the constructor and will return\n",
            "     |  month and weekday names in the specified locale. If this locale includes\n",
            "     |  an encoding all strings containing month and weekday names will be returned\n",
            "     |  as unicode.\n",
            "     |  \n",
            "     |  Method resolution order:\n",
            "     |      LocaleTextCalendar\n",
            "     |      TextCalendar\n",
            "     |      Calendar\n",
            "     |      builtins.object\n",
            "     |  \n",
            "     |  Methods defined here:\n",
            "     |  \n",
            "     |  __init__(self, firstweekday=0, locale=None)\n",
            "     |      Initialize self.  See help(type(self)) for accurate signature.\n",
            "     |  \n",
            "     |  formatmonthname(self, theyear, themonth, width, withyear=True)\n",
            "     |      Return a formatted month name.\n",
            "     |  \n",
            "     |  formatweekday(self, day, width)\n",
            "     |      Returns a formatted week day name.\n",
            "     |  \n",
            "     |  ----------------------------------------------------------------------\n",
            "     |  Methods inherited from TextCalendar:\n",
            "     |  \n",
            "     |  formatday(self, day, weekday, width)\n",
            "     |      Returns a formatted day.\n",
            "     |  \n",
            "     |  formatmonth(self, theyear, themonth, w=0, l=0)\n",
            "     |      Return a month's calendar string (multi-line).\n",
            "     |  \n",
            "     |  formatweek(self, theweek, width)\n",
            "     |      Returns a single week in a string (no newline).\n",
            "     |  \n",
            "     |  formatweekheader(self, width)\n",
            "     |      Return a header for a week.\n",
            "     |  \n",
            "     |  formatyear(self, theyear, w=2, l=1, c=6, m=3)\n",
            "     |      Returns a year's calendar as a multi-line string.\n",
            "     |  \n",
            "     |  prmonth(self, theyear, themonth, w=0, l=0)\n",
            "     |      Print a month's calendar.\n",
            "     |  \n",
            "     |  prweek(self, theweek, width)\n",
            "     |      Print a single week (no newline).\n",
            "     |  \n",
            "     |  pryear(self, theyear, w=0, l=0, c=6, m=3)\n",
            "     |      Print a year's calendar.\n",
            "     |  \n",
            "     |  ----------------------------------------------------------------------\n",
            "     |  Methods inherited from Calendar:\n",
            "     |  \n",
            "     |  getfirstweekday(self)\n",
            "     |  \n",
            "     |  itermonthdates(self, year, month)\n",
            "     |      Return an iterator for one month. The iterator will yield datetime.date\n",
            "     |      values and will always iterate through complete weeks, so it will yield\n",
            "     |      dates outside the specified month.\n",
            "     |  \n",
            "     |  itermonthdays(self, year, month)\n",
            "     |      Like itermonthdates(), but will yield day numbers. For days outside\n",
            "     |      the specified month the day number is 0.\n",
            "     |  \n",
            "     |  itermonthdays2(self, year, month)\n",
            "     |      Like itermonthdates(), but will yield (day number, weekday number)\n",
            "     |      tuples. For days outside the specified month the day number is 0.\n",
            "     |  \n",
            "     |  itermonthdays3(self, year, month)\n",
            "     |      Like itermonthdates(), but will yield (year, month, day) tuples.  Can be\n",
            "     |      used for dates outside of datetime.date range.\n",
            "     |  \n",
            "     |  itermonthdays4(self, year, month)\n",
            "     |      Like itermonthdates(), but will yield (year, month, day, day_of_week) tuples.\n",
            "     |      Can be used for dates outside of datetime.date range.\n",
            "     |  \n",
            "     |  iterweekdays(self)\n",
            "     |      Return an iterator for one week of weekday numbers starting with the\n",
            "     |      configured first one.\n",
            "     |  \n",
            "     |  monthdatescalendar(self, year, month)\n",
            "     |      Return a matrix (list of lists) representing a month's calendar.\n",
            "     |      Each row represents a week; week entries are datetime.date values.\n",
            "     |  \n",
            "     |  monthdays2calendar(self, year, month)\n",
            "     |      Return a matrix representing a month's calendar.\n",
            "     |      Each row represents a week; week entries are\n",
            "     |      (day number, weekday number) tuples. Day numbers outside this month\n",
            "     |      are zero.\n",
            "     |  \n",
            "     |  monthdayscalendar(self, year, month)\n",
            "     |      Return a matrix representing a month's calendar.\n",
            "     |      Each row represents a week; days outside this month are zero.\n",
            "     |  \n",
            "     |  setfirstweekday(self, firstweekday)\n",
            "     |  \n",
            "     |  yeardatescalendar(self, year, width=3)\n",
            "     |      Return the data for the specified year ready for formatting. The return\n",
            "     |      value is a list of month rows. Each month row contains up to width months.\n",
            "     |      Each month contains between 4 and 6 weeks and each week contains 1-7\n",
            "     |      days. Days are datetime.date objects.\n",
            "     |  \n",
            "     |  yeardays2calendar(self, year, width=3)\n",
            "     |      Return the data for the specified year ready for formatting (similar to\n",
            "     |      yeardatescalendar()). Entries in the week lists are\n",
            "     |      (day number, weekday number) tuples. Day numbers outside this month are\n",
            "     |      zero.\n",
            "     |  \n",
            "     |  yeardayscalendar(self, year, width=3)\n",
            "     |      Return the data for the specified year ready for formatting (similar to\n",
            "     |      yeardatescalendar()). Entries in the week lists are day numbers.\n",
            "     |      Day numbers outside this month are zero.\n",
            "     |  \n",
            "     |  ----------------------------------------------------------------------\n",
            "     |  Data descriptors inherited from Calendar:\n",
            "     |  \n",
            "     |  __dict__\n",
            "     |      dictionary for instance variables (if defined)\n",
            "     |  \n",
            "     |  __weakref__\n",
            "     |      list of weak references to the object (if defined)\n",
            "     |  \n",
            "     |  firstweekday\n",
            "    \n",
            "    class TextCalendar(Calendar)\n",
            "     |  TextCalendar(firstweekday=0)\n",
            "     |  \n",
            "     |  Subclass of Calendar that outputs a calendar as a simple plain text\n",
            "     |  similar to the UNIX program cal.\n",
            "     |  \n",
            "     |  Method resolution order:\n",
            "     |      TextCalendar\n",
            "     |      Calendar\n",
            "     |      builtins.object\n",
            "     |  \n",
            "     |  Methods defined here:\n",
            "     |  \n",
            "     |  formatday(self, day, weekday, width)\n",
            "     |      Returns a formatted day.\n",
            "     |  \n",
            "     |  formatmonth(self, theyear, themonth, w=0, l=0)\n",
            "     |      Return a month's calendar string (multi-line).\n",
            "     |  \n",
            "     |  formatmonthname(self, theyear, themonth, width, withyear=True)\n",
            "     |      Return a formatted month name.\n",
            "     |  \n",
            "     |  formatweek(self, theweek, width)\n",
            "     |      Returns a single week in a string (no newline).\n",
            "     |  \n",
            "     |  formatweekday(self, day, width)\n",
            "     |      Returns a formatted week day name.\n",
            "     |  \n",
            "     |  formatweekheader(self, width)\n",
            "     |      Return a header for a week.\n",
            "     |  \n",
            "     |  formatyear(self, theyear, w=2, l=1, c=6, m=3)\n",
            "     |      Returns a year's calendar as a multi-line string.\n",
            "     |  \n",
            "     |  prmonth(self, theyear, themonth, w=0, l=0)\n",
            "     |      Print a month's calendar.\n",
            "     |  \n",
            "     |  prweek(self, theweek, width)\n",
            "     |      Print a single week (no newline).\n",
            "     |  \n",
            "     |  pryear(self, theyear, w=0, l=0, c=6, m=3)\n",
            "     |      Print a year's calendar.\n",
            "     |  \n",
            "     |  ----------------------------------------------------------------------\n",
            "     |  Methods inherited from Calendar:\n",
            "     |  \n",
            "     |  __init__(self, firstweekday=0)\n",
            "     |      Initialize self.  See help(type(self)) for accurate signature.\n",
            "     |  \n",
            "     |  getfirstweekday(self)\n",
            "     |  \n",
            "     |  itermonthdates(self, year, month)\n",
            "     |      Return an iterator for one month. The iterator will yield datetime.date\n",
            "     |      values and will always iterate through complete weeks, so it will yield\n",
            "     |      dates outside the specified month.\n",
            "     |  \n",
            "     |  itermonthdays(self, year, month)\n",
            "     |      Like itermonthdates(), but will yield day numbers. For days outside\n",
            "     |      the specified month the day number is 0.\n",
            "     |  \n",
            "     |  itermonthdays2(self, year, month)\n",
            "     |      Like itermonthdates(), but will yield (day number, weekday number)\n",
            "     |      tuples. For days outside the specified month the day number is 0.\n",
            "     |  \n",
            "     |  itermonthdays3(self, year, month)\n",
            "     |      Like itermonthdates(), but will yield (year, month, day) tuples.  Can be\n",
            "     |      used for dates outside of datetime.date range.\n",
            "     |  \n",
            "     |  itermonthdays4(self, year, month)\n",
            "     |      Like itermonthdates(), but will yield (year, month, day, day_of_week) tuples.\n",
            "     |      Can be used for dates outside of datetime.date range.\n",
            "     |  \n",
            "     |  iterweekdays(self)\n",
            "     |      Return an iterator for one week of weekday numbers starting with the\n",
            "     |      configured first one.\n",
            "     |  \n",
            "     |  monthdatescalendar(self, year, month)\n",
            "     |      Return a matrix (list of lists) representing a month's calendar.\n",
            "     |      Each row represents a week; week entries are datetime.date values.\n",
            "     |  \n",
            "     |  monthdays2calendar(self, year, month)\n",
            "     |      Return a matrix representing a month's calendar.\n",
            "     |      Each row represents a week; week entries are\n",
            "     |      (day number, weekday number) tuples. Day numbers outside this month\n",
            "     |      are zero.\n",
            "     |  \n",
            "     |  monthdayscalendar(self, year, month)\n",
            "     |      Return a matrix representing a month's calendar.\n",
            "     |      Each row represents a week; days outside this month are zero.\n",
            "     |  \n",
            "     |  setfirstweekday(self, firstweekday)\n",
            "     |  \n",
            "     |  yeardatescalendar(self, year, width=3)\n",
            "     |      Return the data for the specified year ready for formatting. The return\n",
            "     |      value is a list of month rows. Each month row contains up to width months.\n",
            "     |      Each month contains between 4 and 6 weeks and each week contains 1-7\n",
            "     |      days. Days are datetime.date objects.\n",
            "     |  \n",
            "     |  yeardays2calendar(self, year, width=3)\n",
            "     |      Return the data for the specified year ready for formatting (similar to\n",
            "     |      yeardatescalendar()). Entries in the week lists are\n",
            "     |      (day number, weekday number) tuples. Day numbers outside this month are\n",
            "     |      zero.\n",
            "     |  \n",
            "     |  yeardayscalendar(self, year, width=3)\n",
            "     |      Return the data for the specified year ready for formatting (similar to\n",
            "     |      yeardatescalendar()). Entries in the week lists are day numbers.\n",
            "     |      Day numbers outside this month are zero.\n",
            "     |  \n",
            "     |  ----------------------------------------------------------------------\n",
            "     |  Data descriptors inherited from Calendar:\n",
            "     |  \n",
            "     |  __dict__\n",
            "     |      dictionary for instance variables (if defined)\n",
            "     |  \n",
            "     |  __weakref__\n",
            "     |      list of weak references to the object (if defined)\n",
            "     |  \n",
            "     |  firstweekday\n",
            "\n",
            "FUNCTIONS\n",
            "    calendar = formatyear(theyear, w=2, l=1, c=6, m=3) method of TextCalendar instance\n",
            "        Returns a year's calendar as a multi-line string.\n",
            "    \n",
            "    firstweekday = getfirstweekday() method of TextCalendar instance\n",
            "    \n",
            "    isleap(year)\n",
            "        Return True for leap years, False for non-leap years.\n",
            "    \n",
            "    leapdays(y1, y2)\n",
            "        Return number of leap years in range [y1, y2).\n",
            "        Assume y1 <= y2.\n",
            "    \n",
            "    month = formatmonth(theyear, themonth, w=0, l=0) method of TextCalendar instance\n",
            "        Return a month's calendar string (multi-line).\n",
            "    \n",
            "    monthcalendar = monthdayscalendar(year, month) method of TextCalendar instance\n",
            "        Return a matrix representing a month's calendar.\n",
            "        Each row represents a week; days outside this month are zero.\n",
            "    \n",
            "    monthrange(year, month)\n",
            "        Return weekday (0-6 ~ Mon-Sun) and number of days (28-31) for\n",
            "        year, month.\n",
            "    \n",
            "    prcal = pryear(theyear, w=0, l=0, c=6, m=3) method of TextCalendar instance\n",
            "        Print a year's calendar.\n",
            "    \n",
            "    prmonth(theyear, themonth, w=0, l=0) method of TextCalendar instance\n",
            "        Print a month's calendar.\n",
            "    \n",
            "    setfirstweekday(firstweekday)\n",
            "    \n",
            "    timegm(tuple)\n",
            "        Unrelated but handy function to calculate Unix timestamp from GMT.\n",
            "    \n",
            "    weekday(year, month, day)\n",
            "        Return weekday (0-6 ~ Mon-Sun) for year, month (1-12), day (1-31).\n",
            "    \n",
            "    weekheader = formatweekheader(width) method of TextCalendar instance\n",
            "        Return a header for a week.\n",
            "\n",
            "DATA\n",
            "    __all__ = ['IllegalMonthError', 'IllegalWeekdayError', 'setfirstweekda...\n",
            "    day_abbr = <calendar._localized_day object>\n",
            "    day_name = <calendar._localized_day object>\n",
            "    month_abbr = <calendar._localized_month object>\n",
            "    month_name = <calendar._localized_month object>\n",
            "\n",
            "FILE\n",
            "    c:\\users\\user\\anaconda3\\lib\\calendar.py\n",
            "\n",
            "\n"
          ]
        }
      ],
      "source": [
        "help(calendar)"
      ]
    },
    {
      "cell_type": "code",
      "execution_count": null,
      "id": "da8d366f",
      "metadata": {
        "id": "da8d366f",
        "outputId": "26c9fa89-a3ee-4966-c285-49e38e9ba09b",
        "colab": {
          "base_uri": "https://localhost:8080/"
        }
      },
      "outputs": [
        {
          "output_type": "stream",
          "name": "stdout",
          "text": [
            "   December 2027\n",
            "Mo Tu We Th Fr Sa Su\n",
            "       1  2  3  4  5\n",
            " 6  7  8  9 10 11 12\n",
            "13 14 15 16 17 18 19\n",
            "20 21 22 23 24 25 26\n",
            "27 28 29 30 31\n",
            "\n"
          ]
        }
      ],
      "source": [
        "import calendar\n",
        "\n",
        "year = 2027\n",
        "month = 12\n",
        "\n",
        "#displaying the calendar\n",
        "print(calendar.month(year, month))"
      ]
    },
    {
      "cell_type": "code",
      "execution_count": null,
      "id": "7953a6ec",
      "metadata": {
        "id": "7953a6ec",
        "outputId": "bee2bfa5-d95c-4b45-8297-73951e54a7f4",
        "colab": {
          "base_uri": "https://localhost:8080/"
        }
      },
      "outputs": [
        {
          "output_type": "stream",
          "name": "stdout",
          "text": [
            "                                  2030\n",
            "\n",
            "      January                   February                   March\n",
            "Mo Tu We Th Fr Sa Su      Mo Tu We Th Fr Sa Su      Mo Tu We Th Fr Sa Su\n",
            "    1  2  3  4  5  6                   1  2  3                   1  2  3\n",
            " 7  8  9 10 11 12 13       4  5  6  7  8  9 10       4  5  6  7  8  9 10\n",
            "14 15 16 17 18 19 20      11 12 13 14 15 16 17      11 12 13 14 15 16 17\n",
            "21 22 23 24 25 26 27      18 19 20 21 22 23 24      18 19 20 21 22 23 24\n",
            "28 29 30 31               25 26 27 28               25 26 27 28 29 30 31\n",
            "\n",
            "       April                      May                       June\n",
            "Mo Tu We Th Fr Sa Su      Mo Tu We Th Fr Sa Su      Mo Tu We Th Fr Sa Su\n",
            " 1  2  3  4  5  6  7             1  2  3  4  5                      1  2\n",
            " 8  9 10 11 12 13 14       6  7  8  9 10 11 12       3  4  5  6  7  8  9\n",
            "15 16 17 18 19 20 21      13 14 15 16 17 18 19      10 11 12 13 14 15 16\n",
            "22 23 24 25 26 27 28      20 21 22 23 24 25 26      17 18 19 20 21 22 23\n",
            "29 30                     27 28 29 30 31            24 25 26 27 28 29 30\n",
            "\n",
            "        July                     August                  September\n",
            "Mo Tu We Th Fr Sa Su      Mo Tu We Th Fr Sa Su      Mo Tu We Th Fr Sa Su\n",
            " 1  2  3  4  5  6  7                1  2  3  4                         1\n",
            " 8  9 10 11 12 13 14       5  6  7  8  9 10 11       2  3  4  5  6  7  8\n",
            "15 16 17 18 19 20 21      12 13 14 15 16 17 18       9 10 11 12 13 14 15\n",
            "22 23 24 25 26 27 28      19 20 21 22 23 24 25      16 17 18 19 20 21 22\n",
            "29 30 31                  26 27 28 29 30 31         23 24 25 26 27 28 29\n",
            "                                                    30\n",
            "\n",
            "      October                   November                  December\n",
            "Mo Tu We Th Fr Sa Su      Mo Tu We Th Fr Sa Su      Mo Tu We Th Fr Sa Su\n",
            "    1  2  3  4  5  6                   1  2  3                         1\n",
            " 7  8  9 10 11 12 13       4  5  6  7  8  9 10       2  3  4  5  6  7  8\n",
            "14 15 16 17 18 19 20      11 12 13 14 15 16 17       9 10 11 12 13 14 15\n",
            "21 22 23 24 25 26 27      18 19 20 21 22 23 24      16 17 18 19 20 21 22\n",
            "28 29 30 31               25 26 27 28 29 30         23 24 25 26 27 28 29\n",
            "                                                    30 31\n",
            "\n"
          ]
        }
      ],
      "source": [
        "#to display the calendar for the entire year\n",
        "from calendar import *\n",
        "year = 2030\n",
        "\n",
        "print(calendar(year))"
      ]
    },
    {
      "cell_type": "code",
      "execution_count": null,
      "id": "a06d4f01",
      "metadata": {
        "id": "a06d4f01",
        "outputId": "7b395a13-d9bf-4b14-e151-98c58760f410"
      },
      "outputs": [
        {
          "name": "stdout",
          "output_type": "stream",
          "text": [
            "                                             2024\n",
            "\n",
            "          January                          February                          March\n",
            "Mon Tue Wed Thu Fri Sat Sun      Mon Tue Wed Thu Fri Sat Sun      Mon Tue Wed Thu Fri Sat Sun\n",
            "  1   2   3   4   5   6   7                    1   2   3   4                        1   2   3\n",
            "  8   9  10  11  12  13  14        5   6   7   8   9  10  11        4   5   6   7   8   9  10\n",
            " 15  16  17  18  19  20  21       12  13  14  15  16  17  18       11  12  13  14  15  16  17\n",
            " 22  23  24  25  26  27  28       19  20  21  22  23  24  25       18  19  20  21  22  23  24\n",
            " 29  30  31                       26  27  28  29                   25  26  27  28  29  30  31\n",
            "\n",
            "           April                             May                              June\n",
            "Mon Tue Wed Thu Fri Sat Sun      Mon Tue Wed Thu Fri Sat Sun      Mon Tue Wed Thu Fri Sat Sun\n",
            "  1   2   3   4   5   6   7                1   2   3   4   5                            1   2\n",
            "  8   9  10  11  12  13  14        6   7   8   9  10  11  12        3   4   5   6   7   8   9\n",
            " 15  16  17  18  19  20  21       13  14  15  16  17  18  19       10  11  12  13  14  15  16\n",
            " 22  23  24  25  26  27  28       20  21  22  23  24  25  26       17  18  19  20  21  22  23\n",
            " 29  30                           27  28  29  30  31               24  25  26  27  28  29  30\n",
            "\n",
            "            July                            August                         September\n",
            "Mon Tue Wed Thu Fri Sat Sun      Mon Tue Wed Thu Fri Sat Sun      Mon Tue Wed Thu Fri Sat Sun\n",
            "  1   2   3   4   5   6   7                    1   2   3   4                                1\n",
            "  8   9  10  11  12  13  14        5   6   7   8   9  10  11        2   3   4   5   6   7   8\n",
            " 15  16  17  18  19  20  21       12  13  14  15  16  17  18        9  10  11  12  13  14  15\n",
            " 22  23  24  25  26  27  28       19  20  21  22  23  24  25       16  17  18  19  20  21  22\n",
            " 29  30  31                       26  27  28  29  30  31           23  24  25  26  27  28  29\n",
            "                                                                   30\n",
            "\n",
            "          October                          November                         December\n",
            "Mon Tue Wed Thu Fri Sat Sun      Mon Tue Wed Thu Fri Sat Sun      Mon Tue Wed Thu Fri Sat Sun\n",
            "      1   2   3   4   5   6                        1   2   3                                1\n",
            "  7   8   9  10  11  12  13        4   5   6   7   8   9  10        2   3   4   5   6   7   8\n",
            " 14  15  16  17  18  19  20       11  12  13  14  15  16  17        9  10  11  12  13  14  15\n",
            " 21  22  23  24  25  26  27       18  19  20  21  22  23  24       16  17  18  19  20  21  22\n",
            " 28  29  30  31                   25  26  27  28  29  30           23  24  25  26  27  28  29\n",
            "                                                                   30  31\n",
            "\n"
          ]
        }
      ],
      "source": [
        "#operation 1 - calendar(year, w, l, c)\n",
        "#displays the year, width of characters, number of lines per week and column seperators\n",
        "\n",
        "import calendar\n",
        "print(calendar.calendar(2024, 3,1,6))"
      ]
    },
    {
      "cell_type": "code",
      "execution_count": null,
      "id": "41af7f7e",
      "metadata": {
        "id": "41af7f7e",
        "outputId": "a3f82686-95cb-4d60-edaf-9ea05ff14044"
      },
      "outputs": [
        {
          "data": {
            "text/plain": [
              "False"
            ]
          },
          "execution_count": 44,
          "metadata": {},
          "output_type": "execute_result"
        }
      ],
      "source": [
        "#operation 2 - isleap()\n",
        "calendar.isleap(2098)"
      ]
    },
    {
      "cell_type": "code",
      "execution_count": null,
      "id": "18c7d7d0",
      "metadata": {
        "id": "18c7d7d0",
        "outputId": "19791370-7843-401e-d035-3e4eb1d55084"
      },
      "outputs": [
        {
          "name": "stdout",
          "output_type": "stream",
          "text": [
            "          May 2034\n",
            "Mon Tue Wed Thu Fri Sat Sun\n",
            "  1   2   3   4   5   6   7\n",
            "  8   9  10  11  12  13  14\n",
            " 15  16  17  18  19  20  21\n",
            " 22  23  24  25  26  27  28\n",
            " 29  30  31\n",
            "\n"
          ]
        }
      ],
      "source": [
        "#operation 3 - month(year, month, w, l)\n",
        "\n",
        "import calendar\n",
        "print(calendar.month(2034, 5, 3, 1))"
      ]
    },
    {
      "cell_type": "markdown",
      "id": "4a0fd81f",
      "metadata": {
        "id": "4a0fd81f"
      },
      "source": [
        "Sometimes, you don’t want to import the entire module. Instead, you might want to import just a specific function or variable. You can do this by specifying the function or variable after the from keyword. Example:\n",
        "\n",
        "`from math import sqrt`\n",
        "\n",
        "Here, we import only the sqrt function from the math module. Now we can use sqrt() directly without needing to type math.sqrt().\n",
        "\n",
        "**Renaming a Module:**\n",
        "\n",
        "You can give a module or function a short alias to make it easier to work with, especially if the module name is long."
      ]
    },
    {
      "cell_type": "code",
      "execution_count": null,
      "id": "9cad8749",
      "metadata": {
        "id": "9cad8749",
        "outputId": "d91bfd1e-3a0c-46c2-b748-f1b19fdffedf"
      },
      "outputs": [
        {
          "name": "stdout",
          "output_type": "stream",
          "text": [
            "3.141592653589793\n"
          ]
        }
      ],
      "source": [
        "import math as m # rename the module to \"m\"\n",
        "\n",
        "result = m.pi\n",
        "print(result)"
      ]
    },
    {
      "cell_type": "markdown",
      "id": "72afe0bc",
      "metadata": {
        "id": "72afe0bc"
      },
      "source": [
        "## Task\n",
        "\n",
        "An app that allows you check if a number is a prime number or armstrong.\n",
        "\n",
        "\n",
        "### The logic behind the prime number\n",
        "\n",
        "Prime numbers are positive integers. It is divisible by only one and itself, every other number always returns a remainder. Also, 1 is not considered a prime number\n",
        "\n",
        "\n",
        "\n",
        "### Logic of armstrong number\n",
        "\n",
        "It is a number that is the sum of its own digits(which has each been raised to the power of the number of digits)\n",
        "\n",
        "`153 is an armstrong number because 1^3 + 5^3 + 3^3 = 153`\n",
        "\n",
        "So to write the logic/function:\n",
        "\n",
        "1. We need to be able to access the len of the integer value or the count of the number of integers\n",
        "2. Next, we need to extract each digit and raise it the power of the count of the digits and sum them\n",
        "3. When this is done, we now compare this number with the input\n",
        "\n",
        "`153 -> 153%10 = 15 rem 3`\n",
        "\n",
        "`15  -> 15%10 = 1 rem 5`\n",
        "\n",
        "`1   -> 1%10 = 0 rem 1`"
      ]
    },
    {
      "cell_type": "code",
      "execution_count": null,
      "id": "1e7a21da",
      "metadata": {
        "id": "1e7a21da",
        "outputId": "6fbd6aae-01f1-4e58-dfbd-0bebb91ff306"
      },
      "outputs": [
        {
          "name": "stdout",
          "output_type": "stream",
          "text": [
            "531\n",
            "Prime\n"
          ]
        }
      ],
      "source": [
        "#attempt for the prime number\n",
        "user_input = int(input())\n",
        "\n",
        "def is_prime(num):\n",
        "    if num<=1:\n",
        "        return False\n",
        "\n",
        "    #moving on\n",
        "    for i in range(2, int(num**0.5)+1):  #range starts from 2 (inclusive) to the last number(exclusive)\n",
        "        if num%i==0:  #this means it has a divisor\n",
        "            return 'Not prime'\n",
        "        return 'Prime'\n",
        "print(is_prime(user_input))"
      ]
    },
    {
      "cell_type": "code",
      "execution_count": null,
      "id": "3ab6c4a0",
      "metadata": {
        "id": "3ab6c4a0",
        "outputId": "2da24253-6977-41d2-d3ac-8903e3bbc492"
      },
      "outputs": [
        {
          "data": {
            "text/plain": [
              "4"
            ]
          },
          "execution_count": 12,
          "metadata": {},
          "output_type": "execute_result"
        }
      ],
      "source": [
        "check = int(len(str(1234)))\n",
        "check"
      ]
    },
    {
      "cell_type": "code",
      "execution_count": null,
      "id": "146e0c2f",
      "metadata": {
        "id": "146e0c2f",
        "outputId": "4a90f81f-7e23-41d7-bc7a-48c02bbe7de0"
      },
      "outputs": [
        {
          "data": {
            "text/plain": [
              "int"
            ]
          },
          "execution_count": 13,
          "metadata": {},
          "output_type": "execute_result"
        }
      ],
      "source": [
        "type(check)"
      ]
    },
    {
      "cell_type": "code",
      "execution_count": null,
      "id": "0b62078a",
      "metadata": {
        "id": "0b62078a",
        "outputId": "0782372f-be39-4ec9-a6ed-a01c5925f429"
      },
      "outputs": [
        {
          "name": "stdout",
          "output_type": "stream",
          "text": [
            "Armstrong!\n"
          ]
        }
      ],
      "source": [
        "#attempt for armstrong number\n",
        "def is_armstrong(num):\n",
        "    count_digits = int(len(str(num)))\n",
        "\n",
        "    temp = num #creating a temp variable to avoid modifying the original input\n",
        "\n",
        "    sum = 0\n",
        "\n",
        "    while temp!=0:\n",
        "        rem = temp%10\n",
        "        temp = temp//10\n",
        "        sum += rem ** count_digits\n",
        "\n",
        "    if sum == num:\n",
        "        return ('Armstrong!')\n",
        "\n",
        "check = is_armstrong(1634)\n",
        "print(check)\n"
      ]
    },
    {
      "cell_type": "code",
      "execution_count": null,
      "id": "a5a056a2",
      "metadata": {
        "id": "a5a056a2",
        "outputId": "220a343b-ab56-466c-c1a9-082de72df1dc"
      },
      "outputs": [
        {
          "name": "stdout",
          "output_type": "stream",
          "text": [
            "Enter \"prime\" or \"armstrong\" according to your need.\n",
            "prime\n",
            "Enter a number 33\n",
            "\n",
            "\n",
            "Prime number\n",
            "What do you have to say to me? Thank you.\n"
          ]
        }
      ],
      "source": [
        "#combining both functionalities\n",
        "\n",
        "print('Enter \"prime\" or \"armstrong\" according to your need.')\n",
        "\n",
        "user_input = str(input())\n",
        "\n",
        "if user_input == 'prime':\n",
        "    number = int(input('Enter a number '))\n",
        "\n",
        "    def is_prime(num):\n",
        "        if num<1:\n",
        "            return('\\nEnter a positive number!')\n",
        "        elif num == 1:\n",
        "            return('\\n1 is not a prime number!')\n",
        "\n",
        "        #moving on\n",
        "        for i in range(2, int(num**0.5)+1):\n",
        "            if num%i==0:\n",
        "                return ('\\n\\nNot prime')\n",
        "            else:\n",
        "                return ('\\n\\nPrime number')\n",
        "    print(is_prime(number))\n",
        "\n",
        "\n",
        "elif user_input == 'armstrong':\n",
        "    number = int(input('\\nEnter a number '))\n",
        "\n",
        "    def is_armstrong(num):\n",
        "        count_digits = int(len(str(num)))\n",
        "\n",
        "        temp = num\n",
        "        sum = 0\n",
        "\n",
        "        while temp!=0:\n",
        "            rem = temp%10\n",
        "            temp = temp//10\n",
        "            sum += rem ** count_digits\n",
        "\n",
        "        if sum == number:\n",
        "            return ('\\nArmstrong!')\n",
        "        else:\n",
        "            return ('\\nNot armstrong!')\n",
        "    print(is_armstrong(number))\n",
        "\n",
        "else:\n",
        "    print('\\n\\nEnter a valid instruction!')\n",
        "\n",
        "goodbye_message = str(input('What do you have to say to me? '))"
      ]
    },
    {
      "cell_type": "markdown",
      "id": "4a754663",
      "metadata": {
        "id": "4a754663"
      },
      "source": [
        "### Task\n",
        "\n",
        "Building Simple Calculator by Using Functions"
      ]
    },
    {
      "cell_type": "code",
      "execution_count": null,
      "id": "16396536",
      "metadata": {
        "id": "16396536",
        "outputId": "fedc9d9e-0b36-4edd-c366-35abfdfb340d"
      },
      "outputs": [
        {
          "name": "stdout",
          "output_type": "stream",
          "text": [
            "Select operation.\n",
            "1.Add\n",
            "2.Subtract\n",
            "3.Multiply\n",
            "4.Divide\n",
            "Enter choice(1/2/3/4): 1\n",
            "Enter first number: 2\n",
            "Enter second number: 4\n",
            "2.0 + 4.0 = 6.0\n",
            "Let's do next calculation? (yes/no): no\n"
          ]
        }
      ],
      "source": [
        "# This function adds two numbers\n",
        "def add(x, y):\n",
        "    return x + y\n",
        "\n",
        "# This function subtracts two numbers\n",
        "def subtract(x, y):\n",
        "    return x - y\n",
        "\n",
        "# This function multiplies two numbers\n",
        "def multiply(x, y):\n",
        "    return x * y\n",
        "\n",
        "# This function divides two numbers\n",
        "def divide(x, y):\n",
        "    return x / y\n",
        "\n",
        "\n",
        "print(\"Select operation.\")\n",
        "print(\"1.Add\")\n",
        "print(\"2.Subtract\")\n",
        "print(\"3.Multiply\")\n",
        "print(\"4.Divide\")\n",
        "\n",
        "while True:\n",
        "    # take input from the user\n",
        "    choice = input(\"Enter choice(1/2/3/4): \")\n",
        "\n",
        "    # check if choice is one of the four options\n",
        "    if choice in ('1', '2', '3', '4'):\n",
        "        try:\n",
        "            num1 = float(input(\"Enter first number: \"))\n",
        "            num2 = float(input(\"Enter second number: \"))\n",
        "        except ValueError:\n",
        "            print(\"Invalid input. Please enter a number.\")\n",
        "            continue\n",
        "\n",
        "        if choice == '1':\n",
        "            print(num1, \"+\", num2, \"=\", add(num1, num2))\n",
        "\n",
        "        elif choice == '2':\n",
        "            print(num1, \"-\", num2, \"=\", subtract(num1, num2))\n",
        "\n",
        "        elif choice == '3':\n",
        "            print(num1, \"*\", num2, \"=\", multiply(num1, num2))\n",
        "\n",
        "        elif choice == '4':\n",
        "            print(num1, \"/\", num2, \"=\", divide(num1, num2))\n",
        "\n",
        "        # check if user wants another calculation\n",
        "        # break the while loop if answer is no\n",
        "        next_calculation = input(\"Let's do next calculation? (yes/no): \")\n",
        "        if next_calculation == \"no\":\n",
        "          break\n",
        "    else:\n",
        "        print(\"Invalid Input\")\n"
      ]
    },
    {
      "cell_type": "code",
      "execution_count": null,
      "id": "b4de4f44",
      "metadata": {
        "id": "b4de4f44"
      },
      "outputs": [],
      "source": []
    }
  ],
  "metadata": {
    "kernelspec": {
      "display_name": "Python 3 (ipykernel)",
      "language": "python",
      "name": "python3"
    },
    "language_info": {
      "codemirror_mode": {
        "name": "ipython",
        "version": 3
      },
      "file_extension": ".py",
      "mimetype": "text/x-python",
      "name": "python",
      "nbconvert_exporter": "python",
      "pygments_lexer": "ipython3",
      "version": "3.12.7"
    },
    "colab": {
      "provenance": [],
      "include_colab_link": true
    }
  },
  "nbformat": 4,
  "nbformat_minor": 5
}