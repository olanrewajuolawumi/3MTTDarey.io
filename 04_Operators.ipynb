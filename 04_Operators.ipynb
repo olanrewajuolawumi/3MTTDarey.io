{
  "cells": [
    {
      "cell_type": "markdown",
      "metadata": {
        "id": "view-in-github",
        "colab_type": "text"
      },
      "source": [
        "<a href=\"https://colab.research.google.com/github/olanrewajuolawumi/3MTTDarey.io/blob/main/04_Operators.ipynb\" target=\"_parent\"><img src=\"https://colab.research.google.com/assets/colab-badge.svg\" alt=\"Open In Colab\"/></a>"
      ]
    },
    {
      "cell_type": "markdown",
      "id": "9e96c83f",
      "metadata": {
        "id": "9e96c83f"
      },
      "source": [
        "# C. Python Operators\n",
        "\n",
        "In Python, **operators** are special symbols or keywords that are used to perform operations on variables and values. Think of operators as instructions that allow you to carry out tasks like arithmetic calculations, comparisons, and making decisions in your code.\n",
        "\n",
        "Just like in your daily life, you use various tools for different tasks—operators are your coding tools for handling numbers, making decisions, and more.\n",
        "\n",
        "Let’s first explore all the types of operators in Python before diving into detailed explanations with examples.\n",
        "\n",
        "#### List of Python Operators\n",
        "\n",
        "1. **Arithmetic Operators** – Used for basic mathematical operations.\n",
        "2. **Comparison (Relational) Operators** – Used to compare two values.\n",
        "3. **Logical Operators** – Used to combine conditional statements.\n",
        "4. **Assignment Operators** – Used to assign values to variables.\n",
        "5. **Identity Operators** – Used to compare the memory locations of two objects.\n",
        "6. **Membership Operators** – Used to check if a value is part of a sequence (like a list or a string)."
      ]
    },
    {
      "cell_type": "markdown",
      "id": "36a43e42",
      "metadata": {
        "id": "36a43e42"
      },
      "source": [
        "## `1. Arithmetic Operators`\n",
        "![python-arithmetic-operators.jpg](https://drive.google.com/uc?export=view&id=138loJGWJftGrUC5nXHCdjegbIaO8E3ao)\n",
        "\n",
        "\n",
        "These operators allow you to perform basic math operations like addition, subtraction, multiplication, and division.\n",
        "\n",
        "Imagine you’re managing your personal finances. You can use arithmetic operators to track your income, expenses, and calculate your savings.\n",
        "\n",
        "#### List of Arithmetic Operators:\n",
        "- **Addition (`+`)**: Adds two numbers.\n",
        "- **Subtraction (`-`)**: Subtracts one number from another.\n",
        "- **Multiplication (`*`)**: Multiplies two numbers.\n",
        "- **Division (`/`)**: Divides one number by another.\n",
        "- **Modulus (`%`)**: Returns the remainder when one number is divided by another.\n",
        "- **Exponentiation (`**`)**: Raises one number to the power of another.\n",
        "- **Floor Division (`//`)**: Divides two numbers and rounds down to the nearest integer."
      ]
    },
    {
      "cell_type": "code",
      "execution_count": 1,
      "id": "d4644ac7",
      "metadata": {
        "id": "d4644ac7",
        "outputId": "13e6b087-b912-44f4-92fe-27dfedad8cf1",
        "colab": {
          "base_uri": "https://localhost:8080/"
        }
      },
      "outputs": [
        {
          "output_type": "stream",
          "name": "stdout",
          "text": [
            "Total Expenses: $1600\n",
            "Savings: $1400\n"
          ]
        }
      ],
      "source": [
        "# Monthly income and expenses\n",
        "income = 3000\n",
        "rent = 1000\n",
        "groceries = 400\n",
        "entertainment = 200\n",
        "\n",
        "# When you calculate your total expenses\n",
        "total_expenses = rent + groceries + entertainment\n",
        "\n",
        "# Your savings would be what is left after your expenses\n",
        "savings = income - total_expenses\n",
        "\n",
        "print(f\"Total Expenses: ${total_expenses}\")\n",
        "print(f\"Savings: ${savings}\")"
      ]
    },
    {
      "cell_type": "markdown",
      "id": "66507de7",
      "metadata": {
        "id": "66507de7"
      },
      "source": [
        "## `2. Relational Operators`\n",
        "\n",
        "They allow you to compare two values and determine their relationship to one another. Here's a detailed explanation of each operator:\n",
        "\n",
        "![relational-operators-in-python.jpg](https://drive.google.com/uc?export=view&id=1x3AZIVIui_RD3WJkFEvYwopkjEocJd0q)\n",
        "\n",
        "\n",
        "#### List of Operators:\n",
        "\n",
        "- **Equal to (==)**:\n",
        "  - Checks whether two values are identical.\n",
        "  - Returns `True` if both values are the same; otherwise, returns `False`.\n",
        "  - Example: `5 == 5` is `True`, while `5 == 3` is `False`.<br><br>\n",
        "\n",
        "- **Not equal to (!=)**:\n",
        "  - Determines whether two values are different.\n",
        "  - Returns `True` if the values are not the same; returns `False` if they are identical.\n",
        "  - Example: `5 != 3` is `True`, while `5 != 5` is `False`.<br><br>\n",
        "\n",
        "- **Greater than (>)**:\n",
        "  - Checks if the value on the left is larger than the value on the right.\n",
        "  - Returns `True` if it is; otherwise, returns `False`.\n",
        "  - Example: `7 > 5` is `True`, but `3 > 5` is `False`.<br><br>\n",
        "\n",
        "- **Less than (<)**:\n",
        "  - Checks if the value on the left is smaller than the value on the right.\n",
        "  - Returns `True` if it is; otherwise, returns `False`.\n",
        "  - Example: `4 < 6` is `True`, but `6 < 4` is `False`.<br><br>\n",
        "\n",
        "- **Greater than or equal to (>=)**:\n",
        "  - Checks if the value on the left is either greater than or equal to the value on the right.\n",
        "  - Returns `True` if either condition is met.\n",
        "  - Example: `5 >= 5` is `True`, `6 >= 5` is also `True`, while `4 >= 5` is `False`.<br><br>\n",
        "\n",
        "- **Less than or equal to (<=)**:\n",
        "  - Checks if the value on the left is either less than or equal to the value on the right.\n",
        "  - Returns `True` if either condition holds.\n",
        "  - Example: `5 <= 5` is `True`, `4 <= 5` is also `True`, while `6 <= 5` is `False\n",
        "\n",
        "\n",
        "**Example**: Comparing Your Expenses to a Budget\n",
        "\n",
        "You have a budget of $2000 and want to check if your total expenses are within that budget."
      ]
    },
    {
      "cell_type": "code",
      "execution_count": 2,
      "id": "bc08a950",
      "metadata": {
        "id": "bc08a950",
        "outputId": "e787055e-ce68-4d7d-b084-83e5603a1119",
        "colab": {
          "base_uri": "https://localhost:8080/"
        }
      },
      "outputs": [
        {
          "output_type": "stream",
          "name": "stdout",
          "text": [
            "You have exceeded your budget.\n"
          ]
        }
      ],
      "source": [
        "# Define the budget and total expenses\n",
        "budget = 2000\n",
        "total_expenses = 18000\n",
        "\n",
        "# Check if total expenses are within the budget\n",
        "if total_expenses <= budget:\n",
        "    print(\"You are within your budget.\")\n",
        "else:\n",
        "    print(\"You have exceeded your budget.\")"
      ]
    },
    {
      "cell_type": "markdown",
      "id": "f9231922",
      "metadata": {
        "id": "f9231922"
      },
      "source": [
        "## `3. Logical Operators`\n",
        "\n",
        "Used to combine multiple conditions in programming. They help us make decisions based on whether certain conditions are met.\n",
        "\n",
        "![logical-operators-in-python.jpg](https://drive.google.com/uc?export=view&id=1rPGAyevUXdyP0egwU3E06oibOOIw3ZsR)\n",
        "\n",
        "\n",
        "### List of Operators\n",
        "\n",
        "1. **and**: Returns `True` only if **both** conditions are true.\n",
        "2. **or**: Returns `True` if **at least one** of the conditions is true.\n",
        "3. **not**: Reverses the result of a condition, making `True` become `False`, and vice versa.\n",
        "\n",
        "**Example 1**: Using the `and` Operator\n",
        "\n",
        "_Scenario_: You walk into a grocery store and want to purchase both bread and peanut butter. You will only make a purchase if **both** items are available."
      ]
    },
    {
      "cell_type": "code",
      "execution_count": 3,
      "id": "2ac3f310",
      "metadata": {
        "id": "2ac3f310",
        "outputId": "6141aab4-c598-4020-eab6-38320faae286",
        "colab": {
          "base_uri": "https://localhost:8080/"
        }
      },
      "outputs": [
        {
          "output_type": "stream",
          "name": "stdout",
          "text": [
            "One or both items are not available.\n"
          ]
        }
      ],
      "source": [
        "# Check availability of items\n",
        "bread_available = True\n",
        "peanut_butter_available = False\n",
        "\n",
        "# Again, copy this code and observe the result\n",
        "# Use 'and' to check if both items are available\n",
        "\n",
        "if bread_available and peanut_butter_available:\n",
        "    print(\"You can buy both bread and peanut butter.\")\n",
        "else:\n",
        "    print(\"One or both items are not available.\")"
      ]
    },
    {
      "cell_type": "markdown",
      "id": "88414582",
      "metadata": {
        "id": "88414582"
      },
      "source": [
        "**Example 2**: Using the `or` Operator\n",
        "\n",
        "_Scenario_: You are planning a weekend activity. You can either go to the movies or to the park. You will go out if at least one of them is open."
      ]
    },
    {
      "cell_type": "code",
      "execution_count": 4,
      "id": "562b8f86",
      "metadata": {
        "id": "562b8f86",
        "outputId": "2f7037d8-b62d-4901-bed3-be2c9025991d",
        "colab": {
          "base_uri": "https://localhost:8080/"
        }
      },
      "outputs": [
        {
          "output_type": "stream",
          "name": "stdout",
          "text": [
            "You can go out this weekend!\n"
          ]
        }
      ],
      "source": [
        "# Check if places are open\n",
        "movies_open = False\n",
        "park_open = True\n",
        "\n",
        "# Use 'or' to check if at least one place is open\n",
        "if movies_open or park_open:\n",
        "    print(\"You can go out this weekend!\")\n",
        "else:\n",
        "    print(\"Both places are closed.\")"
      ]
    },
    {
      "cell_type": "code",
      "execution_count": 5,
      "id": "f9038bfa",
      "metadata": {
        "id": "f9038bfa",
        "outputId": "e0ff2415-29db-4da3-d6de-cf714c4a3f1a",
        "colab": {
          "base_uri": "https://localhost:8080/"
        }
      },
      "outputs": [
        {
          "output_type": "stream",
          "name": "stdout",
          "text": [
            "Can we go for a picnic? True\n"
          ]
        }
      ],
      "source": [
        "# Check the weather condition; is it raining\n",
        "is_raining = False\n",
        "# False means it is not raining\n",
        "\n",
        "# `not` negates, that is it gives you the opposite of a task;\n",
        "can_we_go_for_picnic = not is_raining\n",
        "\n",
        "# Print the result\n",
        "print(\"Can we go for a picnic?\", can_we_go_for_picnic)"
      ]
    },
    {
      "cell_type": "markdown",
      "id": "7ecf9da1",
      "metadata": {
        "id": "7ecf9da1"
      },
      "source": [
        "## `4. Assignment Operators`\n",
        "\n",
        "Used to assign values to variables. While you've already used the `=` operator to assign a value, there are several other operators that help you update variables by performing operations in a single step.\n",
        "\n",
        "![assignment_operators.jpg](https://drive.google.com/uc?export=view&id=1IKor228mS7SZr8cpC9RWvdEvQx6nbArg)\n",
        "\n",
        "#### List of Operators:\n",
        "\n",
        "- **`=` (Assign)**:\n",
        "  - This operator assigns a value to a variable.\n",
        "   - Example: `x = 10` assigns the value `10` to the variable `x`.\n",
        "\n",
        "- **`+=` (Add and Assign)**:\n",
        "  - This operator adds a value to a variable and assigns the result back to that variable.\n",
        "  - Example:"
      ]
    },
    {
      "cell_type": "code",
      "execution_count": 6,
      "id": "cbdc8c92",
      "metadata": {
        "id": "cbdc8c92",
        "outputId": "6c0c97d1-c43f-4af4-d86c-3ce2e7257a96",
        "colab": {
          "base_uri": "https://localhost:8080/"
        }
      },
      "outputs": [
        {
          "output_type": "stream",
          "name": "stdout",
          "text": [
            "8\n"
          ]
        }
      ],
      "source": [
        "x = 5\n",
        "x += 3  # Equivalent to x = x + 3\n",
        "\n",
        "print(x)"
      ]
    },
    {
      "cell_type": "markdown",
      "id": "d4073d1b",
      "metadata": {
        "id": "d4073d1b"
      },
      "source": [
        "- **`-=` (Subtract and Assign)**:\n",
        "  - This operator subtracts a value from a variable and assigns the result back to that variable.\n",
        "  - Example:"
      ]
    },
    {
      "cell_type": "code",
      "execution_count": 7,
      "id": "987753d8",
      "metadata": {
        "id": "987753d8",
        "outputId": "a146f08e-da0b-4589-ec21-107861ffe618",
        "colab": {
          "base_uri": "https://localhost:8080/"
        }
      },
      "outputs": [
        {
          "output_type": "stream",
          "name": "stdout",
          "text": [
            "6\n"
          ]
        }
      ],
      "source": [
        "x = 10\n",
        "x -= 4  # Equivalent to x = x - 4\n",
        "print(x)"
      ]
    },
    {
      "cell_type": "markdown",
      "id": "14f77a05",
      "metadata": {
        "id": "14f77a05"
      },
      "source": [
        "- **`*=` (Multiply and Assign)**:\n",
        "  - This operator multiplies a variable by a value and assigns the result back to that variable.\n",
        "  - Example:"
      ]
    },
    {
      "cell_type": "code",
      "execution_count": 8,
      "id": "4a5819f5",
      "metadata": {
        "id": "4a5819f5",
        "outputId": "71e02af1-1f91-4b79-aa85-e4a4b45bbaab",
        "colab": {
          "base_uri": "https://localhost:8080/"
        }
      },
      "outputs": [
        {
          "output_type": "stream",
          "name": "stdout",
          "text": [
            "12\n"
          ]
        }
      ],
      "source": [
        "x = 3\n",
        "x *= 4  # Equivalent to x = x * 4\n",
        "print(x)"
      ]
    },
    {
      "cell_type": "markdown",
      "id": "ccd589f6",
      "metadata": {
        "id": "ccd589f6"
      },
      "source": [
        "- **`/=` (Divide and Assign)**:\n",
        "  - This operator divides a variable by a value and assigns the result back to that variable.\n",
        "  - Example:"
      ]
    },
    {
      "cell_type": "code",
      "execution_count": 9,
      "id": "13efd563",
      "metadata": {
        "id": "13efd563",
        "outputId": "3cffafa0-a183-47e4-c3a3-876fd87bab97",
        "colab": {
          "base_uri": "https://localhost:8080/"
        }
      },
      "outputs": [
        {
          "output_type": "stream",
          "name": "stdout",
          "text": [
            "4.0\n"
          ]
        }
      ],
      "source": [
        "x = 20\n",
        "x /= 5  # Equivalent to x = x / 5\n",
        "print(x)"
      ]
    },
    {
      "cell_type": "markdown",
      "id": "454f036d",
      "metadata": {
        "id": "454f036d"
      },
      "source": [
        "- **`%=` (Modulus and Assign)**:\n",
        "  - This operator calculates the modulus (remainder) of a variable divided by a value and assigns the result back to that variable.\n",
        "  - Example:"
      ]
    },
    {
      "cell_type": "code",
      "source": [
        "x = 5\n",
        "y = 2\n",
        "print(x%y)"
      ],
      "metadata": {
        "colab": {
          "base_uri": "https://localhost:8080/"
        },
        "id": "EJ9bOEyUwxJe",
        "outputId": "3cbe07a0-1114-430e-cdab-33cb866d49ab"
      },
      "id": "EJ9bOEyUwxJe",
      "execution_count": 10,
      "outputs": [
        {
          "output_type": "stream",
          "name": "stdout",
          "text": [
            "1\n"
          ]
        }
      ]
    },
    {
      "cell_type": "code",
      "execution_count": 11,
      "id": "057fe6b3",
      "metadata": {
        "id": "057fe6b3",
        "outputId": "6bd96aa4-c36a-4cc4-f4dd-8d3aa0c62f98",
        "colab": {
          "base_uri": "https://localhost:8080/"
        }
      },
      "outputs": [
        {
          "output_type": "stream",
          "name": "stdout",
          "text": [
            "1\n"
          ]
        }
      ],
      "source": [
        "x = 10\n",
        "x %= 3  # Equivalent to x = x % 3\n",
        "print(x)"
      ]
    },
    {
      "cell_type": "markdown",
      "id": "ced19bdf",
      "metadata": {
        "id": "ced19bdf"
      },
      "source": [
        "#### Example: Updating Your Savings\n",
        "\n",
        "Imagine you want to keep track of your savings and update it every time you spend money."
      ]
    },
    {
      "cell_type": "code",
      "execution_count": 12,
      "id": "5825d8a9",
      "metadata": {
        "id": "5825d8a9",
        "outputId": "2013aed0-90f5-4d22-809a-1b4af63ac528",
        "colab": {
          "base_uri": "https://localhost:8080/"
        }
      },
      "outputs": [
        {
          "output_type": "stream",
          "name": "stdout",
          "text": [
            "Savings after expenses: $1500\n",
            "Savings after bonus: $1800\n"
          ]
        }
      ],
      "source": [
        "# Initial savings\n",
        "savings = 2000\n",
        "\n",
        "# You spend 500, so subtract that from your savings\n",
        "\n",
        "savings -= 500  # This updates the savings in one step\n",
        "print(f\"Savings after expenses: ${savings}\")  # Output: $1500\n",
        "\n",
        "# You receive a bonus of 300, so add that to your savings\n",
        "savings += 300  # This updates the savings in one step\n",
        "print(f\"Savings after bonus: ${savings}\")"
      ]
    },
    {
      "cell_type": "markdown",
      "id": "7be997a0",
      "metadata": {
        "id": "7be997a0"
      },
      "source": [
        "## `5. Identity Operators`\n",
        "\n",
        "Used to check if two variables refer to the same object in memory. This concept is essential when you want to know if two variables point to the same place in memory, especially when dealing with mutable objects like lists.\n",
        "\n",
        "#### List of Operators:\n",
        "\n",
        "- **`is`**:\n",
        "  - This operator returns `True` if two variables point to the same object in memory.\n",
        "  - Example:"
      ]
    },
    {
      "cell_type": "code",
      "execution_count": 13,
      "id": "844bdd11",
      "metadata": {
        "id": "844bdd11",
        "outputId": "7755e7c4-4b0f-49b6-9c35-c77a5fa2a679",
        "colab": {
          "base_uri": "https://localhost:8080/"
        }
      },
      "outputs": [
        {
          "output_type": "stream",
          "name": "stdout",
          "text": [
            "True\n",
            "False\n"
          ]
        }
      ],
      "source": [
        "# Creating a basket of fruits\n",
        "basket1 = [\"apple\", \"banana\", \"cherry\"]\n",
        "basket2 = basket1  # basket2 refers to the same basket as basket1\n",
        "basket3 = [\"apple\", \"banana\", \"cherry\"]  # basket3 is a different basket\n",
        "\n",
        "print(basket1 is basket2)  # Output: True  (Same basket)\n",
        "print(basket1 is basket3)  # Output: False (Different baskets)"
      ]
    },
    {
      "cell_type": "markdown",
      "id": "ab8267ba",
      "metadata": {
        "id": "ab8267ba"
      },
      "source": [
        "- **`is not`**:\n",
        "  - This operator returns `True` if two variables do not point to the same object in memory.\n",
        "  - Example:"
      ]
    },
    {
      "cell_type": "code",
      "execution_count": 14,
      "id": "32dcc2e6",
      "metadata": {
        "id": "32dcc2e6",
        "outputId": "73308d05-56a4-4655-c56e-0d439845cdc2",
        "colab": {
          "base_uri": "https://localhost:8080/"
        }
      },
      "outputs": [
        {
          "output_type": "stream",
          "name": "stdout",
          "text": [
            "False\n",
            "True\n"
          ]
        }
      ],
      "source": [
        "print(basket1 is not basket2)  # Output: False (Same basket)\n",
        "print(basket1 is not basket3)  # Output: True  (Different baskets)"
      ]
    },
    {
      "cell_type": "markdown",
      "id": "21667090",
      "metadata": {
        "id": "21667090"
      },
      "source": [
        "**Example**: Comparing Baskets of Fruits\n",
        "\n",
        "Imagine you have two baskets:\n",
        "\n",
        "- _Basket A_ contains three fruits: an apple, a banana, and a cherry.\n",
        "- _Basket B_ is another basket that you have filled with the same types of fruits: an apple, a banana, and a cherry.\n",
        "\n",
        "While both baskets have the same contents, they are different physical baskets. If you check whether Basket A and Basket B are the same basket, you would say they are not the same, even though they contain identical fruits.\n",
        "\n",
        "In Python terms:"
      ]
    },
    {
      "cell_type": "code",
      "execution_count": 15,
      "id": "9fa55746",
      "metadata": {
        "id": "9fa55746",
        "outputId": "39ad3c74-59bd-4ab4-d31a-544809749482",
        "colab": {
          "base_uri": "https://localhost:8080/"
        }
      },
      "outputs": [
        {
          "output_type": "stream",
          "name": "stdout",
          "text": [
            "False\n",
            "True\n"
          ]
        }
      ],
      "source": [
        "# Two lists representing two baskets of fruits\n",
        "basket_a = [\"apple\", \"banana\", \"cherry\"]\n",
        "basket_b = [\"apple\", \"banana\", \"cherry\"]  # A different basket with the same fruits\n",
        "basket_c = basket_a  # basket_c points to the same basket as basket_a\n",
        "\n",
        "# Comparing identity\n",
        "print(basket_a is basket_b)  # Output: False (Different baskets)\n",
        "print(basket_a is basket_c)  # Output: True  (Same basket)"
      ]
    },
    {
      "cell_type": "markdown",
      "id": "a40fcd06",
      "metadata": {
        "id": "a40fcd06"
      },
      "source": [
        "## `6. Membership Operators`\n",
        "\n",
        "Used to check if a value is present in a sequence, such as a list, string, or tuple. They are useful for determining whether a specific item exists in a collection.\n",
        "\n",
        "#### List of Operators:\n",
        "\n",
        "- **`in`**:\n",
        "  - This operator returns `True` if a value is found in a sequence.\n",
        "  - Example:"
      ]
    },
    {
      "cell_type": "code",
      "execution_count": 16,
      "id": "9ca94817",
      "metadata": {
        "id": "9ca94817",
        "outputId": "506493d2-23af-444f-8b09-e90adc70f8e1",
        "colab": {
          "base_uri": "https://localhost:8080/"
        }
      },
      "outputs": [
        {
          "output_type": "stream",
          "name": "stdout",
          "text": [
            "True\n"
          ]
        }
      ],
      "source": [
        "# Say you have a list of expense categories\n",
        "categories = [\"rent\", \"groceries\", \"transportation\"]\n",
        "\n",
        "# Check if 'groceries' is \"in\" the list\n",
        "print(\"groceries\" in categories)  # Output: True"
      ]
    },
    {
      "cell_type": "markdown",
      "id": "4c608fc7",
      "metadata": {
        "id": "4c608fc7"
      },
      "source": [
        "- **`not in`**:\n",
        "  - This operator returns `True` if a value \"is not\" found in a sequence.\n",
        "  - Example:"
      ]
    },
    {
      "cell_type": "code",
      "execution_count": 17,
      "id": "78af7c28",
      "metadata": {
        "id": "78af7c28",
        "outputId": "33c49fe0-53f8-442e-cb80-88681732691a",
        "colab": {
          "base_uri": "https://localhost:8080/"
        }
      },
      "outputs": [
        {
          "output_type": "stream",
          "name": "stdout",
          "text": [
            "True\n"
          ]
        }
      ],
      "source": [
        "# Check if 'utilities' is not in the list\n",
        "print(\"utilities\" not in categories)"
      ]
    },
    {
      "cell_type": "markdown",
      "id": "7b30986b",
      "metadata": {
        "id": "7b30986b"
      },
      "source": [
        "**Example**: Checking Attendance in a Class\n",
        "\n",
        "Imagine you are a teacher taking attendance for your class. You have a list of students enrolled in the course, and you want to check if a specific student is present.\n",
        "\n",
        "- You have the following students in your class: Alisha, Ola, Charlie, and Remi.\n",
        "\n",
        "In Python terms, you can represent this situation like this:"
      ]
    },
    {
      "cell_type": "code",
      "execution_count": 18,
      "id": "5bdc8cad",
      "metadata": {
        "id": "5bdc8cad",
        "outputId": "526235bf-ae35-47f5-8495-b07666aaebe7",
        "colab": {
          "base_uri": "https://localhost:8080/"
        }
      },
      "outputs": [
        {
          "output_type": "stream",
          "name": "stdout",
          "text": [
            "not in class\n",
            "Saed is not enrolled in this class.\n"
          ]
        }
      ],
      "source": [
        "# List of students in the class\n",
        "students = [\"Alisha\", \"Blessing\", \"Charlie\", \"Remi\"]\n",
        "\n",
        "# As usual, kinldy ignore the strange word `if` for now.\n",
        "# Check if 'Ola' is in the list of students\n",
        "if \"Ola\" in students:\n",
        "    print(\"Ola is present in the class.\")  # This message will be printed\n",
        "else:\n",
        "    print(\"not in class\")\n",
        "\n",
        "# Check if 'Saed' is in the list of students\n",
        "if \"Saed\" not in students:\n",
        "    print(\"Saed is not enrolled in this class.\")  # This message will be printed"
      ]
    },
    {
      "cell_type": "markdown",
      "id": "979223ee",
      "metadata": {
        "id": "979223ee"
      },
      "source": [
        "These operators are the building blocks that enable you to carry out various tasks in Python, from mathematical operations to logical comparisons, and even manipulating binary data. By mastering these operators, you'll be able to write more efficient and powerful code. Below is the precedence of operators in Python:\n",
        "\n",
        "![python_operator_precedence.png](https://drive.google.com/uc?export=view&id=1ZjgTHnVhtYbiyS3JVg9lJPh6EyZawUPJ)"
      ]
    },
    {
      "cell_type": "code",
      "source": [],
      "metadata": {
        "id": "0GkX7fEK01vu"
      },
      "id": "0GkX7fEK01vu",
      "execution_count": 18,
      "outputs": []
    }
  ],
  "metadata": {
    "kernelspec": {
      "display_name": "Python 3 (ipykernel)",
      "language": "python",
      "name": "python3"
    },
    "language_info": {
      "codemirror_mode": {
        "name": "ipython",
        "version": 3
      },
      "file_extension": ".py",
      "mimetype": "text/x-python",
      "name": "python",
      "nbconvert_exporter": "python",
      "pygments_lexer": "ipython3",
      "version": "3.12.7"
    },
    "colab": {
      "provenance": [],
      "include_colab_link": true
    }
  },
  "nbformat": 4,
  "nbformat_minor": 5
}