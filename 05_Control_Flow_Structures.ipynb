{
  "cells": [
    {
      "cell_type": "markdown",
      "metadata": {
        "id": "view-in-github",
        "colab_type": "text"
      },
      "source": [
        "<a href=\"https://colab.research.google.com/github/olanrewajuolawumi/3MTTDarey.io/blob/main/05_Control_Flow_Structures.ipynb\" target=\"_parent\"><img src=\"https://colab.research.google.com/assets/colab-badge.svg\" alt=\"Open In Colab\"/></a>"
      ]
    },
    {
      "cell_type": "markdown",
      "id": "3c1dafe1",
      "metadata": {
        "id": "3c1dafe1"
      },
      "source": [
        "# D. Control Flow Structures in Python\n",
        "\n",
        "Control flow structures are essential in programming as they allow us to control the sequence of operations within a program. In Python, control flow tools include conditionals, loops, and control statements that allow you to decide what to execute and when.\n",
        "\n",
        "Trust me, it's not complex. Let’s explore these with more detailed explanations and examples.\n",
        "\n",
        "\n",
        "## 1. **Conditionals (`if`, `elif`, `else`)**\n",
        "\n",
        "![if-elif-else-statement-flow-diagram.jpg](https://drive.google.com/uc?export=view&id=1mm-gULx8oVODKtF1gHotvVQ6TxVmjszt)\n",
        "\n",
        "\n",
        "Conditionals are used to execute certain blocks of code based on whether a condition is true or false. This is similar to how we make decisions every day: if it’s raining, you take an umbrella; if it’s not, you don’t.\n",
        "\n",
        "- **`if`**: Executes a block of code if the given condition evaluates to `True`.\n",
        "- **`elif`**: Stands for \"else if\" and is used to check another condition if the previous one was `False`.\n",
        "- **`else`**: Executes a block of code when all previous conditions are `False`\n",
        "\n",
        "**Example:**\n",
        "Let’s imagine you're preparing to go out in Lagos during the rainy season. You decide what to do based on the weather condition."
      ]
    },
    {
      "cell_type": "code",
      "execution_count": null,
      "id": "62c67d07",
      "metadata": {
        "id": "62c67d07",
        "outputId": "0d03881b-f398-4c8a-9665-1be35310797b",
        "colab": {
          "base_uri": "https://localhost:8080/"
        }
      },
      "outputs": [
        {
          "output_type": "stream",
          "name": "stdout",
          "text": [
            "You don't need anything special.\n"
          ]
        }
      ],
      "source": [
        "weather = \"sunny\"\n",
        "\n",
        "if weather == \"rainy\":\n",
        "    print(\"Take an umbrella!\")  # This prints if the weather is rainy.\n",
        "elif weather == \"cloudy\":\n",
        "    print(\"Take a jacket.\")  # This runs if the weather is cloudy.\n",
        "else:\n",
        "    print(\"You don't need anything special.\")  # This runs if the weather is neither rainy nor cloudy."
      ]
    },
    {
      "cell_type": "markdown",
      "id": "7edd2f17",
      "metadata": {
        "id": "7edd2f17"
      },
      "source": [
        "In this case, the program checks each condition in sequence and executes the appropriate block of code."
      ]
    },
    {
      "cell_type": "code",
      "execution_count": null,
      "id": "26e9685d",
      "metadata": {
        "id": "26e9685d",
        "outputId": "4c0612e2-47ad-40b4-d800-24fb8cbd87f7",
        "colab": {
          "base_uri": "https://localhost:8080/"
        }
      },
      "outputs": [
        {
          "output_type": "stream",
          "name": "stdout",
          "text": [
            "Eligible\n"
          ]
        }
      ],
      "source": [
        "#lets check if based on the age of Bella she is eligible to vote\n",
        "age = 34\n",
        "\n",
        "if age > 30:\n",
        "    print('Eligible')\n",
        "else:\n",
        "    print('Underage')"
      ]
    },
    {
      "cell_type": "code",
      "execution_count": null,
      "id": "81262c79",
      "metadata": {
        "id": "81262c79",
        "outputId": "94e1b757-6178-42ab-ba8c-7d4302a86d93",
        "colab": {
          "base_uri": "https://localhost:8080/"
        }
      },
      "outputs": [
        {
          "output_type": "stream",
          "name": "stdout",
          "text": [
            "Eligible\n"
          ]
        }
      ],
      "source": [
        "#Another way to write the above\n",
        "\n",
        "if age > 30:\n",
        "    message = 'Eligible'\n",
        "else:\n",
        "    message = 'Not eligible'\n",
        "print(message)"
      ]
    },
    {
      "cell_type": "code",
      "execution_count": null,
      "id": "b84b1045",
      "metadata": {
        "id": "b84b1045",
        "outputId": "e9d856c7-1f85-4a35-a9f2-2d04474443c5"
      },
      "outputs": [
        {
          "name": "stdout",
          "output_type": "stream",
          "text": [
            "Eligible\n"
          ]
        }
      ],
      "source": [
        "#An even better way to write the above\n",
        "#This is known as ternary operators\n",
        "\n",
        "message = 'Eligible' if age>30 else 'Not Eligible'\n",
        "print(message)"
      ]
    },
    {
      "cell_type": "markdown",
      "id": "b934f38e",
      "metadata": {
        "id": "b934f38e"
      },
      "source": [
        "**Ternary Operators: A Concise Conditional Expression**\n",
        "\n",
        "A ternary operator, also known as a conditional operator, is a concise way to express a simple if-else condition in a single line of code. It's a shorthand for a basic if-else statement. Syntax:\n",
        "\n",
        "`condition ? expression1 : expression2`\n",
        "\n",
        "_How it works:_\n",
        "\n",
        "- Condition: The condition is evaluated.\n",
        "- Expression 1: If the condition is true, this expression is evaluated and its result is returned.   \n",
        "- Expression 2: If the condition is false, this expression is evaluated and its result is returned."
      ]
    },
    {
      "cell_type": "markdown",
      "id": "56797165",
      "metadata": {
        "id": "56797165"
      },
      "source": [
        "##### Nested if-else statements"
      ]
    },
    {
      "cell_type": "code",
      "execution_count": null,
      "id": "cb3b7990",
      "metadata": {
        "id": "cb3b7990",
        "outputId": "5ff22dd9-fe07-4a19-dc2d-76dd637d3506",
        "colab": {
          "base_uri": "https://localhost:8080/"
        }
      },
      "outputs": [
        {
          "output_type": "stream",
          "name": "stdout",
          "text": [
            "You are not of age to vote\n"
          ]
        }
      ],
      "source": [
        "#these are useful when you have a series of conditions to check and different actions to take based on those conditions\n",
        "\n",
        "age = 16\n",
        "country = 'Nigeria'\n",
        "\n",
        "if age >= 18:\n",
        "    if country == 'Nigeria':\n",
        "        print('You can proceed to vote')\n",
        "    else:\n",
        "        print('You are up to age but not a citizen of Nigeria.')\n",
        "else:\n",
        "    print('You are not of age to vote')"
      ]
    },
    {
      "cell_type": "code",
      "execution_count": null,
      "id": "f3efb076",
      "metadata": {
        "id": "f3efb076",
        "outputId": "6b29d4ee-9cc6-4600-fb31-ed568e66c0f1",
        "colab": {
          "base_uri": "https://localhost:8080/"
        }
      },
      "outputs": [
        {
          "output_type": "stream",
          "name": "stdout",
          "text": [
            "Failing grade\n"
          ]
        }
      ],
      "source": [
        "'''\n",
        "Another example:\n",
        "\n",
        "The idea here is that for a particular grade, we want to check if it falls within a standard range and tehn print out the grades accordingly\n",
        "if the grade received is between 65 and 100 then we proceed to finding what grade suits the student best\n",
        "if however, the grade entered is above 100,the corresponding output is displayed\n",
        "\n",
        "#Note that ''' ''' are used to denote multiline comments\n",
        "'''\n",
        "\n",
        "grade = 20\n",
        "\n",
        "if grade >=65 and grade <=100:\n",
        "    print('Bella got a passing grrade of:', end = ' ')\n",
        "\n",
        "    if grade >= 90:\n",
        "        print('A')\n",
        "    elif grade >= 80:\n",
        "        print('B')\n",
        "    elif grade >= 70:\n",
        "        print('C')\n",
        "    elif grade >=65:\n",
        "        print('D')\n",
        "elif grade > 100:\n",
        "    print('Invalid input')\n",
        "else:\n",
        "    print('Failing grade')"
      ]
    },
    {
      "cell_type": "markdown",
      "id": "e3d7dffc",
      "metadata": {
        "id": "e3d7dffc"
      },
      "source": [
        "## 2. Loops\n",
        "\n",
        "Loops are used to repeat a block of code multiple times. In Python, there are two types of loops: `for` loops and `while` loops."
      ]
    },
    {
      "cell_type": "markdown",
      "id": "6df5e85c",
      "metadata": {
        "id": "6df5e85c"
      },
      "source": [
        "### 2.1 For loops\n",
        "\n",
        "![for-loop-python.jpg](https://drive.google.com/uc?export=view&id=1ARBJr6vrT9Lf05Li3R-UN8oq6-EJ72FY)\n",
        "\n",
        "\n",
        "A `for` loop is used to iterate over a sequence (like a list, string, or range of numbers). It is useful when you know in advance how many times you want to loop.\n",
        "\n",
        "**Example:**\n",
        "Imagine you’re distributing handouts to students in a Nigerian university class"
      ]
    },
    {
      "cell_type": "code",
      "execution_count": null,
      "id": "2c7a3d8b",
      "metadata": {
        "id": "2c7a3d8b",
        "outputId": "dfaf0ecb-c309-4da4-ca13-8e3b49ba266a",
        "colab": {
          "base_uri": "https://localhost:8080/"
        }
      },
      "outputs": [
        {
          "output_type": "stream",
          "name": "stdout",
          "text": [
            "Here is your handout, Bola!\n",
            "Here is your handout, Ahmed!\n",
            "Here is your handout, Uche!\n",
            "Here is your handout, Tunde!\n"
          ]
        }
      ],
      "source": [
        "students = [\"Bola\", \"Ahmed\", \"Uche\", \"Tunde\"]\n",
        "\n",
        "for student in students:\n",
        "    print(f\"Here is your handout, {student}!\")"
      ]
    },
    {
      "cell_type": "markdown",
      "id": "5162a099",
      "metadata": {
        "id": "5162a099"
      },
      "source": [
        "Here, the `for` loop goes through each name in the `students` list and distributes handouts."
      ]
    },
    {
      "cell_type": "code",
      "execution_count": null,
      "id": "6ef80539",
      "metadata": {
        "id": "6ef80539"
      },
      "outputs": [],
      "source": [
        "integers = [1,2,3,4,5,6,7]"
      ]
    },
    {
      "cell_type": "code",
      "execution_count": null,
      "id": "eae4377b",
      "metadata": {
        "id": "eae4377b",
        "outputId": "d7f450af-cdbb-412c-af0e-5b4d7f4434de",
        "colab": {
          "base_uri": "https://localhost:8080/"
        }
      },
      "outputs": [
        {
          "output_type": "stream",
          "name": "stdout",
          "text": [
            "1\n",
            "2\n",
            "3\n",
            "4\n",
            "5\n",
            "6\n",
            "7\n"
          ]
        }
      ],
      "source": [
        "#where num is a temporary variable\n",
        "#for each number in the integers list\n",
        "\n",
        "for num in integers:\n",
        "    print(num)"
      ]
    },
    {
      "cell_type": "code",
      "execution_count": null,
      "id": "845b89f9",
      "metadata": {
        "id": "845b89f9",
        "outputId": "ec638e49-22af-4183-b8c1-3a970312d722",
        "colab": {
          "base_uri": "https://localhost:8080/"
        }
      },
      "outputs": [
        {
          "output_type": "stream",
          "name": "stdout",
          "text": [
            "2\n",
            "4\n",
            "6\n",
            "8\n",
            "10\n",
            "12\n",
            "14\n"
          ]
        }
      ],
      "source": [
        "#adding the integers\n",
        "integers = [1,2,3,4,5,6,7]\n",
        "for num in integers:\n",
        "    print(num+num)"
      ]
    },
    {
      "cell_type": "markdown",
      "id": "1aea134d",
      "metadata": {
        "id": "1aea134d"
      },
      "source": [
        "#### with dictionaries"
      ]
    },
    {
      "cell_type": "code",
      "execution_count": null,
      "id": "5ba1678b",
      "metadata": {
        "id": "5ba1678b"
      },
      "outputs": [],
      "source": [
        "ice_cream ={'name': 'Cocoa', \"weekly intake\": 5, 'fav ice cream': ['MCC', 'Chocolate']}"
      ]
    },
    {
      "cell_type": "code",
      "source": [
        "{\"name\": \"Hannah\"}"
      ],
      "metadata": {
        "id": "0n13Icmm7PJL"
      },
      "id": "0n13Icmm7PJL",
      "execution_count": null,
      "outputs": []
    },
    {
      "cell_type": "code",
      "execution_count": null,
      "id": "9a5c9d7a",
      "metadata": {
        "id": "9a5c9d7a",
        "outputId": "e8da91e6-d803-44af-e109-d11212d5c047",
        "colab": {
          "base_uri": "https://localhost:8080/"
        }
      },
      "outputs": [
        {
          "output_type": "stream",
          "name": "stdout",
          "text": [
            "Cocoa\n",
            "5\n",
            "['MCC', 'Chocolate']\n"
          ]
        }
      ],
      "source": [
        "'''\n",
        "when iterating over a dictionary we need to specify what we want to pull from the dictionary\n",
        "that is, whether we're extracting the keys or values hence we have `ice_cream.values()`\n",
        "'''\n",
        "\n",
        "for cream in ice_cream.values():\n",
        "    print(cream)"
      ]
    },
    {
      "cell_type": "code",
      "execution_count": null,
      "id": "3b9ec9dd",
      "metadata": {
        "id": "3b9ec9dd",
        "outputId": "7f796a63-8fb5-42df-8025-c7ee09a9459a",
        "colab": {
          "base_uri": "https://localhost:8080/"
        }
      },
      "outputs": [
        {
          "output_type": "stream",
          "name": "stdout",
          "text": [
            "name -> Cocoa\n",
            "weekly intake -> 5\n",
            "fav ice cream -> ['MCC', 'Chocolate']\n"
          ]
        }
      ],
      "source": [
        "#this extracts the key-value pair itself\n",
        "for key, value in ice_cream.items():\n",
        "    print(key, '->', value)"
      ]
    },
    {
      "cell_type": "markdown",
      "id": "206a83a0",
      "metadata": {
        "id": "206a83a0"
      },
      "source": [
        "#### with tuples"
      ]
    },
    {
      "cell_type": "code",
      "execution_count": null,
      "id": "3b32b8ab",
      "metadata": {
        "id": "3b32b8ab",
        "outputId": "ce28b3a0-8641-4caa-82f3-07ac7a4741c1",
        "colab": {
          "base_uri": "https://localhost:8080/"
        }
      },
      "outputs": [
        {
          "output_type": "stream",
          "name": "stdout",
          "text": [
            "10\n",
            "20\n",
            "30\n",
            "Finish\n"
          ]
        }
      ],
      "source": [
        "tup = (10,20,30)\n",
        "\n",
        "for tp in tup:\n",
        "    print(tp)\n",
        "print('Finish')"
      ]
    },
    {
      "cell_type": "code",
      "execution_count": null,
      "id": "ca78fa6f",
      "metadata": {
        "id": "ca78fa6f",
        "outputId": "de459c5a-4467-4e04-cb95-b97ecb957f5f",
        "colab": {
          "base_uri": "https://localhost:8080/"
        }
      },
      "outputs": [
        {
          "output_type": "stream",
          "name": "stdout",
          "text": [
            "Product = 120\n"
          ]
        }
      ],
      "source": [
        "tup = (1,2,3,4,5)\n",
        "prod =1\n",
        "\n",
        "for item in tup:\n",
        "    prod *= item\n",
        "print('Product = {}'.format(prod))"
      ]
    },
    {
      "cell_type": "markdown",
      "id": "dc05d127",
      "metadata": {
        "id": "dc05d127"
      },
      "source": [
        "#### using ranges"
      ]
    },
    {
      "cell_type": "code",
      "execution_count": null,
      "id": "70d3ccb3",
      "metadata": {
        "id": "70d3ccb3",
        "outputId": "f8289a1f-2751-41f3-a072-cd700f56f8b6",
        "colab": {
          "base_uri": "https://localhost:8080/"
        }
      },
      "outputs": [
        {
          "output_type": "stream",
          "name": "stdout",
          "text": [
            "The count is:  1\n",
            "The count is:  3\n",
            "The count is:  5\n",
            "The count is:  7\n",
            "The count is:  9\n",
            "Done with the loop!\n"
          ]
        }
      ],
      "source": [
        "#iterating over a range where 1 = start point, 10 = end point, 2 = increments\n",
        "\n",
        "for count in range(1,10,2):\n",
        "    print('The count is: ', count)\n",
        "print('Done with the loop!')"
      ]
    },
    {
      "cell_type": "markdown",
      "id": "62a563b9",
      "metadata": {
        "id": "62a563b9"
      },
      "source": [
        "#### with lists"
      ]
    },
    {
      "cell_type": "code",
      "execution_count": null,
      "id": "f9092c6d",
      "metadata": {
        "id": "f9092c6d",
        "outputId": "2b8f606f-e35f-4b01-ee5c-d65f1cd89110",
        "colab": {
          "base_uri": "https://localhost:8080/"
        }
      },
      "outputs": [
        {
          "output_type": "stream",
          "name": "stdout",
          "text": [
            "10\n",
            "0\n",
            "\n",
            "20\n",
            "1\n",
            "\n",
            "30\n",
            "2\n",
            "\n",
            "40\n",
            "3\n",
            "\n",
            "60\n",
            "4\n",
            "\n"
          ]
        }
      ],
      "source": [
        "my_list = [10,20,30,40,60]\n",
        "\n",
        "for tp in range(len(my_list)):\n",
        "    print(my_list[tp])\n",
        "    print(tp)\n",
        "    print()"
      ]
    },
    {
      "cell_type": "code",
      "execution_count": null,
      "id": "379ed2d1",
      "metadata": {
        "id": "379ed2d1",
        "outputId": "3fe246a6-3b22-4bb2-a84f-216295a36859",
        "colab": {
          "base_uri": "https://localhost:8080/"
        }
      },
      "outputs": [
        {
          "output_type": "stream",
          "name": "stdout",
          "text": [
            "Dict iteration\n",
            "num 1\n",
            "num 2\n"
          ]
        }
      ],
      "source": [
        "print('Dict iteration')\n",
        "\n",
        "dict = {}\n",
        "dict['num 1'] = 'Bella'\n",
        "dict['num 2'] = 'Jane'\n",
        "\n",
        "for key in dict.keys():\n",
        "    print(key)"
      ]
    },
    {
      "cell_type": "markdown",
      "id": "2733e493",
      "metadata": {
        "id": "2733e493"
      },
      "source": [
        "#### Nested for loops - a for loop within a for loop"
      ]
    },
    {
      "cell_type": "code",
      "execution_count": null,
      "id": "30823e47",
      "metadata": {
        "id": "30823e47"
      },
      "outputs": [],
      "source": [
        "flavors = ['vanilla', 'choco', 'cookie dough']\n",
        "\n",
        "toppings = ['marsh', 'oreo', 'hot fudge']"
      ]
    },
    {
      "cell_type": "code",
      "execution_count": null,
      "id": "fb6d09bb",
      "metadata": {
        "id": "fb6d09bb",
        "outputId": "e7c9e292-4aba-4a8b-f32d-03c39ea2dea7",
        "colab": {
          "base_uri": "https://localhost:8080/"
        }
      },
      "outputs": [
        {
          "output_type": "stream",
          "name": "stdout",
          "text": [
            "vanilla topped with marsh\n",
            "vanilla topped with oreo\n",
            "vanilla topped with hot fudge\n",
            "choco topped with marsh\n",
            "choco topped with oreo\n",
            "choco topped with hot fudge\n",
            "cookie dough topped with marsh\n",
            "cookie dough topped with oreo\n",
            "cookie dough topped with hot fudge\n"
          ]
        }
      ],
      "source": [
        "for one in flavors:\n",
        "    for two in toppings:\n",
        "        print(one, 'topped with', two)"
      ]
    },
    {
      "cell_type": "markdown",
      "id": "41311361",
      "metadata": {
        "id": "41311361"
      },
      "source": [
        "### 2.2 While loops\n",
        "\n",
        "![while-loop.jpg](https://drive.google.com/uc?export=view&id=1hUYcc9XFWKZdhbAmpnp0_1lPHr3AkwjQ)\n",
        "\n",
        "\n",
        "A `while` loop keeps executing as long as a condition is `True`. It’s like waiting for fuel to be available in a filling station during scarcity—if the station remains empty, you keep waiting.\n",
        "\n",
        "**Example:**\n",
        "\n",
        "Let’s say you keep checking your phone for mobile data credit until it gets credited:"
      ]
    },
    {
      "cell_type": "code",
      "execution_count": null,
      "id": "a211c7c3",
      "metadata": {
        "id": "a211c7c3",
        "outputId": "3bca878a-d0a7-44b7-a190-7d138fdd8831",
        "colab": {
          "base_uri": "https://localhost:8080/"
        }
      },
      "outputs": [
        {
          "output_type": "stream",
          "name": "stdout",
          "text": [
            "Still waiting for data to be credited...\n",
            "You now have data!\n"
          ]
        }
      ],
      "source": [
        "data_balance = 0\n",
        "\n",
        "while data_balance == 0:\n",
        "    print(\"Still waiting for data to be credited...\")\n",
        "    # After a while, data is credited\n",
        "    data_balance = 100\n",
        "\n",
        "print(\"You now have data!\")\n"
      ]
    },
    {
      "cell_type": "markdown",
      "id": "9b163896",
      "metadata": {
        "id": "9b163896"
      },
      "source": [
        "This loop continues until you receive data credit."
      ]
    },
    {
      "cell_type": "code",
      "execution_count": null,
      "id": "9f9e2489",
      "metadata": {
        "id": "9f9e2489",
        "outputId": "67323ed9-490e-46b9-fce6-0241eb48a9d3",
        "colab": {
          "base_uri": "https://localhost:8080/"
        }
      },
      "outputs": [
        {
          "output_type": "stream",
          "name": "stdout",
          "text": [
            "0\n",
            "1\n",
            "2\n",
            "3\n",
            "4\n"
          ]
        }
      ],
      "source": [
        "number = 0\n",
        "while number < 5:\n",
        "    print(number)\n",
        "    number = number + 1 #a counter"
      ]
    },
    {
      "cell_type": "code",
      "execution_count": null,
      "id": "e0eaf6c6",
      "metadata": {
        "id": "e0eaf6c6",
        "outputId": "e62d6092-4a79-4d95-d95e-7cfef9d5d813",
        "colab": {
          "base_uri": "https://localhost:8080/"
        }
      },
      "outputs": [
        {
          "output_type": "stream",
          "name": "stdout",
          "text": [
            "1\n",
            "2\n",
            "3\n",
            "4\n",
            "5\n"
          ]
        }
      ],
      "source": [
        "number = 0\n",
        "while number < 5:\n",
        "    number = number + 1\n",
        "    print(number)"
      ]
    },
    {
      "cell_type": "markdown",
      "id": "6c3927cf",
      "metadata": {
        "id": "6c3927cf"
      },
      "source": [
        "Did you notice the difference between both code blocks above."
      ]
    },
    {
      "cell_type": "code",
      "execution_count": null,
      "id": "cf7cb205",
      "metadata": {
        "id": "cf7cb205",
        "outputId": "597e6bb6-6e25-4d7e-bc4a-2d4ba909ed16",
        "colab": {
          "base_uri": "https://localhost:8080/"
        }
      },
      "outputs": [
        {
          "output_type": "stream",
          "name": "stdout",
          "text": [
            "The count is:  0\n",
            "The count is:  1\n",
            "The count is:  2\n",
            "Good bye! count is:  3\n"
          ]
        }
      ],
      "source": [
        "count = 0\n",
        "while count<3:\n",
        "    print('The count is: ', count)\n",
        "    count = count+1\n",
        "print('Good bye! count is: ', count)"
      ]
    },
    {
      "cell_type": "code",
      "execution_count": null,
      "id": "92777137",
      "metadata": {
        "id": "92777137",
        "outputId": "49c51a3a-ac88-4912-db23-b5db6ab1f67e",
        "colab": {
          "base_uri": "https://localhost:8080/"
        }
      },
      "outputs": [
        {
          "output_type": "stream",
          "name": "stdout",
          "text": [
            "Product = 120\n"
          ]
        }
      ],
      "source": [
        "tup = (1,2,3,4,5)\n",
        "\n",
        "prod = 1\n",
        "index = 0\n",
        "\n",
        "# while 0 < 5:\n",
        "#   prod *= tup[index]\n",
        "\n",
        "#   prod = 1 * 1 = 2\n",
        "\n",
        "# while 1 < 5:\n",
        "#   prod *= tup[index]\n",
        "\n",
        "#   prod = 2 * 2 = 4\n",
        "\n",
        "# while 2 < 5:\n",
        "#   prod *= tup[index]\n",
        "\n",
        "#   prod = 4 * 3 = 12\n",
        "\n",
        "while index < len(tup):\n",
        "    prod *= tup[index]   #multiply the current value of prod by tup[index] #'index' is used as a variable to index the values\n",
        "    index +=1\n",
        "print('Product = {}'.format(prod))"
      ]
    },
    {
      "cell_type": "markdown",
      "id": "edbfafb2",
      "metadata": {
        "id": "edbfafb2"
      },
      "source": [
        "### 3. Control Statements (`break`, `continue`, `pass`)\n",
        "\n",
        "Control statements allow you to manipulate the flow of loops by either breaking out of them, skipping iterations, or doing nothing in a particular case.\n",
        "\n",
        "#### 3.1 Break\n",
        "The `break` statement is used to exit a loop entirely. It’s like stopping a task midway when it’s no longer necessary.\n",
        "\n",
        "**Example:**\n",
        "\n",
        "You are buying gala on the Third Mainland Bridge, but you stop buying once you’ve bought three."
      ]
    },
    {
      "cell_type": "code",
      "execution_count": null,
      "id": "2ca46cd1",
      "metadata": {
        "id": "2ca46cd1",
        "outputId": "f18995b1-8989-45fe-f7b8-43c2de9f9f5f",
        "colab": {
          "base_uri": "https://localhost:8080/"
        }
      },
      "outputs": [
        {
          "output_type": "stream",
          "name": "stdout",
          "text": [
            "Bought gala number 1\n",
            "Bought gala number 2\n",
            "Bought gala number 3\n",
            "Bought gala number 4\n",
            "Bought gala number 5\n",
            "Stop buying gala\n"
          ]
        }
      ],
      "source": [
        "for gala in range(10):\n",
        "    if gala == 5:\n",
        "        break  # Stop buying after 3\n",
        "    print(f\"Bought gala number {gala + 1}\")\n",
        "print('Stop buying gala')"
      ]
    },
    {
      "cell_type": "code",
      "execution_count": null,
      "id": "be704360",
      "metadata": {
        "id": "be704360",
        "outputId": "deca63ca-e68a-46ab-b94a-8a297c449889",
        "colab": {
          "base_uri": "https://localhost:8080/"
        }
      },
      "outputs": [
        {
          "output_type": "stream",
          "name": "stdout",
          "text": [
            "0\n",
            "1\n",
            "2\n",
            "3\n"
          ]
        }
      ],
      "source": [
        "number = 0\n",
        "\n",
        "while number < 5:\n",
        "    print(number)\n",
        "    if number == 3:\n",
        "        break  #stops the code execution at 3\n",
        "    number = number + 1"
      ]
    },
    {
      "cell_type": "code",
      "execution_count": null,
      "id": "e73b5e12",
      "metadata": {
        "id": "e73b5e12",
        "outputId": "8ed861cc-d9b8-4461-e5e5-86c719674f8d",
        "colab": {
          "base_uri": "https://localhost:8080/"
        }
      },
      "outputs": [
        {
          "output_type": "stream",
          "name": "stdout",
          "text": [
            "0\n",
            "1\n",
            "2\n",
            "3\n",
            "4\n",
            "No longer < 5\n"
          ]
        }
      ],
      "source": [
        "number = 0\n",
        "\n",
        "while number < 5:\n",
        "    print(number)\n",
        "    if number == 6:\n",
        "        break\n",
        "    number = number + 1\n",
        "else:\n",
        "    print('No longer < 5')"
      ]
    },
    {
      "cell_type": "markdown",
      "id": "7dade771",
      "metadata": {
        "id": "7dade771"
      },
      "source": [
        "#### 3.2 Continue\n",
        "\n",
        "`continue` is used to skip the current iteration of a loop and continue with the next one. Think of it as skipping some tasks in a list but not abandoning the whole list.\n",
        "\n",
        "**Example:**\n",
        "Imagine you are going through a list of students and want to skip over anyone named \"Uche\" when printing names."
      ]
    },
    {
      "cell_type": "code",
      "execution_count": null,
      "id": "ed810091",
      "metadata": {
        "id": "ed810091",
        "outputId": "b6103f61-c047-4e63-b2c0-3008a7d7478f",
        "colab": {
          "base_uri": "https://localhost:8080/"
        }
      },
      "outputs": [
        {
          "output_type": "stream",
          "name": "stdout",
          "text": [
            "Processing Bola's record.\n",
            "Processing Ada's record.\n",
            "Processing Emeka's record.\n"
          ]
        }
      ],
      "source": [
        "students = [\"Bola\", \"Uche\", \"Ada\", \"Emeka\"]\n",
        "\n",
        "for student in students:\n",
        "    if student == \"Uche\":\n",
        "        continue  # Skip Uche\n",
        "    print(f\"Processing {student}'s record.\")"
      ]
    },
    {
      "cell_type": "markdown",
      "id": "d9df098f",
      "metadata": {
        "id": "d9df098f"
      },
      "source": [
        "In this case, the loop skips over \"Uche\" and continues processing the other students."
      ]
    },
    {
      "cell_type": "code",
      "execution_count": null,
      "id": "dcfdfc74",
      "metadata": {
        "id": "dcfdfc74",
        "outputId": "ea7db39b-16ee-4031-c6a6-3b263b00346e",
        "colab": {
          "base_uri": "https://localhost:8080/"
        }
      },
      "outputs": [
        {
          "output_type": "stream",
          "name": "stdout",
          "text": [
            "1\n",
            "2\n",
            "4\n",
            "5\n",
            "No longer <5\n"
          ]
        }
      ],
      "source": [
        "number = 0\n",
        "\n",
        "while number < 5:\n",
        "    number = number + 1\n",
        "    if number == 3:\n",
        "        continue\n",
        "    print(number)\n",
        "else:\n",
        "    print('No longer <5')"
      ]
    },
    {
      "cell_type": "code",
      "execution_count": null,
      "id": "8f24d9f8",
      "metadata": {
        "id": "8f24d9f8"
      },
      "outputs": [],
      "source": [
        "## WARNING - INFINITE LOOP - your tab might crash\n",
        "#number = 0\n",
        "\n",
        "#while number < 5:\n",
        "    #print(number)\n",
        "\n",
        "    #if number == 3:\n",
        "        #continue  #anything beneath this continue functgion is not executed, it just keeps going back to the start of the for loop and results in an infinite loop\n",
        "    #number = number +1\n",
        "#else:\n",
        "    #print('No longer < 5')"
      ]
    },
    {
      "cell_type": "markdown",
      "id": "372a3e92",
      "metadata": {
        "id": "372a3e92"
      },
      "source": [
        "#### 3.3 Pass\n",
        "\n",
        "`pass` is used when you want to skip or ignore certain parts of your code without causing any errors. It’s like saying \"I don’t want to do anything here right now, but I’ll come back to it later.\"\n",
        "\n",
        "**Example:**\n",
        "Imagine you are listing names and don’t want to perform any action for a particular person, but you don’t want the program to break:"
      ]
    },
    {
      "cell_type": "code",
      "execution_count": null,
      "id": "fb520ea4",
      "metadata": {
        "id": "fb520ea4",
        "outputId": "b5192809-013d-40aa-b1ca-0cc14ffa81b4",
        "colab": {
          "base_uri": "https://localhost:8080/"
        }
      },
      "outputs": [
        {
          "output_type": "stream",
          "name": "stdout",
          "text": [
            "Processing Bola's record.\n",
            "Processing Ada's record.\n",
            "Processing Emeka's record.\n"
          ]
        }
      ],
      "source": [
        "names = [\"Bola\", \"Uche\", \"Ada\", \"Emeka\"]\n",
        "\n",
        "for name in names:\n",
        "    if name == \"Uche\":\n",
        "        pass  # Do nothing for Uche\n",
        "    else:\n",
        "        print(f\"Processing {name}'s record.\")"
      ]
    },
    {
      "cell_type": "markdown",
      "id": "60ed336e",
      "metadata": {
        "id": "60ed336e"
      },
      "source": [
        "In this case, when the loop encounters \"Uche,\" it simply does nothing and moves to the next name in the list. The `pass` statement helps to keep the code running smoothly"
      ]
    },
    {
      "cell_type": "markdown",
      "id": "7895cf90",
      "metadata": {
        "id": "7895cf90"
      },
      "source": [
        "#### 3.4 Match\n",
        "\n",
        "The `match` statement is a new addition to Python, it allows you to match a value against several patterns and execute code based on the matching pattern.\n",
        "\n",
        "In simple terms, it helps you check a value and choose what to do based on that value. It's like asking a series of \"yes or no\" questions until you find the right answer.\n",
        "\n",
        "**Explanation:**\n",
        "- **`match`**: This evaluates the value of an expression and compares it to several `case` patterns. In simple terms it is used to compare one value with several options to see which one it matches.\n",
        "- **`case`**: Each `case` checks whether the value matches a specific pattern. If a match is found, the code block is executed. Thus:  If the value fits a case, the code inside that case will run\n",
        "\n",
        "**Example:**\n",
        "Imagine you are grading students in a Nigerian university based on their scores:"
      ]
    },
    {
      "cell_type": "code",
      "execution_count": null,
      "id": "01173542",
      "metadata": {
        "id": "01173542",
        "outputId": "98fea3ce-9bc4-42f6-8a2c-f8e70ee323ec"
      },
      "outputs": [
        {
          "name": "stdout",
          "output_type": "stream",
          "text": [
            "Good job! You scored a B.\n"
          ]
        }
      ],
      "source": [
        "grade = \"B\"\n",
        "\n",
        "match grade:\n",
        "    case \"A\":\n",
        "        print(\"Excellent! You scored an A.\")\n",
        "    case \"B\":\n",
        "        print(\"Good job! You scored a B.\")\n",
        "    case \"C\":\n",
        "        print(\"You scored a C. Try to improve.\")\n",
        "    case _:\n",
        "        print(\"Failed. Better luck next time.\")"
      ]
    },
    {
      "cell_type": "markdown",
      "id": "07c18144",
      "metadata": {
        "id": "07c18144"
      },
      "source": [
        "Control flow structures are essential for making decisions in Python programming. They help you implement logic, repeat actions, and manage how your program runs. By understanding these structures, you'll build a strong foundation for creating more complex programs that solve everyday problems."
      ]
    },
    {
      "cell_type": "markdown",
      "id": "cf41db13",
      "metadata": {
        "id": "cf41db13"
      },
      "source": [
        "## Task\n",
        "\n",
        "Create a quiz game with multiple-choice questions, branching based on user input and calculating scores."
      ]
    },
    {
      "cell_type": "code",
      "execution_count": null,
      "id": "184c7c4d",
      "metadata": {
        "id": "184c7c4d",
        "outputId": "35bd8e67-43ed-4c88-ce1c-b86133e31f3a",
        "colab": {
          "base_uri": "https://localhost:8080/"
        }
      },
      "outputs": [
        {
          "output_type": "stream",
          "name": "stdout",
          "text": [
            "What has long neck and likes to eat leaves\n",
            "Chicken\n",
            "Wrong answer, you have  0 points\n"
          ]
        }
      ],
      "source": [
        "# 1st attempt - testing a theory\n",
        "\n",
        "Question = 'What has long neck and likes to eat leaves'\n",
        "print(Question)\n",
        "\n",
        "Answer = str(input())\n",
        "\n",
        "if Answer == 'Giraffe':\n",
        "    point = 1\n",
        "    print('Correct answer, you have: ', point, 'point')\n",
        "else:\n",
        "    print('Wrong answer, you have ', 0, 'points')"
      ]
    },
    {
      "cell_type": "code",
      "execution_count": null,
      "id": "e3a952c0",
      "metadata": {
        "id": "e3a952c0",
        "outputId": "7dfc2a02-0407-42e6-ba40-d8e4cfbf2da5",
        "colab": {
          "base_uri": "https://localhost:8080/"
        }
      },
      "outputs": [
        {
          "output_type": "stream",
          "name": "stdout",
          "text": [
            "What has long neck and likes to eat leaves?\n",
            "Giraffe\n",
            "Correct answer, you have:  1 point\n",
            "What animal can fly?\n",
            "Bird\n",
            "Correct! You have  2 points\n",
            "What is a group of lions called?\n",
            "Pride\n",
            "Correct! Total points:  3\n"
          ]
        }
      ],
      "source": [
        "#2nd attempt - expanding the theory\n",
        "#this worked but not as much\n",
        "\n",
        "#Testing 1\n",
        "Questions = ['What has long neck and likes to eat leaves?', 'What animal can fly?', 'What is a group of lions called?']\n",
        "\n",
        "for question in Questions:\n",
        "    print(question)\n",
        "    Answer = str(input())\n",
        "\n",
        "    if Answer == 'Giraffe':\n",
        "        point = 1\n",
        "        print('Correct answer, you have: ', point, 'point')\n",
        "\n",
        "    elif Answer == 'Bird':\n",
        "        point = point+1\n",
        "        print('Correct! You have ', point, 'points')\n",
        "\n",
        "    elif Answer == 'Pride':\n",
        "        point = point+1\n",
        "        print('Correct! Total points: ', point)\n",
        "\n",
        "    else:\n",
        "        print('Wrong answer, you have ', 0, 'points')"
      ]
    },
    {
      "cell_type": "code",
      "execution_count": null,
      "id": "12269840",
      "metadata": {
        "id": "12269840",
        "outputId": "36f3531c-3b1a-4523-b8ee-50e74e020b32"
      },
      "outputs": [
        {
          "name": "stdout",
          "output_type": "stream",
          "text": [
            "What has long neck and likes to eat leaves?\n",
            "Rabbit\n",
            "Wrong answer, you have  0 points\n",
            "What animal can fly?\n",
            "Dove\n",
            "Wrong answer, you have  0 points\n",
            "What is a group of lions called?\n",
            "Pride\n",
            "Correct! Total points:  3\n"
          ]
        }
      ],
      "source": [
        "#2nd attempt\n",
        "\n",
        "#Testing 2 - this iteration didn't work as expected\n",
        "\n",
        "Questions = ['What has long neck and likes to eat leaves?', 'What animal can fly?', 'What is a group of lions called?']\n",
        "\n",
        "for question in Questions:\n",
        "    print(question)\n",
        "    Answer = str(input())\n",
        "\n",
        "    if Answer == 'Giraffe':\n",
        "        point = 1\n",
        "        print('Correct answer, you have: ', point, 'point')\n",
        "\n",
        "    elif Answer == 'Bird':\n",
        "        point = point+1\n",
        "        print('Correct! You have ', point, 'points')\n",
        "\n",
        "    elif Answer == 'Pride':\n",
        "        point = point+1\n",
        "        print('Correct! Total points: ', point)\n",
        "\n",
        "    else:\n",
        "        print('Wrong answer, you have ', 0, 'points')"
      ]
    },
    {
      "cell_type": "code",
      "execution_count": null,
      "id": "cd1edafa",
      "metadata": {
        "id": "cd1edafa",
        "outputId": "3d2bdc7e-1fe8-42d4-d317-ebfd24e408e0"
      },
      "outputs": [
        {
          "name": "stdout",
          "output_type": "stream",
          "text": [
            "\n",
            "What has long neck and likes to eat leaves?\n",
            "Rabbit\n",
            "\n",
            "Wrong answer!\n",
            "\n",
            "What animal can fly?\n",
            "Dove\n",
            "\n",
            "Wrong answer!\n",
            "\n",
            "What is a group of lions called?\n",
            "School\n",
            "\n",
            "Wrong answer!\n",
            "\n",
            "\n",
            "Total points = 0\n"
          ]
        }
      ],
      "source": [
        "#3rd attempt\n",
        "\n",
        "# Though a bit longer, it worked\n",
        "# Intialized the score variable outside the for loop\n",
        "# Calculated the total score for each question and printed the total score outside the for loop\n",
        "\n",
        "\n",
        "Questions = ['What has long neck and likes to eat leaves?', 'What animal can fly?', 'What is a group of lions called?']\n",
        "\n",
        "score = 0\n",
        "\n",
        "for question in Questions:\n",
        "    print(f'\\n{question}')\n",
        "    Answer = str(input())\n",
        "\n",
        "    if Answer == 'Giraffe':\n",
        "        point = 1\n",
        "        score += 1\n",
        "        print('\\nCorrect! ', point, 'point')\n",
        "\n",
        "    elif Answer == 'Bird':\n",
        "        point = 1\n",
        "        score += 1\n",
        "        print('\\nCorrect! ', point, 'points')\n",
        "\n",
        "    elif Answer == 'Pride':\n",
        "        point = 1\n",
        "        score += 1\n",
        "        print('\\nCorrect! Total point ', point)\n",
        "\n",
        "    else:\n",
        "        print('\\nWrong answer!')\n",
        "print(f'\\n\\nTotal points = {score}')"
      ]
    },
    {
      "cell_type": "code",
      "execution_count": null,
      "id": "4daa8e79",
      "metadata": {
        "id": "4daa8e79",
        "outputId": "64d5dac2-45eb-411f-c73d-577df2e89c31"
      },
      "outputs": [
        {
          "name": "stdout",
          "output_type": "stream",
          "text": [
            "\n",
            "What has long neck and likes to eat leaves?\n",
            "Giraffe\n",
            "\n",
            "Correct!  1 point\n",
            "\n",
            "What animal can fly?\n",
            "Bird\n",
            "\n",
            "Correct!  1 points\n",
            "\n",
            "What is a group of lions called?\n",
            "School\n",
            "\n",
            "Wrong answer!\n",
            "\n",
            "\n",
            "Total points = 2\n"
          ]
        }
      ],
      "source": [
        "\n",
        "Questions = ['What has long neck and likes to eat leaves?', 'What animal can fly?', 'What is a group of lions called?']\n",
        "\n",
        "score = 0\n",
        "\n",
        "for question in Questions:\n",
        "    print(f'\\n{question}')\n",
        "    Answer = str(input())\n",
        "\n",
        "    if Answer == 'Giraffe':\n",
        "        point = 1\n",
        "        score += 1\n",
        "        print('\\nCorrect! ', point, 'point')\n",
        "\n",
        "    elif Answer == 'Bird':\n",
        "        point = 1\n",
        "        score += 1\n",
        "        print('\\nCorrect! ', point, 'points')\n",
        "\n",
        "    elif Answer == 'Pride':\n",
        "        point = 1\n",
        "        score += 1\n",
        "        print('\\nCorrect! Total point ', point)\n",
        "\n",
        "    else:\n",
        "        print('\\nWrong answer!')\n",
        "print(f'\\n\\nTotal points = {score}')"
      ]
    }
  ],
  "metadata": {
    "kernelspec": {
      "display_name": "Python 3",
      "language": "python",
      "name": "python3"
    },
    "language_info": {
      "codemirror_mode": {
        "name": "ipython",
        "version": 3
      },
      "file_extension": ".py",
      "mimetype": "text/x-python",
      "name": "python",
      "nbconvert_exporter": "python",
      "pygments_lexer": "ipython3",
      "version": "3.9.6"
    },
    "colab": {
      "provenance": [],
      "include_colab_link": true
    }
  },
  "nbformat": 4,
  "nbformat_minor": 5
}